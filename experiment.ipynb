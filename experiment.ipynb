{
 "cells": [
  {
   "cell_type": "markdown",
   "metadata": {
    "collapsed": false
   },
   "source": [
    "# Environment Import"
   ]
  },
  {
   "cell_type": "code",
   "execution_count": 24,
   "metadata": {},
   "outputs": [],
   "source": [
    "import time\n",
    "\n",
    "import matplotlib.pyplot as plt\n",
    "import pandas as pd\n",
    "from pyspark.ml.evaluation import RegressionEvaluator\n",
    "from pyspark.ml.feature import OneHotEncoder, StringIndexer\n",
    "from pyspark.ml.feature import VectorAssembler\n",
    "from pyspark.ml.linalg import Vectors, VectorUDT\n",
    "from pyspark.ml.recommendation import ALS\n",
    "from pyspark.ml.regression import RandomForestRegressor\n",
    "from pyspark.sql import SparkSession\n",
    "from pyspark.sql import functions as F\n",
    "from pyspark.sql.functions import col, collect_list, split, explode, avg, udf, expr"
   ]
  },
  {
   "cell_type": "markdown",
   "metadata": {},
   "source": [
    "# Part 1: Init Spark Session with Ratings"
   ]
  },
  {
   "cell_type": "code",
   "execution_count": 54,
   "metadata": {
    "ExecuteTime": {
     "end_time": "2023-11-18T04:44:13.970800Z",
     "start_time": "2023-11-18T04:43:57.362997Z"
    },
    "collapsed": false
   },
   "outputs": [
    {
     "name": "stderr",
     "output_type": "stream",
     "text": [
      "                                                                                \r"
     ]
    },
    {
     "name": "stdout",
     "output_type": "stream",
     "text": [
      "DataFrame[userId: int, movieId: int, rating: double, timestamp: int]\n",
      "+------+-------+------+----------+\n",
      "|userId|movieId|rating| timestamp|\n",
      "+------+-------+------+----------+\n",
      "|     1|    296|   5.0|1147880044|\n",
      "|     1|    306|   3.5|1147868817|\n",
      "|     1|    307|   5.0|1147868828|\n",
      "|     1|    665|   5.0|1147878820|\n",
      "|     1|    899|   3.5|1147868510|\n",
      "|     1|   1088|   4.0|1147868495|\n",
      "|     1|   1175|   3.5|1147868826|\n",
      "|     1|   1217|   3.5|1147878326|\n",
      "|     1|   1237|   5.0|1147868839|\n",
      "|     1|   1250|   4.0|1147868414|\n",
      "|     1|   1260|   3.5|1147877857|\n",
      "|     1|   1653|   4.0|1147868097|\n",
      "|     1|   2011|   2.5|1147868079|\n",
      "|     1|   2012|   2.5|1147868068|\n",
      "|     1|   2068|   2.5|1147869044|\n",
      "|     1|   2161|   3.5|1147868609|\n",
      "|     1|   2351|   4.5|1147877957|\n",
      "|     1|   2573|   4.0|1147878923|\n",
      "|     1|   2632|   5.0|1147878248|\n",
      "|     1|   2692|   5.0|1147869100|\n",
      "+------+-------+------+----------+\n",
      "only showing top 20 rows\n",
      "\n"
     ]
    }
   ],
   "source": [
    "def init_spark_session_with_ratings():\n",
    "    \"\"\"\n",
    "    Reads the ratings file and returns the SparkSession and DataFrame created from the file.\n",
    "\n",
    "    Returns:\n",
    "    SparkSession, DataFrame: The Spark session and the DataFrame created from the ratings file.\n",
    "    \"\"\"\n",
    "\n",
    "    # Initialize Spark session\n",
    "    spark = SparkSession.builder \\\n",
    "        .appName(\"MovieRecommend\") \\\n",
    "        .config(\"spark.executor.memory\", \"8g\") \\\n",
    "        .config(\"spark.executor.cores\", \"4\") \\\n",
    "        .config(\"spark.executor.instances\", \"4\") \\\n",
    "        .config(\"spark.driver.memory\", \"8G\") \\\n",
    "        .getOrCreate()\n",
    "\n",
    "    ratings_df = spark.read.csv(\"dataset/ratings.csv\", header=True, inferSchema=True)\n",
    "    print(ratings_df)\n",
    "    ratings_df.show()\n",
    "\n",
    "    return spark, ratings_df\n",
    "\n",
    "\n",
    "spark, ratings_df = init_spark_session_with_ratings()"
   ]
  },
  {
   "cell_type": "markdown",
   "metadata": {
    "collapsed": false
   },
   "source": [
    "# Part 2: Basic Recommend with Visualization"
   ]
  },
  {
   "cell_type": "code",
   "execution_count": 55,
   "metadata": {
    "ExecuteTime": {
     "end_time": "2023-11-18T04:44:48.683341Z",
     "start_time": "2023-11-18T04:44:16.313299Z"
    },
    "collapsed": false
   },
   "outputs": [
    {
     "name": "stderr",
     "output_type": "stream",
     "text": [
      "[Stage 2774:==================================================>   (16 + 1) / 17]\r"
     ]
    },
    {
     "name": "stdout",
     "output_type": "stream",
     "text": [
      "+-------+--------------------+--------------------+----------+--------------------+\n",
      "|movieId|               title|              genres|avg_rating|                tags|\n",
      "+-------+--------------------+--------------------+----------+--------------------+\n",
      "| 133307|Time Zero: The La...|       [Documentary]|       5.0|          [business]|\n",
      "| 136988|The Good Mistress...|             [Drama]|       5.0|          [tv movie]|\n",
      "| 130206|Picture Mommy Dea...|            [Horror]|       5.0|[doll, fire, hawk...|\n",
      "| 147615|The Battle of Lov...|[(no genres listed)]|       5.0|[Troma Entertainm...|\n",
      "| 116243|    Convicted (1931)|   [Drama, Thriller]|       5.0|          [suspense]|\n",
      "+-------+--------------------+--------------------+----------+--------------------+\n",
      "\n"
     ]
    },
    {
     "name": "stderr",
     "output_type": "stream",
     "text": [
      "                                                                                \r"
     ]
    }
   ],
   "source": [
    "def basic_recommend(spark, ratings_df):\n",
    "    \"\"\"\n",
    "    Performs basic movie recommendation based on the average rating.\n",
    "\n",
    "    Args:\n",
    "    ratings_df (DataFrame): The DataFrame containing movie ratings.\n",
    "    \"\"\"\n",
    "\n",
    "    # Compute the average rating for each movie\n",
    "    avg_ratings_df = ratings_df.groupBy(\"movieId\").agg(avg(\"rating\").alias(\"avg_rating\"))\n",
    "\n",
    "    # Join with the movies DataFrame to get the movie titles and genres\n",
    "    movies_df = spark.read.csv(\"dataset/movies.csv\", header=True, inferSchema=True)\n",
    "    joined_df = avg_ratings_df.join(movies_df, \"movieId\").withColumn(\"genres\", split(col(\"genres\"), \"\\\\|\"))\n",
    "\n",
    "    # Join with the tags DataFrame to get the movie tags, and aggregate tags into a single string for each movie\n",
    "    tags_df = spark.read.csv(\"dataset/tags.csv\", header=True, inferSchema=True)\n",
    "    joined_df = joined_df.join(tags_df, \"movieId\").withColumn(\"tag\", col(\"tag\")). \\\n",
    "        groupBy(\"movieId\", \"title\", \"genres\", \"avg_rating\"). \\\n",
    "        agg(expr(\"concat('[', concat_ws(', ', collect_list(tag)), ']')\").alias(\"tags\")\n",
    "            )\n",
    "\n",
    "    # Retrieve top 5 movies based on average ratings\n",
    "    top_movies = joined_df.orderBy(col(\"avg_rating\"), ascending=False).limit(5)\n",
    "    top_movies.show()\n",
    "\n",
    "    return top_movies\n",
    "\n",
    "\n",
    "top_movies = basic_recommend(spark, ratings_df)"
   ]
  },
  {
   "cell_type": "code",
   "execution_count": 56,
   "metadata": {},
   "outputs": [
    {
     "name": "stderr",
     "output_type": "stream",
     "text": [
      "                                                                                \r"
     ]
    },
    {
     "data": {
      "image/png": "[encoded data removed]",
      "text/plain": [
       "<Figure size 800x800 with 1 Axes>"
      ]
     },
     "metadata": {},
     "output_type": "display_data"
    }
   ],
   "source": [
    "def basic_recommend_visualization(top_movies):\n",
    "    # Convert Spark DataFrame to Pandas DataFrame for plotting\n",
    "    top_movies_pd = top_movies.toPandas()\n",
    "\n",
    "    # Define colors for each movie (you can customize this)\n",
    "    colors = ['blue', 'green', 'red', 'purple', 'orange']\n",
    "\n",
    "    # Create a figure and axis\n",
    "    fig, ax = plt.subplots(figsize=(8, 8))\n",
    "\n",
    "    # Plot each movie as a separate bar\n",
    "    for i, row in enumerate(top_movies_pd.itertuples(), start=1):\n",
    "        movie_id = row.movieId\n",
    "        movie_title = row.title\n",
    "        avg_rating = row.avg_rating  # Use the column name 'avg_rating'\n",
    "        color = colors[i - 1]\n",
    "\n",
    "        # Plot the bar with the movie title as label\n",
    "        ax.bar(str(movie_id), avg_rating, width=0.5, color=color, label=movie_title)\n",
    "\n",
    "    # Set labels and title\n",
    "    ax.set_xlabel('MovieID')\n",
    "    ax.set_ylabel('Average Rating')\n",
    "    ax.set_title('Top 5 Movies by Average Rating')\n",
    "\n",
    "    # Ensure that the top of the bars are within the visible range of the plot\n",
    "    plt.ylim(0, 5.1)\n",
    "\n",
    "    # Rotate movie titles for better visibility\n",
    "    plt.xticks()\n",
    "\n",
    "    # Add a legend to explain the colors\n",
    "    ax.legend(loc='upper center', bbox_to_anchor=(0.5, 1.3))\n",
    "\n",
    "    # Show the plot\n",
    "    plt.tight_layout()\n",
    "    plt.show()\n",
    "\n",
    "    # Close the plt object to free memory\n",
    "    plt.close()\n",
    "\n",
    "\n",
    "basic_recommend_visualization(top_movies)"
   ]
  },
  {
   "cell_type": "markdown",
   "metadata": {
    "collapsed": false
   },
   "source": [
    "# Part3: ALS Recommend with Visualization"
   ]
  },
  {
   "cell_type": "markdown",
   "metadata": {},
   "source": [
    "## 3.1 Optimal Parameters Chosen"
   ]
  },
  {
   "cell_type": "code",
   "execution_count": 34,
   "metadata": {
    "ExecuteTime": {
     "end_time": "2023-11-18T04:45:16.141700Z",
     "start_time": "2023-11-18T04:44:50.822066Z"
    },
    "collapsed": false
   },
   "outputs": [
    {
     "name": "stderr",
     "output_type": "stream",
     "text": [
      "23/11/30 05:57:49 WARN InstanceBuilder: Failed to load implementation from:dev.ludovic.netlib.blas.JNIBLAS\n",
      "[Stage 1420:==================================================>   (16 + 1) / 17]\r"
     ]
    },
    {
     "name": "stdout",
     "output_type": "stream",
     "text": [
      "   rank  maxIter  regParam      RMSE       MAE  Training Time\n",
      "0    10        5      0.01  0.825941  0.633159      50.297239\n",
      "1    10        5      0.10  0.836363  0.657834      41.593888\n",
      "2    10       10      0.01  0.809125  0.616715      50.678657\n",
      "3    10       10      0.10  0.816359  0.635026      47.101259\n",
      "4    20        5      0.01  0.827361  0.630171      52.242215\n",
      "5    20        5      0.10  0.830011  0.652032      51.620835\n",
      "6    20       10      0.01  0.817267  0.618935      73.576302\n",
      "7    20       10      0.10  0.811902  0.631312      64.943924\n",
      "Best Parameters: (10, 10, 0.01)\n",
      "Best RMSE: inf\n"
     ]
    },
    {
     "name": "stderr",
     "output_type": "stream",
     "text": [
      "                                                                                \r"
     ]
    }
   ],
   "source": [
    "def als_recommend(spark, ratings_df):\n",
    "    \"\"\"\n",
    "    Performs movie recommendations using the ALS (Alternating Least Squares).\n",
    "\n",
    "    Args:\n",
    "    spark (SparkSession): SparkSession object for DataFrame operations.\n",
    "    ratings_df (DataFrame): The DataFrame containing movie ratings.\n",
    "    \"\"\"\n",
    "\n",
    "    # Split the dataset into training and test sets\n",
    "    (training, test) = ratings_df.randomSplit([0.7, 0.3])\n",
    "\n",
    "    # Create an ALS model\n",
    "    als = ALS(userCol=\"userId\", itemCol=\"movieId\", ratingCol=\"rating\", coldStartStrategy=\"drop\", nonnegative=True)\n",
    "\n",
    "    # Define a grid of parameters for tuning\n",
    "    param_grid = {\n",
    "        \"rank\": [10, 20],\n",
    "        \"maxIter\": [5, 10],\n",
    "        \"regParam\": [0.01, 0.1]\n",
    "    }\n",
    "\n",
    "    # Define multiple evaluators\n",
    "    rmse_evaluator = RegressionEvaluator(metricName=\"rmse\", labelCol=\"rating\", predictionCol=\"prediction\")\n",
    "    mae_evaluator = RegressionEvaluator(metricName=\"mae\", labelCol=\"rating\", predictionCol=\"prediction\")\n",
    "\n",
    "    # Variables to keep track of the best model and its performance\n",
    "    best_rmse = float('inf')\n",
    "    best_error = float('inf')\n",
    "    best_params = None\n",
    "    results = []\n",
    "\n",
    "    # Grid search through the parameter space\n",
    "    for rank in param_grid[\"rank\"]:\n",
    "        for max_iter in param_grid[\"maxIter\"]:\n",
    "            for reg_param in param_grid[\"regParam\"]:\n",
    "                start_time = time.time()\n",
    "\n",
    "                # Set model parameters\n",
    "                als.setParams(rank=rank, maxIter=max_iter, regParam=reg_param)\n",
    "                \n",
    "                # Fit ALS model on training data\n",
    "                model = als.fit(training)\n",
    "                \n",
    "                # Evaluate the model on test data\n",
    "                predictions = model.transform(test)\n",
    "                rmse = rmse_evaluator.evaluate(predictions)\n",
    "                mae = mae_evaluator.evaluate(predictions)\n",
    "                training_time = time.time() - start_time\n",
    "\n",
    "                # Append results\n",
    "                results.append({\n",
    "                    \"rank\": rank, \"maxIter\": max_iter, \"regParam\": reg_param,\n",
    "                    \"RMSE\": rmse, \"MAE\": mae, \"Training Time\": training_time\n",
    "                })\n",
    "\n",
    "                # Update best model\n",
    "                if rmse < best_rmse:\n",
    "                    best_rmse = rmse\n",
    "                    best_params = (rank, max_iter, reg_param)\n",
    "\n",
    "    # Save the results DataFrame to a CSV file\n",
    "    results_df = pd.DataFrame(results)\n",
    "    print(results_df)\n",
    "\n",
    "    # Display the best model parameters and its RMSE\n",
    "    print(\"Best Parameters:\", best_params)\n",
    "    print(\"Best RMSE:\", best_error)\n",
    "\n",
    "\n",
    "als_recommend(spark, ratings_df)"
   ]
  },
  {
   "cell_type": "markdown",
   "metadata": {},
   "source": [
    "## 3.2 ALS Recommend With Optimal Parameters"
   ]
  },
  {
   "cell_type": "code",
   "execution_count": 57,
   "metadata": {},
   "outputs": [
    {
     "name": "stderr",
     "output_type": "stream",
     "text": [
      "                                                                                \r"
     ]
    },
    {
     "name": "stdout",
     "output_type": "stream",
     "text": [
      "Root Mean Square Error (RMSE): 0.8088804712280285\n",
      "Mean Absolute Error (MAE): 0.613862796057211\n"
     ]
    },
    {
     "name": "stderr",
     "output_type": "stream",
     "text": [
      "[Stage 3012:====================================================>(99 + 1) / 100]\r"
     ]
    },
    {
     "name": "stdout",
     "output_type": "stream",
     "text": [
      "+------+---------------------------------------------------------------------------------------------------------+\n",
      "|userId|recommendations                                                                                          |\n",
      "+------+---------------------------------------------------------------------------------------------------------+\n",
      "|31    |[{174403, 6.799754}, {128874, 6.0103164}, {158888, 5.9108367}, {128536, 5.7379894}, {176235, 5.615964}]  |\n",
      "|34    |[{139036, 10.953608}, {86087, 10.468342}, {182871, 10.198843}, {157969, 10.101481}, {166920, 9.925747}]  |\n",
      "|53    |[{144352, 12.571205}, {131112, 12.476629}, {174403, 12.081268}, {176235, 11.993128}, {127252, 11.853505}]|\n",
      "|65    |[{196771, 14.163181}, {167864, 13.879495}, {132036, 12.787128}, {176875, 12.488031}, {196557, 12.380905}]|\n",
      "|78    |[{200568, 11.199734}, {174403, 10.632326}, {116847, 9.919054}, {127252, 9.190133}, {59905, 9.091966}]    |\n",
      "|85    |[{144352, 14.565557}, {125938, 12.8647175}, {84832, 12.596881}, {74161, 12.273029}, {6914, 12.105162}]   |\n",
      "|108   |[{84504, 8.935317}, {26670, 8.481892}, {160880, 8.452795}, {51605, 8.446477}, {147280, 8.422648}]        |\n",
      "|133   |[{178049, 11.289465}, {116847, 10.436394}, {134037, 9.718054}, {146501, 9.340438}, {81688, 9.303334}]    |\n",
      "|137   |[{146501, 11.313869}, {199350, 10.746073}, {135585, 10.725844}, {116847, 10.430431}, {144352, 10.254389}]|\n",
      "|148   |[{138580, 7.508183}, {98693, 7.4781666}, {176179, 7.080717}, {151410, 7.080717}, {176893, 6.832906}]     |\n",
      "|155   |[{151773, 7.6002584}, {154624, 6.859149}, {186159, 6.818034}, {178027, 6.8168483}, {141532, 6.636148}]   |\n",
      "|193   |[{173859, 13.28883}, {176875, 13.258945}, {154624, 13.069676}, {174403, 12.102652}, {182269, 11.547886}] |\n",
      "|211   |[{74159, 9.338943}, {138580, 9.15125}, {139036, 9.054671}, {128618, 8.883919}, {178027, 8.776086}]       |\n",
      "|243   |[{153756, 6.5401382}, {198657, 6.4708996}, {153184, 6.3608713}, {118983, 6.3489084}, {86057, 6.180091}]  |\n",
      "|251   |[{86500, 12.365039}, {142943, 10.593939}, {175621, 10.11768}, {173113, 10.080618}, {149522, 9.751299}]   |\n",
      "|255   |[{154624, 8.157257}, {176179, 6.9464045}, {151410, 6.9464045}, {192689, 6.824482}, {176893, 6.803035}]   |\n",
      "|296   |[{138580, 7.1797833}, {98693, 6.304338}, {32354, 6.295639}, {151277, 6.135354}, {119770, 6.079833}]      |\n",
      "|321   |[{154624, 9.619537}, {145992, 8.000185}, {162436, 7.7133713}, {168314, 7.6005697}, {176179, 7.371341}]   |\n",
      "|322   |[{139036, 9.8401}, {128618, 9.286475}, {167524, 7.501828}, {144352, 7.4488225}, {179373, 7.405696}]      |\n",
      "|362   |[{174743, 9.843798}, {160066, 9.453496}, {144700, 9.432312}, {114834, 8.65794}, {91991, 8.480346}]       |\n",
      "+------+---------------------------------------------------------------------------------------------------------+\n",
      "only showing top 20 rows\n",
      "\n"
     ]
    },
    {
     "name": "stderr",
     "output_type": "stream",
     "text": [
      "                                                                                \r"
     ]
    }
   ],
   "source": [
    "def als_recommend_best(spark, ratings_df):\n",
    "    \"\"\"\n",
    "    Performs movie recommendations using the ALS (Alternating Least Squares) model with optimal parameters.\n",
    "\n",
    "    Args:\n",
    "    spark (SparkSession): SparkSession object for DataFrame operations.\n",
    "    ratings_df (DataFrame): The DataFrame containing movie ratings.\n",
    "    \"\"\"\n",
    "\n",
    "    # Split the dataset into training and test sets\n",
    "    (training, test) = ratings_df.randomSplit([0.7, 0.3])\n",
    "\n",
    "    # Define multiple evaluators\n",
    "    rmse_evaluator = RegressionEvaluator(metricName=\"rmse\", labelCol=\"rating\", predictionCol=\"prediction\")\n",
    "    mae_evaluator = RegressionEvaluator(metricName=\"mae\", labelCol=\"rating\", predictionCol=\"prediction\")\n",
    "\n",
    "    # Create an ALS model\n",
    "    als = ALS(rank=10, maxIter=10, regParam=0.01, userCol=\"userId\", itemCol=\"movieId\", ratingCol=\"rating\", coldStartStrategy=\"drop\")\n",
    "   \n",
    "    # Fit ALS model on training data\n",
    "    model = als.fit(training)\n",
    "\n",
    "    # Evaluate the model on test data\n",
    "    predictions = model.transform(test)\n",
    "    rmse = rmse_evaluator.evaluate(predictions)\n",
    "    mae = mae_evaluator.evaluate(predictions)\n",
    "    print(f\"Root Mean Square Error (RMSE): {rmse}\")\n",
    "    print(f\"Mean Absolute Error (MAE): {mae}\")\n",
    "\n",
    "    # Generate top 5 movie recommendations for each user using the best model\n",
    "    recommendations = model.recommendForAllUsers(5)\n",
    "    recommendations.show(truncate=False)\n",
    "    \n",
    "    return recommendations\n",
    "\n",
    "\n",
    "recommendations = als_recommend_best(spark, ratings_df)"
   ]
  },
  {
   "cell_type": "code",
   "execution_count": 67,
   "metadata": {},
   "outputs": [
    {
     "name": "stderr",
     "output_type": "stream",
     "text": [
      "                                                                                \r"
     ]
    },
    {
     "data": {
      "image/png": "[encoded data removed]",
      "text/plain": [
       "<Figure size 1200x800 with 1 Axes>"
      ]
     },
     "metadata": {},
     "output_type": "display_data"
    }
   ],
   "source": [
    "def als_recommend_visualization(recommendations):\n",
    "    # Explode the recommendations column\n",
    "    recs_exploded = recommendations.withColumn(\"rec_exp\", explode(\"recommendations\")).select(\"userId\", col(\"rec_exp.movieId\"), col(\"rec_exp.rating\"))\n",
    "    \n",
    "    # Join the exploded recommendations with movies\n",
    "    movies_df = spark.read.csv(\"dataset/movies.csv\", header=True, inferSchema=True)\n",
    "    recs_joined = recs_exploded.join(movies_df, \"movieId\").select(\"movieId\", \"userId\", \"title\", \"rating\")\n",
    "\n",
    "    # Collect the data to Pandas DataFrame\n",
    "    recs_pd = recs_joined.toPandas()\n",
    "\n",
    "    # Count the number of recommendations for each movie and get the top 5\n",
    "    top_movie_ids = recs_pd['movieId'].value_counts().head(5).index\n",
    "    top_movies = recs_pd[recs_pd['movieId'].isin(top_movie_ids)]\n",
    "    top_movies_count = top_movies['movieId'].value_counts()\n",
    "\n",
    "    # Get titles for the top movies\n",
    "    top_movies_titles = top_movies.drop_duplicates(subset='movieId').set_index('movieId')['title'].to_dict()\n",
    "\n",
    "    # Define custom colors for each bar\n",
    "    custom_colors = ['blue', 'green', 'red', 'purple', 'orange']\n",
    "\n",
    "    # Create a bar plot using Matplotlib\n",
    "    plt.figure(figsize=(12, 8))\n",
    "    ax = top_movies_count.plot(kind='bar', color=custom_colors)\n",
    "    plt.xlabel('Movie ID') \n",
    "    plt.ylabel('Number of Recommendations')\n",
    "    plt.title('Top 5 Recommended Movies by ALS Model')\n",
    "    \n",
    "    # Create a legend for the colors\n",
    "    labels = [top_movies_titles[movieId] for movieId in top_movie_ids]\n",
    "    handles = [plt.Rectangle((0,0),1,1, color=custom_colors[i], ec=\"k\") for i in range(len(custom_colors))]\n",
    "    plt.legend(handles, labels)\n",
    "    ax.set_xticklabels(top_movie_ids, rotation=45, ha='right')\n",
    "    plt.tight_layout()\n",
    "    plt.show()\n",
    "    plt.close()\n",
    "\n",
    "\n",
    "als_recommend_visualization(recommendations)"
   ]
  },
  {
   "cell_type": "markdown",
   "metadata": {
    "collapsed": false
   },
   "source": [
    "# Part 4: RF Recommend with Visualization"
   ]
  },
  {
   "cell_type": "code",
   "execution_count": null,
   "metadata": {},
   "outputs": [],
   "source": [
    "def feature_engineering(spark, ratings_df):\n",
    "    \"\"\"\n",
    "    Perform feature engineering for movie recommendations. This includes processing movie genres and tags,\n",
    "    and applying one-hot encoding.\n",
    "\n",
    "    Args:\n",
    "    spark (SparkSession): SparkSession object for DataFrame operations.\n",
    "    ratings_df (DataFrame): DataFrame containing movie ratings.\n",
    "\n",
    "    Returns:\n",
    "    DataFrame: A DataFrame with combined movie features ready for model training.\n",
    "    \"\"\"\n",
    "\n",
    "    # Converts a list of vectors into a single vector by summing up each dimension.\n",
    "    def sum_vectors(vectors):\n",
    "        return Vectors.dense(sum(v[0] for v in vectors))\n",
    "\n",
    "    sum_vectors_udf = udf(sum_vectors, VectorUDT())\n",
    "\n",
    "    # Load and preprocess datasets\n",
    "    movies_df = spark.read.csv(\"dataset/movies.csv\", header=True, inferSchema=True)    # movieId, title, genres\n",
    "    tags_df = spark.read.csv(\"dataset/tags.csv\", header=True, inferSchema=True)    # userId, movieId, tag, timestamp\n",
    "    print(\"Initial Movies DataFrame:\", movies_df.take(5))\n",
    "    print(\"Initial Tags DataFrame:\", tags_df.take(5))\n",
    "\n",
    "    # Process genres: split, explode, and one-hot encode\n",
    "    movies_df = movies_df.withColumn(\"split_genres\", split(col(\"genres\"), \"\\|\"))    # Split genres into individual genres\n",
    "    movies_exploded = movies_df.withColumn(\"genre\", explode(col(\"split_genres\")))   # Explode genres into new rows\n",
    "    genre_indexer = StringIndexer(inputCol=\"genre\", outputCol=\"genreIndex\")\n",
    "    indexed_genre = genre_indexer.fit(movies_exploded).transform(movies_exploded)\n",
    "    genre_encoder = OneHotEncoder(inputCol=\"genreIndex\", outputCol=\"genreVec\")\n",
    "    encoded_genre = genre_encoder.fit(indexed_genre).transform(indexed_genre)\n",
    "    print(\"Movies DataFrame after splitting genres:\", movies_df.take(5))\n",
    "    print(\"Movies DataFrame after splitting and exploding genres:\", movies_exploded.take(5))\n",
    "    print(\"Indexed Genre DataFrame:\", indexed_genre.take(5))\n",
    "    print(\"Encoded Genre DataFrame:\", encoded_genre.take(5))\n",
    "\n",
    "    # Aggregate the encoded genres back to movie level\n",
    "    genre_aggregated = encoded_genre.groupBy(\"movieId\").agg(collect_list(\"genreVec\").alias(\"genreVecList\"))\n",
    "    genre_aggregated = genre_aggregated.withColumn(\"genresVec\", sum_vectors_udf(\"genreVecList\"))\n",
    "    print(\"Aggregated Genre DataFrame:\", genre_aggregated.take(5))\n",
    "\n",
    "    # Process tags using StringIndexer + OneHotEncoder\n",
    "    tag_indexer = StringIndexer(inputCol=\"tag\", outputCol=\"tagIndex\")\n",
    "    tag_model = tag_indexer.fit(tags_df)\n",
    "    indexed_tags = tag_model.transform(tags_df)\n",
    "    tag_encoder = OneHotEncoder(inputCols=[\"tagIndex\"], outputCols=[\"tagVec\"])\n",
    "    tags_encoded = tag_encoder.fit(indexed_tags).transform(indexed_tags)\n",
    "    print(\"Indexed Tags DataFrame:\", indexed_tags.take(5))\n",
    "    print(\"Encoded Tags DataFrame:\", tags_encoded.take(5))\n",
    "\n",
    "    # Add a new column 'label' based on the condition\n",
    "    ratings_df = ratings_df.withColumn('label', F.when(F.col('rating') >= 3.5, 2).otherwise(3))\n",
    "\n",
    "    def parse_year(title):\n",
    "    pattern = r\"\\((\\d{4})\\)\"  # Regular expression pattern to extract the year\n",
    "    match = re.search(pattern, title)\n",
    "    if match:\n",
    "        year_str = match.group(1)\n",
    "        return int(year_str)\n",
    "    else:\n",
    "        return 1900\n",
    "     # Extract movie year\n",
    "    parse_year_udf = udf(parse_year, IntegerType())\n",
    "    complete_data_df = complete_data_df.withColumn(\"movie_year\", parse_year_udf(complete_data_df['title']))\n",
    "\n",
    "    # Explode tag vectors into a list of features for each movie\n",
    "    movie_tags_features = tags_encoded.groupBy('movieId').agg(F.collect_list('tagVec').alias('tagVectors'))\n",
    "    movie_tags_features = movie_tags_features.withColumn('tagFeatures', sum_vectors_udf('tagVectors')).drop('tagVectors')\n",
    "    print(\"Movie Tags Features DataFrame:\", movie_tags_features.take(5))\n",
    "\n",
    "    # Combine movie features with ratings\n",
    "    complete_data_df = ratings_df.join(genre_aggregated.select(\"movieId\", \"genresVec\"), \"movieId\").join(movie_tags_features, \"movieId\")\n",
    "    print(\"Complete Data DataFrame after combining features with ratings:\", complete_data_df.take(5))\n",
    "\n",
    "    # Create feature vectors\n",
    "    assembler = VectorAssembler(\n",
    "    inputCols=[\"userId\", \"movieId\", \"timestamp\", \"movie_year\", \"label\"] + [\"genresVec\", \"tagFeatures\"],\n",
    "    outputCol=\"features\"\n",
    "    )    \n",
    "    data_ready = assembler.transform(complete_data_df)\n",
    "\n",
    "    return data_ready\n",
    "\n",
    "# Assuming spark and ratings_df are defined earlier in your code\n",
    "data_ready = feature_engineering(spark, ratings_df)\n",
    "print(data_ready)\n"
   ]
  },
  {
   "cell_type": "code",
   "execution_count": null,
   "metadata": {},
   "outputs": [],
   "source": [
    "def train_evaluate_visualize(data_ready):\n",
    "    \"\"\"\n",
    "    Train, evaluate, and visualize movie recommendations using a Random Forest model.\n",
    "\n",
    "    Args:\n",
    "    data_ready (DataFrame): DataFrame containing prepared features for training.\n",
    "    \"\"\"\n",
    "\n",
    "    # Splitting the dataset\n",
    "    training_features, test_features = data_ready.randomSplit([0.7, 0.3])\n",
    "\n",
    "    # Training the Random Forest model\n",
    "    rf = RandomForestRegressor(featuresCol=\"features\", labelCol=\"rating\")\n",
    "    model = rf.fit(training_features)\n",
    "\n",
    "    # Evaluate model on test dataset\n",
    "    predictions_df = model.transform(test_features)\n",
    "    rmse_evaluator = RegressionEvaluator(metricName=\"rmse\", labelCol=\"rating\", predictionCol=\"prediction\")\n",
    "    mae_evaluator = RegressionEvaluator(metricName=\"mae\", labelCol=\"rating\", predictionCol=\"prediction\")\n",
    "\n",
    "    # Calculate and output evaluation metrics\n",
    "    rmse = rmse_evaluator.evaluate(predictions_df)\n",
    "    mae = mae_evaluator.evaluate(predictions_df)\n",
    "    print(f\"Root Mean Square Error (RMSE): {rmse}\")\n",
    "    print(f\"Mean Absolute Error (MAE): {mae}\")\n",
    "\n",
    "    #Calculate average predition rating of every movie\n",
    "    avg_predictions_df = predictions_df.groupBy(\"movieId\").avg(\"prediction\")\n",
    "\n",
    "    # Get top5 movie recommendations\n",
    "    top_predictions = predictions_df.orderBy('avg(prediction)', ascending=False).limit(5)\n",
    "\n",
    "    # Join with the movies dataframe to get movie titles\n",
    "    movies_df = spark.read.csv(\"dataset/movies.csv\", header=True, inferSchema=True)  # Load movies data\n",
    "    top_movies_with_titles = top_predictions.join(movies_df, 'movieId').select('title', 'avg(prediction)')\n",
    "    print(top_movies_with_titles)\n",
    "\n",
    "    # Convert to pandas dataframe for visualization\n",
    "    top_movies_pd = top_movies_with_titles.toPandas()\n",
    "    top_movies_pd.set_index('title', inplace=True)\n",
    "\n",
    "    # Plot\n",
    "    plt.figure(figsize=(12, 8))\n",
    "    top_movies_pd['avg(prediction)'].plot(kind='bar')\n",
    "    plt.xlabel('Predicted Rating')\n",
    "    plt.ylabel('Movie Title')\n",
    "    plt.title('Top 5 Movie Recommendations')\n",
    "    plt.tight_layout()\n",
    "    plt.show()\n",
    "    plt.close()\n",
    "\n",
    "\n",
    "train_evaluate_visualize(data_ready)"
   ]
  },
  {
   "cell_type": "markdown",
   "metadata": {
    "collapsed": false
   },
   "source": [
    "# Part 5: Model Comparison"
   ]
  },
  {
   "cell_type": "markdown",
   "metadata": {
    "collapsed": false
   },
   "source": [
    "**ALS model**:\n",
    "+ Advantages: It is suitable for large-scale data sets, can effectively handle sparsity problems, and is often used in recommendation systems.\n",
    "+ Disadvantages: Need to adjust multiple parameters, sensitive to cold start issues.\n",
    "\n",
    "**Random forest model**:\n",
    "+ Advantages: It handles nonlinear relationships well and is less prone to overfitting.\n",
    "+ Disadvantages: A large amount of feature engineering is required and the computational cost is high."
   ]
  }
 ],
 "metadata": {
  "kernelspec": {
   "display_name": "Python 3",
   "language": "python",
   "name": "python3"
  },
  "language_info": {
   "codemirror_mode": {
    "name": "ipython",
    "version": 3
   },
   "file_extension": ".py",
   "mimetype": "text/x-python",
   "name": "python",
   "nbconvert_exporter": "python",
   "pygments_lexer": "ipython3",
   "version": "3.8.18"
  }
 },
 "nbformat": 4,
 "nbformat_minor": 0
}
