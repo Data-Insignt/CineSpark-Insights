{
 "cells": [
  {
   "cell_type": "markdown",
   "metadata": {
    "collapsed": false
   },
   "source": [
    "# Environment Import"
   ]
  },
  {
   "cell_type": "code",
   "execution_count": 4,
   "metadata": {},
   "outputs": [],
   "source": [
    "import time\n",
    "\n",
    "import matplotlib.pyplot as plt\n",
    "import pandas as pd\n",
    "from pyspark.ml.evaluation import RegressionEvaluator\n",
    "from pyspark.ml.feature import OneHotEncoder, StringIndexer\n",
    "from pyspark.ml.feature import VectorAssembler\n",
    "from pyspark.ml.linalg import Vectors, VectorUDT\n",
    "from pyspark.ml.recommendation import ALS\n",
    "from pyspark.ml.regression import RandomForestRegressor\n",
    "from pyspark.sql import Row\n",
    "from pyspark.sql import SparkSession\n",
    "from pyspark.sql import functions as F\n",
    "from pyspark.sql.functions import col, collect_list, split, explode\n",
    "from pyspark.sql.functions import udf"
   ]
  },
  {
   "cell_type": "markdown",
   "metadata": {},
   "source": [
    "# Part 1: Init Spark Session with Ratings"
   ]
  },
  {
   "cell_type": "code",
   "execution_count": 5,
   "metadata": {
    "ExecuteTime": {
     "end_time": "2023-11-18T04:44:13.970800Z",
     "start_time": "2023-11-18T04:43:57.362997Z"
    },
    "collapsed": false
   },
   "outputs": [
    {
     "name": "stderr",
     "output_type": "stream",
     "text": [
      "                                                                                \r"
     ]
    },
    {
     "name": "stdout",
     "output_type": "stream",
     "text": [
      "Number of ratings: 25000095\n",
      "DataFrame[userId: bigint, movieId: bigint, rating: double, timestamp: string]\n"
     ]
    }
   ],
   "source": [
    "def init_spark_session_with_ratings(filename):\n",
    "    \"\"\"\n",
    "    Reads the ratings file and returns the SparkSession and DataFrame created from the file.\n",
    "\n",
    "    Args:\n",
    "    filename (str): The path to the ratings file.\n",
    "\n",
    "    Returns:\n",
    "    SparkSession, DataFrame: The Spark session and the DataFrame created from the ratings file.\n",
    "    \"\"\"\n",
    "\n",
    "    # Initialize Spark session\n",
    "    spark = SparkSession.builder \\\n",
    "        .appName(\"MovieRecommend\") \\\n",
    "        .config(\"spark.executor.memory\", \"8g\") \\\n",
    "        .config(\"spark.executor.cores\", \"4\") \\\n",
    "        .config(\"spark.executor.instances\", \"4\") \\\n",
    "        .config(\"spark.driver.memory\", \"8G\") \\\n",
    "        .getOrCreate()\n",
    "\n",
    "    # Retrieve SparkContext from SparkSession\n",
    "    sc = spark.sparkContext\n",
    "    # sc.setLogLevel(\"INFO\")\n",
    "\n",
    "    # Load the data into an RDD\n",
    "    ratings_rdd = sc.textFile(filename)\n",
    "\n",
    "    # Remove the header from the RDD and parse each line into a tuple\n",
    "    header = ratings_rdd.first()\n",
    "    ratings_rdd = (ratings_rdd.filter(lambda line: line != header)\n",
    "                   .map(lambda line: line.split(','))\n",
    "                   .map(lambda tokens: (int(tokens[0]), int(tokens[1]), float(tokens[2]), tokens[3])))\n",
    "\n",
    "    num_ratings = ratings_rdd.count()\n",
    "    print(f\"Number of ratings: {num_ratings}\")\n",
    "\n",
    "    # Convert RDD to DataFrame for easier processing\n",
    "    ratings_df = spark.createDataFrame(ratings_rdd, [\"userId\", \"movieId\", \"rating\", \"timestamp\"])\n",
    "\n",
    "    return spark, ratings_df\n",
    "\n",
    "\n",
    "spark, ratings_df = init_spark_session_with_ratings(\"dataset/ratings.csv\")\n",
    "print(ratings_df)"
   ]
  },
  {
   "cell_type": "markdown",
   "metadata": {
    "collapsed": false
   },
   "source": [
    "# Part 2: Basic Recommend with Visualization"
   ]
  },
  {
   "cell_type": "code",
   "execution_count": 6,
   "metadata": {
    "ExecuteTime": {
     "end_time": "2023-11-18T04:44:48.683341Z",
     "start_time": "2023-11-18T04:44:16.313299Z"
    },
    "collapsed": false
   },
   "outputs": [
    {
     "name": "stderr",
     "output_type": "stream",
     "text": [
      "                                                                                \r"
     ]
    },
    {
     "name": "stdout",
     "output_type": "stream",
     "text": [
      "+-------+-----------+\n",
      "|movieId|avg(rating)|\n",
      "+-------+-----------+\n",
      "| 133307|        5.0|\n",
      "| 205419|        5.0|\n",
      "| 169816|        5.0|\n",
      "| 165787|        5.0|\n",
      "| 160028|        5.0|\n",
      "+-------+-----------+\n",
      "\n"
     ]
    },
    {
     "name": "stderr",
     "output_type": "stream",
     "text": [
      "                                                                                \r"
     ]
    },
    {
     "data": {
      "image/png": "[encoded data removed]",
      "text/plain": [
       "<Figure size 1000x600 with 1 Axes>"
      ]
     },
     "metadata": {},
     "output_type": "display_data"
    }
   ],
   "source": [
    "def basic_recommend(spark, ratings_df):\n",
    "    \"\"\"\n",
    "    Performs basic movie recommendation based on the average rating.\n",
    "\n",
    "    Args:\n",
    "    ratings_df (DataFrame): The DataFrame containing movie ratings.\n",
    "    \"\"\"\n",
    "\n",
    "    # Compute the average rating for each movie\n",
    "    avg_ratings_df = ratings_df.groupBy(\"movieId\").avg(\"rating\")\n",
    "\n",
    "    # Retrieve top 5 movies based on average ratings\n",
    "    top_movies = avg_ratings_df.orderBy(\"avg(rating)\", ascending=False).limit(5)\n",
    "    top_movies.show()\n",
    "\n",
    "    # Plotting the top 5 movies and save the figure to a file\n",
    "    top_movies_pd = top_movies.toPandas()   # Convert Spark DataFrame to Pandas DataFrame for plotting\n",
    "    plt.figure(figsize=(10, 6))\n",
    "    # Adding width to the bars and making them visually distinct\n",
    "    plt.bar(top_movies_pd['movieId'].astype(str), top_movies_pd['avg(rating)'], width=0.5, color=['blue', 'green', 'red', 'purple', 'orange'])\n",
    "    plt.xlabel('Movie ID')\n",
    "    plt.ylabel('Average Rating')\n",
    "    plt.title('Top 5 Movies by Average Rating')\n",
    "    plt.ylim(4, 5.1)  # Ensuring that the top of the bars are within the visible range of the plot\n",
    "    plt.show()\n",
    "    plt.close()  # Close the plt object to free memory\n",
    "\n",
    "basic_recommend(spark, ratings_df)"
   ]
  },
  {
   "cell_type": "markdown",
   "metadata": {
    "collapsed": false
   },
   "source": [
    "# Part3: ALS Recommend with Visualization"
   ]
  },
  {
   "cell_type": "code",
   "execution_count": 9,
   "metadata": {
    "ExecuteTime": {
     "end_time": "2023-11-18T04:45:16.141700Z",
     "start_time": "2023-11-18T04:44:50.822066Z"
    },
    "collapsed": false
   },
   "outputs": [
    {
     "name": "stderr",
     "output_type": "stream",
     "text": [
      "                                                                                \r"
     ]
    },
    {
     "name": "stdout",
     "output_type": "stream",
     "text": [
      "   rank  maxIter  regParam      RMSE       MAE  Training Time\n",
      "0    10        5      0.01  0.822638  0.630378      69.868859\n",
      "1    10        5      0.10  0.825636  0.644511      69.552677\n",
      "2    10       10      0.01  0.808095  0.616031      77.373175\n",
      "3    10       10      0.10  0.813549  0.631021      77.465709\n",
      "4    20        5      0.01  0.820101  0.624476      81.730175\n",
      "5    20        5      0.10  0.834892  0.656994      80.007096\n",
      "6    20       10      0.01  0.813431  0.616101      99.531461\n",
      "7    20       10      0.10  0.813631  0.633039      94.973497\n",
      "Best Parameters: (10, 10, 0.01)\n",
      "Best RMSE: inf\n"
     ]
    },
    {
     "name": "stderr",
     "output_type": "stream",
     "text": [
      "                                                                                \r"
     ]
    },
    {
     "name": "stdout",
     "output_type": "stream",
     "text": [
      "+------+----------------------------------------------------------------------------------------------------------+\n",
      "|userId|recommendations                                                                                           |\n",
      "+------+----------------------------------------------------------------------------------------------------------+\n",
      "|31    |[{185659, 13.202439}, {169896, 11.108482}, {185653, 10.546553}, {156573, 7.4271574}, {200986, 7.367985}]  |\n",
      "|34    |[{171059, 15.594081}, {160183, 10.813658}, {151443, 10.532187}, {126941, 10.3864565}, {182759, 10.351672}]|\n",
      "|53    |[{185659, 21.111715}, {169896, 18.189604}, {185653, 17.224836}, {200986, 14.802373}, {156573, 13.217228}] |\n",
      "|65    |[{193489, 11.56413}, {147292, 11.457008}, {205453, 11.213605}, {189455, 10.729432}, {146146, 10.64672}]   |\n",
      "|78    |[{171059, 16.074059}, {168906, 14.907032}, {160183, 13.492821}, {182759, 13.430552}, {86952, 11.645046}]  |\n",
      "|85    |[{168906, 24.012201}, {182759, 22.750895}, {200986, 19.096811}, {127252, 18.447296}, {206565, 18.39862}]  |\n",
      "|108   |[{128667, 13.390229}, {168180, 11.54926}, {80719, 10.792654}, {154280, 9.705624}, {168906, 9.407634}]     |\n",
      "|133   |[{185659, 14.396193}, {185653, 11.850615}, {169896, 11.519354}, {128667, 11.216832}, {168180, 9.34218}]   |\n",
      "|137   |[{185659, 20.51666}, {185653, 16.621233}, {169896, 16.204449}, {182759, 13.9337015}, {200986, 13.824462}] |\n",
      "|148   |[{128667, 12.266209}, {185659, 10.522586}, {168180, 9.899074}, {177945, 9.784954}, {80719, 9.758813}]     |\n",
      "|155   |[{128667, 13.603067}, {80719, 11.043136}, {154280, 9.591016}, {168180, 9.421733}, {171059, 9.244036}]     |\n",
      "|193   |[{185659, 17.88796}, {185653, 14.791663}, {169896, 14.770269}, {156573, 9.431023}, {123165, 9.133406}]    |\n",
      "|211   |[{185659, 14.6011915}, {128667, 12.788947}, {185653, 12.161276}, {177945, 11.947126}, {169896, 11.74066}] |\n",
      "|243   |[{185659, 10.775951}, {200986, 9.975135}, {182759, 9.892575}, {169896, 9.436468}, {185653, 9.048535}]     |\n",
      "|251   |[{185659, 15.64388}, {169896, 13.086053}, {185653, 12.717267}, {153184, 9.702031}, {122222, 8.32726}]     |\n",
      "|255   |[{128667, 10.260992}, {185659, 9.410451}, {80719, 9.1369295}, {169896, 8.880207}, {154280, 8.599926}]     |\n",
      "|296   |[{185659, 10.916181}, {185653, 9.135925}, {169896, 8.978824}, {128667, 8.147873}, {80719, 6.883283}]      |\n",
      "|321   |[{128667, 10.458453}, {185659, 10.440417}, {169896, 9.227946}, {80719, 9.03297}, {185653, 8.857959}]      |\n",
      "|322   |[{168906, 13.427195}, {168180, 12.059411}, {171059, 10.411512}, {200252, 10.407464}, {128667, 10.284393}] |\n",
      "|362   |[{168906, 14.642607}, {200252, 11.002146}, {157336, 10.078458}, {187125, 9.850938}, {168180, 9.677385}]   |\n",
      "+------+----------------------------------------------------------------------------------------------------------+\n",
      "only showing top 20 rows\n",
      "\n"
     ]
    },
    {
     "name": "stderr",
     "output_type": "stream",
     "text": [
      "                                                                                \r"
     ]
    },
    {
     "data": {
      "image/png": "[encoded data removed]",
      "text/plain": [
       "<Figure size 1000x600 with 1 Axes>"
      ]
     },
     "metadata": {},
     "output_type": "display_data"
    }
   ],
   "source": [
    "def als_recommend(spark, ratings_df):\n",
    "    \"\"\"\n",
    "    Performs movie recommendations using the ALS (Alternating Least Squares).\n",
    "\n",
    "    Args:\n",
    "    spark (SparkSession): SparkSession object for DataFrame operations.\n",
    "    ratings_df (DataFrame): The DataFrame containing movie ratings.\n",
    "    \"\"\"\n",
    "\n",
    "    # Split the dataset into training and test sets\n",
    "    (training, test) = ratings_df.randomSplit([0.7, 0.3])\n",
    "\n",
    "    # Create an ALS model\n",
    "    als = ALS(userCol=\"userId\", itemCol=\"movieId\", ratingCol=\"rating\", coldStartStrategy=\"drop\", nonnegative=True)\n",
    "\n",
    "    # Define a grid of parameters for tuning\n",
    "    param_grid = {\n",
    "        \"rank\": [10, 20],\n",
    "        \"maxIter\": [5, 10],\n",
    "        \"regParam\": [0.01, 0.1]\n",
    "    }\n",
    "\n",
    "    # Define multiple evaluators\n",
    "    rmse_evaluator = RegressionEvaluator(metricName=\"rmse\", labelCol=\"rating\", predictionCol=\"prediction\")\n",
    "    mae_evaluator = RegressionEvaluator(metricName=\"mae\", labelCol=\"rating\", predictionCol=\"prediction\")\n",
    "\n",
    "    # Variables to keep track of the best model and its performance\n",
    "    best_rmse = float('inf')\n",
    "    best_model = None\n",
    "    best_error = float('inf')\n",
    "    best_params = None\n",
    "    results = []\n",
    "\n",
    "    # Grid search through the parameter space\n",
    "    for rank in param_grid[\"rank\"]:\n",
    "        for max_iter in param_grid[\"maxIter\"]:\n",
    "            for reg_param in param_grid[\"regParam\"]:\n",
    "                start_time = time.time()\n",
    "\n",
    "                # Set model parameters\n",
    "                als.setParams(rank=rank, maxIter=max_iter, regParam=reg_param)\n",
    "                \n",
    "                # Fit ALS model on training data\n",
    "                model = als.fit(training)\n",
    "                \n",
    "                # Evaluate the model on test data\n",
    "                predictions = model.transform(test)\n",
    "                rmse = rmse_evaluator.evaluate(predictions)\n",
    "                mae = mae_evaluator.evaluate(predictions)\n",
    "                training_time = time.time() - start_time\n",
    "\n",
    "                # Append results\n",
    "                results.append({\n",
    "                    \"rank\": rank, \"maxIter\": max_iter, \"regParam\": reg_param,\n",
    "                    \"RMSE\": rmse, \"MAE\": mae, \"Training Time\": training_time\n",
    "                })\n",
    "\n",
    "                # Update best model\n",
    "                if rmse < best_rmse:\n",
    "                    best_rmse = rmse\n",
    "                    best_model = model\n",
    "                    best_params = (rank, max_iter, reg_param)\n",
    "\n",
    "    # Save the results DataFrame to a CSV file\n",
    "    results_df = pd.DataFrame(results)\n",
    "    print(results_df)\n",
    "\n",
    "    # Display the best model parameters and its RMSE\n",
    "    print(\"Best Parameters:\", best_params)\n",
    "    print(\"Best RMSE:\", best_error)\n",
    "\n",
    "    # Generate top 5 movie recommendations for each user using the best model\n",
    "    recommendations = best_model.recommendForAllUsers(5)\n",
    "    recommendations.show(truncate=False)\n",
    "\n",
    "    # Explode the recommendations to create a row for each movie\n",
    "    recs_exploded = recommendations.withColumn(\"rec_exp\", explode(\"recommendations\")).select(\"userId\", col(\"rec_exp.movieId\"), col(\"rec_exp.rating\"))\n",
    "\n",
    "    # Plotting the number of times each movie is recommended\n",
    "    recs_pd = recs_exploded.toPandas()\n",
    "    plt.figure(figsize=(10, 6))\n",
    "    recs_pd['movieId'].value_counts().head(5).plot(kind='bar')\n",
    "    plt.xlabel('Movie ID')\n",
    "    plt.ylabel('Number of Recommendations')\n",
    "    plt.title('Top 5 Recommended Movies')\n",
    "    plt.show()\n",
    "    plt.close()\n",
    "\n",
    "\n",
    "als_recommend(spark, ratings_df)"
   ]
  },
  {
   "cell_type": "markdown",
   "metadata": {
    "collapsed": false
   },
   "source": [
    "# Part 3: RF Recommend with Visualization"
   ]
  },
  {
   "cell_type": "code",
   "execution_count": 3,
   "metadata": {
    "ExecuteTime": {
     "end_time": "2023-11-18T04:45:24.738544Z",
     "start_time": "2023-11-18T04:45:20.115597Z"
    },
    "collapsed": false
   },
   "outputs": [
    {
     "name": "stderr",
     "output_type": "stream",
     "text": [
      "23/11/23 08:54:35 WARN PythonRunner: Detected deadlock while completing task 0.0 in stage 6 (TID 52): Attempting to kill Python Worker\n",
      "                                                                                \r"
     ]
    }
   ],
   "source": [
    "def rf_recommend(spark, ratings_df):\n",
    "    \"\"\"\n",
    "    Perform movie recommendations using a Random Forest model. The method involves processing movie genres and tags,\n",
    "    applying one-hot encoding, and using these features in a random forest regression model.\n",
    "\n",
    "    Args:\n",
    "    spark (SparkSession): SparkSession object for DataFrame operations.\n",
    "    ratings_df (DataFrame): DataFrame containing movie ratings.\n",
    "    \"\"\"\n",
    "\n",
    "    # Converts a list of vectors into a single vector by summing up each dimension.\n",
    "    def sum_vectors(vectors):\n",
    "        return Vectors.dense(sum(v[0] for v in vectors))\n",
    "    \n",
    "    sum_vectors_udf = udf(sum_vectors, VectorUDT())\n",
    "\n",
    "    # Load and preprocess datasets\n",
    "    movies_df = spark.read.csv(\"dataset/movies.csv\", header=True, inferSchema=True)    # movieId, title, genres\n",
    "    tags_df = spark.read.csv(\"dataset/tags.csv\", header=True, inferSchema=True)    # userId, movieId, tag, timestamp\n",
    "    # genome_scores_df = spark.read.csv(\"dataset/genome-scores.csv\", header=True, inferSchema=True)   # movieId, tagId, relevance\n",
    "    # genome_tags_df = spark.read.csv(\"dataset/genome-tags.csv\", header=True, inferSchema=True)   # tagId, tag\n",
    "\n",
    "    # Process genres: split, explode, and one-hot encode\n",
    "    movies_df = movies_df.withColumn(\"split_genres\", split(col(\"genres\"), \"\\|\"))    # Split genres into individual genres\n",
    "    movies_exploded = movies_df.withColumn(\"genre\", explode(col(\"split_genres\")))   # Explode genres into new rows\n",
    "    genre_indexer = StringIndexer(inputCol=\"genre\", outputCol=\"genreIndex\")\n",
    "    indexed_genre = genre_indexer.fit(movies_exploded).transform(movies_exploded)\n",
    "    genre_encoder = OneHotEncoder(inputCol=\"genreIndex\", outputCol=\"genreVec\")\n",
    "    encoded_genre = genre_encoder.fit(indexed_genre).transform(indexed_genre)\n",
    "\n",
    "    # Aggregate the encoded genres back to movie level\n",
    "    genre_aggregated = encoded_genre.groupBy(\"movieId\").agg(collect_list(\"genreVec\").alias(\"genreVecList\"))\n",
    "    genre_aggregated = genre_aggregated.withColumn(\"genresVec\", sum_vectors_udf(\"genreVecList\"))\n",
    "\n",
    "    # Process tags using StringIndexer + OneHotEncoder\n",
    "    tag_indexer = StringIndexer(inputCol=\"tag\", outputCol=\"tagIndex\")\n",
    "    tag_model = tag_indexer.fit(tags_df)\n",
    "    indexed_tags = tag_model.transform(tags_df)\n",
    "    tag_encoder = OneHotEncoder(inputCols=[\"tagIndex\"], outputCols=[\"tagVec\"])\n",
    "    tags_encoded = tag_encoder.fit(indexed_tags).transform(indexed_tags)\n",
    "\n",
    "    # Explode tag vectors into a list of features for each movie\n",
    "    movie_tags_features = tags_encoded.groupBy('movieId').agg(F.collect_list('tagVec').alias('tagVectors'))\n",
    "    movie_tags_features = movie_tags_features.withColumn('tagFeatures', sum_vectors_udf('tagVectors')).drop('tagVectors')\n",
    "\n",
    "    # Combine movie features with ratings\n",
    "    complete_data_df = ratings_df.join(genre_aggregated.select(\"movieId\", \"genresVec\"), \"movieId\").join(movie_tags_features, \"movieId\")\n",
    "\n",
    "    # Create feature vectors\n",
    "    assembler = VectorAssembler(inputCols=[\"genresVec\", \"tagFeatures\"], outputCol=\"features\")\n",
    "    data_ready = assembler.transform(complete_data_df)\n",
    "\n",
    "    # Splitting the dataset\n",
    "    training_features, test_features = data_ready.randomSplit([0.7, 0.3])\n",
    "\n",
    "    # Training the Random Forest model\n",
    "    rf = RandomForestRegressor(featuresCol=\"features\", labelCol=\"rating\")\n",
    "    model = rf.fit(training_features)\n",
    "\n",
    "    # Evaluate model on test dataset\n",
    "    predictions_df = model.transform(test_features)\n",
    "    rmse_evaluator = RegressionEvaluator(metricName=\"rmse\", labelCol=\"rating\", predictionCol=\"prediction\")\n",
    "    mae_evaluator = RegressionEvaluator(metricName=\"mae\", labelCol=\"rating\", predictionCol=\"prediction\")\n",
    "\n",
    "    # Calculate and output evaluation metrics\n",
    "    rmse = rmse_evaluator.evaluate(predictions_df)\n",
    "    mae = mae_evaluator.evaluate(predictions_df)\n",
    "    print(f\"Root Mean Square Error (RMSE): {rmse}\")\n",
    "    print(f\"Mean Absolute Error (MAE): {mae}\")\n",
    "\n",
    "    # Get top5 movie recommendations\n",
    "    top_predictions = predictions_df.orderBy('prediction', ascending=False).limit(5)\n",
    "\n",
    "    # Join with the movies dataframe to get movie titles\n",
    "    top_movies_with_titles = top_predictions.join(movies_df, 'movieId').select('title', 'prediction')\n",
    "\n",
    "    # Convert to pandas dataframe for visualization\n",
    "    top_movies_pd = top_movies_with_titles.toPandas()\n",
    "    top_movies_pd.set_index('title', inplace=True)\n",
    "\n",
    "    # Plot\n",
    "    plt.figure(figsize=(12, 8))\n",
    "    top_movies_pd['prediction'].plot(kind='bar')\n",
    "    plt.xlabel('Predicted Rating')\n",
    "    plt.ylabel('Movie Title')\n",
    "    plt.title('Top 5 Movie Recommendations')\n",
    "    plt.tight_layout()\n",
    "    plt.show()\n",
    "    plt.close()\n",
    "\n",
    "\n",
    "rf_recommend(spark, ratings_df)"
   ]
  },
  {
   "cell_type": "markdown",
   "metadata": {
    "collapsed": false
   },
   "source": [
    "# Part 4: Model Comparison"
   ]
  },
  {
   "cell_type": "markdown",
   "metadata": {
    "collapsed": false
   },
   "source": [
    "**ALS model**:\n",
    "+ Advantages: It is suitable for large-scale data sets, can effectively handle sparsity problems, and is often used in recommendation systems.\n",
    "+ Disadvantages: Need to adjust multiple parameters, sensitive to cold start issues.\n",
    "\n",
    "**Random forest model**:\n",
    "+ Advantages: It handles nonlinear relationships well and is less prone to overfitting.\n",
    "+ Disadvantages: A large amount of feature engineering is required and the computational cost is high."
   ]
  }
 ],
 "metadata": {
  "kernelspec": {
   "display_name": "Python 3",
   "language": "python",
   "name": "python3"
  },
  "language_info": {
   "codemirror_mode": {
    "name": "ipython",
    "version": 3
   },
   "file_extension": ".py",
   "mimetype": "text/x-python",
   "name": "python",
   "nbconvert_exporter": "python",
   "pygments_lexer": "ipython3",
   "version": "3.8.18"
  }
 },
 "nbformat": 4,
 "nbformat_minor": 0
}
