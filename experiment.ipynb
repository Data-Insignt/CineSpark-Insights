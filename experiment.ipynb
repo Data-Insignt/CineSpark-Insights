{
 "cells": [
  {
   "cell_type": "markdown",
   "metadata": {
    "collapsed": false
   },
   "source": [
    "# Environment Import"
   ]
  },
  {
   "cell_type": "code",
   "execution_count": 1,
   "metadata": {},
   "outputs": [],
   "source": [
    "import time\n",
    "import re\n",
    "\n",
    "import matplotlib.pyplot as plt\n",
    "import pandas as pd\n",
    "from pyspark.ml.evaluation import RegressionEvaluator\n",
    "from pyspark.ml.feature import OneHotEncoder, StringIndexer\n",
    "from pyspark.ml.feature import VectorAssembler\n",
    "from pyspark.ml.linalg import Vectors, VectorUDT\n",
    "from pyspark.ml.recommendation import ALS\n",
    "from pyspark.ml.regression import RandomForestRegressor\n",
    "from pyspark.sql import SparkSession\n",
    "from pyspark.sql.types import IntegerType\n",
    "from pyspark.sql import functions as F\n",
    "from pyspark.sql.functions import col, collect_list, split, explode, avg, udf, expr"
   ]
  },
  {
   "cell_type": "markdown",
   "metadata": {},
   "source": [
    "# Part 1: Init Spark Session with Ratings"
   ]
  },
  {
   "cell_type": "code",
   "execution_count": 2,
   "metadata": {
    "ExecuteTime": {
     "end_time": "2023-11-18T04:44:13.970800Z",
     "start_time": "2023-11-18T04:43:57.362997Z"
    },
    "collapsed": false
   },
   "outputs": [
    {
     "name": "stderr",
     "output_type": "stream",
     "text": [
      "23/11/30 08:05:46 WARN Utils: Your hostname, localhost.localdomain resolves to a loopback address: 127.0.0.1; using 192.168.102.123 instead (on interface ens192)\n",
      "23/11/30 08:05:46 WARN Utils: Set SPARK_LOCAL_IP if you need to bind to another address\n",
      "Setting default log level to \"WARN\".\n",
      "To adjust logging level use sc.setLogLevel(newLevel). For SparkR, use setLogLevel(newLevel).\n",
      "23/11/30 08:05:47 WARN NativeCodeLoader: Unable to load native-hadoop library for your platform... using builtin-java classes where applicable\n",
      "23/11/30 08:05:48 WARN Utils: Service 'SparkUI' could not bind on port 4040. Attempting port 4041.\n",
      "                                                                                \r"
     ]
    },
    {
     "name": "stdout",
     "output_type": "stream",
     "text": [
      "DataFrame[userId: int, movieId: int, rating: double, timestamp: int]\n",
      "+------+-------+------+----------+\n",
      "|userId|movieId|rating| timestamp|\n",
      "+------+-------+------+----------+\n",
      "|     1|    296|   5.0|1147880044|\n",
      "|     1|    306|   3.5|1147868817|\n",
      "|     1|    307|   5.0|1147868828|\n",
      "|     1|    665|   5.0|1147878820|\n",
      "|     1|    899|   3.5|1147868510|\n",
      "|     1|   1088|   4.0|1147868495|\n",
      "|     1|   1175|   3.5|1147868826|\n",
      "|     1|   1217|   3.5|1147878326|\n",
      "|     1|   1237|   5.0|1147868839|\n",
      "|     1|   1250|   4.0|1147868414|\n",
      "|     1|   1260|   3.5|1147877857|\n",
      "|     1|   1653|   4.0|1147868097|\n",
      "|     1|   2011|   2.5|1147868079|\n",
      "|     1|   2012|   2.5|1147868068|\n",
      "|     1|   2068|   2.5|1147869044|\n",
      "|     1|   2161|   3.5|1147868609|\n",
      "|     1|   2351|   4.5|1147877957|\n",
      "|     1|   2573|   4.0|1147878923|\n",
      "|     1|   2632|   5.0|1147878248|\n",
      "|     1|   2692|   5.0|1147869100|\n",
      "+------+-------+------+----------+\n",
      "only showing top 20 rows\n",
      "\n"
     ]
    }
   ],
   "source": [
    "def init_spark_session_with_ratings(filename):\n",
    "    \"\"\"\n",
    "    Reads the ratings file and returns the SparkSession and DataFrame created from the file.\n",
    "\n",
    "    Args:\n",
    "    filename (str): The path to the ratings file.\n",
    "\n",
    "    Returns:\n",
    "    SparkSession, DataFrame: The Spark session and the DataFrame created from the ratings file.\n",
    "    \"\"\"\n",
    "\n",
    "    # Initialize Spark session\n",
    "    spark = SparkSession.builder \\\n",
    "        .appName(\"MovieRecommend\") \\\n",
    "        .config(\"spark.executor.memory\", \"8g\") \\\n",
    "        .config(\"spark.executor.cores\", \"4\") \\\n",
    "        .config(\"spark.executor.instances\", \"4\") \\\n",
    "        .config(\"spark.driver.memory\", \"8G\") \\\n",
    "        .getOrCreate()\n",
    "\n",
    "    ratings_df = spark.read.csv(\"dataset/ratings.csv\", header=True, inferSchema=True)\n",
    "    print(ratings_df)\n",
    "    ratings_df.show()\n",
    "\n",
    "    return spark, ratings_df\n",
    "\n",
    "\n",
    "spark, ratings_df = init_spark_session_with_ratings(\"dataset/ratings.csv\")"
   ]
  },
  {
   "cell_type": "markdown",
   "metadata": {
    "collapsed": false
   },
   "source": [
    "# Part 2: Basic Recommend with Visualization"
   ]
  },
  {
   "cell_type": "code",
   "execution_count": 3,
   "metadata": {
    "ExecuteTime": {
     "end_time": "2023-11-18T04:44:48.683341Z",
     "start_time": "2023-11-18T04:44:16.313299Z"
    },
    "collapsed": false
   },
   "outputs": [
    {
     "name": "stderr",
     "output_type": "stream",
     "text": [
      "[Stage 12:>                                                       (0 + 16) / 17]\r"
     ]
    },
    {
     "name": "stdout",
     "output_type": "stream",
     "text": [
      "+-------+--------------------+--------------------+----------+--------------------+\n",
      "|movieId|               title|              genres|avg_rating|                tags|\n",
      "+-------+--------------------+--------------------+----------+--------------------+\n",
      "| 127080|The Diary of Pres...|    [Drama, Romance]|       5.0|  [independent film]|\n",
      "| 136988|The Good Mistress...|             [Drama]|       5.0|          [tv movie]|\n",
      "| 124987|   Snow White (1987)|          [Children]|       5.0|[fairy tale, home...|\n",
      "| 147615|The Battle of Lov...|[(no genres listed)]|       5.0|[Troma Entertainm...|\n",
      "| 133307|Time Zero: The La...|       [Documentary]|       5.0|          [business]|\n",
      "+-------+--------------------+--------------------+----------+--------------------+\n",
      "\n"
     ]
    },
    {
     "name": "stderr",
     "output_type": "stream",
     "text": [
      "                                                                                \r"
     ]
    }
   ],
   "source": [
    "def basic_recommend(spark, ratings_df):\n",
    "    \"\"\"\n",
    "    Performs basic movie recommendation based on the average rating.\n",
    "\n",
    "    Args:\n",
    "    ratings_df (DataFrame): The DataFrame containing movie ratings.\n",
    "    \"\"\"\n",
    "\n",
    "    # Compute the average rating for each movie\n",
    "    avg_ratings_df = ratings_df.groupBy(\"movieId\").agg(avg(\"rating\").alias(\"avg_rating\"))\n",
    "\n",
    "    # Join with the movies DataFrame to get the movie titles and genres\n",
    "    movies_df = spark.read.csv(\"dataset/movies.csv\", header=True, inferSchema=True)\n",
    "    joined_df = avg_ratings_df.join(movies_df, \"movieId\").withColumn(\"genres\", split(col(\"genres\"), \"\\\\|\"))\n",
    "\n",
    "    # Join with the tags DataFrame to get the movie tags, and aggregate tags into a single string for each movie\n",
    "    tags_df = spark.read.csv(\"dataset/tags.csv\", header=True, inferSchema=True)\n",
    "    joined_df = joined_df.join(tags_df, \"movieId\").withColumn(\"tag\", col(\"tag\")). \\\n",
    "        groupBy(\"movieId\", \"title\", \"genres\", \"avg_rating\"). \\\n",
    "        agg(expr(\"concat('[', concat_ws(', ', collect_list(tag)), ']')\").alias(\"tags\")\n",
    "            )\n",
    "\n",
    "    # Retrieve top 5 movies based on average ratings\n",
    "    top_movies = joined_df.orderBy(col(\"avg_rating\"), ascending=False).limit(5)\n",
    "    top_movies.show()\n",
    "\n",
    "    return top_movies\n",
    "\n",
    "\n",
    "top_movies = basic_recommend(spark, ratings_df)"
   ]
  },
  {
   "cell_type": "code",
   "execution_count": 4,
   "metadata": {},
   "outputs": [
    {
     "name": "stderr",
     "output_type": "stream",
     "text": [
      "                                                                                \r"
     ]
    },
    {
     "data": {
      "image/png": "[encoded data removed]",
      "text/plain": [
       "<Figure size 800x800 with 1 Axes>"
      ]
     },
     "metadata": {},
     "output_type": "display_data"
    }
   ],
   "source": [
    "def basic_recommend_visualization(top_movies):\n",
    "    # Convert Spark DataFrame to Pandas DataFrame for plotting\n",
    "    top_movies_pd = top_movies.toPandas()\n",
    "\n",
    "    # Define colors for each movie (you can customize this)\n",
    "    colors = ['blue', 'green', 'red', 'purple', 'orange']\n",
    "\n",
    "    # Create a figure and axis\n",
    "    fig, ax = plt.subplots(figsize=(8, 8))\n",
    "\n",
    "    # Plot each movie as a separate bar\n",
    "    for i, row in enumerate(top_movies_pd.itertuples(), start=1):\n",
    "        movie_id = row.movieId\n",
    "        movie_title = row.title\n",
    "        avg_rating = row.avg_rating  # Use the column name 'avg_rating'\n",
    "        color = colors[i - 1]\n",
    "\n",
    "        # Plot the bar with the movie title as label\n",
    "        ax.bar(str(movie_id), avg_rating, width=0.5, color=color, label=movie_title)\n",
    "\n",
    "    # Set labels and title\n",
    "    ax.set_xlabel('MovieID')\n",
    "    ax.set_ylabel('Average Rating')\n",
    "    ax.set_title('Top 5 Movies by Average Rating')\n",
    "\n",
    "    # Ensure that the top of the bars are within the visible range of the plot\n",
    "    plt.ylim(0, 5.1)\n",
    "\n",
    "    # Rotate movie titles for better visibility\n",
    "    plt.xticks(rotation=45)\n",
    "\n",
    "    # Add a legend to explain the colors\n",
    "    ax.legend(loc='upper center', bbox_to_anchor=(0.5, 1.3))\n",
    "\n",
    "    # Show the plot\n",
    "    plt.tight_layout()\n",
    "    plt.show()\n",
    "\n",
    "    # Close the plt object to free memory\n",
    "    plt.close()\n",
    "\n",
    "\n",
    "basic_recommend_visualization(top_movies)"
   ]
  },
  {
   "cell_type": "markdown",
   "metadata": {
    "collapsed": false
   },
   "source": [
    "# Part3: ALS Recommend with Visualization"
   ]
  },
  {
   "cell_type": "markdown",
   "metadata": {},
   "source": [
    "## 3.1 Optimal Parameters Chosen"
   ]
  },
  {
   "cell_type": "code",
   "execution_count": 5,
   "metadata": {
    "ExecuteTime": {
     "end_time": "2023-11-18T04:45:16.141700Z",
     "start_time": "2023-11-18T04:44:50.822066Z"
    },
    "collapsed": false
   },
   "outputs": [
    {
     "name": "stderr",
     "output_type": "stream",
     "text": [
      "23/11/30 07:39:37 WARN InstanceBuilder: Failed to load implementation from:dev.ludovic.netlib.blas.JNIBLAS\n",
      "[Stage 1337:==================================================>   (16 + 1) / 17]\r"
     ]
    },
    {
     "name": "stdout",
     "output_type": "stream",
     "text": [
      "   rank  maxIter  regParam      RMSE       MAE  Training Time\n",
      "0    10        5      0.01  0.829486  0.638148      47.777165\n",
      "1    10        5      0.10  0.826285  0.645126      40.870306\n",
      "2    10       10      0.01  0.810260  0.618900      51.412874\n",
      "3    10       10      0.10  0.814018  0.631412      49.845394\n",
      "4    20        5      0.01  0.825468  0.629510      52.075976\n",
      "5    20        5      0.10  0.829962  0.651692      49.523931\n",
      "6    20       10      0.01  0.817938  0.620012      67.369276\n",
      "7    20       10      0.10  0.811837  0.631145      67.318704\n",
      "Best Parameters: (10, 10, 0.01)\n",
      "Best RMSE: inf\n"
     ]
    },
    {
     "name": "stderr",
     "output_type": "stream",
     "text": [
      "                                                                                \r"
     ]
    }
   ],
   "source": [
    "def als_recommend(spark, ratings_df):\n",
    "    \"\"\"\n",
    "    Performs movie recommendations using the ALS (Alternating Least Squares).\n",
    "\n",
    "    Args:\n",
    "    spark (SparkSession): SparkSession object for DataFrame operations.\n",
    "    ratings_df (DataFrame): The DataFrame containing movie ratings.\n",
    "    \"\"\"\n",
    "\n",
    "    # Split the dataset into training and test sets\n",
    "    (training, test) = ratings_df.randomSplit([0.7, 0.3])\n",
    "\n",
    "    # Create an ALS model\n",
    "    als = ALS(userCol=\"userId\", itemCol=\"movieId\", ratingCol=\"rating\", coldStartStrategy=\"drop\", nonnegative=True)\n",
    "\n",
    "    # Define a grid of parameters for tuning\n",
    "    param_grid = {\n",
    "        \"rank\": [10, 20],\n",
    "        \"maxIter\": [5, 10],\n",
    "        \"regParam\": [0.01, 0.1]\n",
    "    }\n",
    "\n",
    "    # Define multiple evaluators\n",
    "    rmse_evaluator = RegressionEvaluator(metricName=\"rmse\", labelCol=\"rating\", predictionCol=\"prediction\")\n",
    "    mae_evaluator = RegressionEvaluator(metricName=\"mae\", labelCol=\"rating\", predictionCol=\"prediction\")\n",
    "\n",
    "    # Variables to keep track of the best model and its performance\n",
    "    best_rmse = float('inf')\n",
    "    best_error = float('inf')\n",
    "    best_params = None\n",
    "    results = []\n",
    "\n",
    "    # Grid search through the parameter space\n",
    "    for rank in param_grid[\"rank\"]:\n",
    "        for max_iter in param_grid[\"maxIter\"]:\n",
    "            for reg_param in param_grid[\"regParam\"]:\n",
    "                start_time = time.time()\n",
    "\n",
    "                # Set model parameters\n",
    "                als.setParams(rank=rank, maxIter=max_iter, regParam=reg_param)\n",
    "                \n",
    "                # Fit ALS model on training data\n",
    "                model = als.fit(training)\n",
    "                \n",
    "                # Evaluate the model on test data\n",
    "                predictions = model.transform(test)\n",
    "                rmse = rmse_evaluator.evaluate(predictions)\n",
    "                mae = mae_evaluator.evaluate(predictions)\n",
    "                training_time = time.time() - start_time\n",
    "\n",
    "                # Append results\n",
    "                results.append({\n",
    "                    \"rank\": rank, \"maxIter\": max_iter, \"regParam\": reg_param,\n",
    "                    \"RMSE\": rmse, \"MAE\": mae, \"Training Time\": training_time\n",
    "                })\n",
    "\n",
    "                # Update best model\n",
    "                if rmse < best_rmse:\n",
    "                    best_rmse = rmse\n",
    "                    best_params = (rank, max_iter, reg_param)\n",
    "\n",
    "    # Save the results DataFrame to a CSV file\n",
    "    results_df = pd.DataFrame(results)\n",
    "    print(results_df)\n",
    "\n",
    "    # Display the best model parameters and its RMSE\n",
    "    print(\"Best Parameters:\", best_params)\n",
    "    print(\"Best RMSE:\", best_error)\n",
    "\n",
    "\n",
    "als_recommend(spark, ratings_df)"
   ]
  },
  {
   "cell_type": "markdown",
   "metadata": {},
   "source": [
    "## 3.2 ALS Recommend With Optimal Parameters"
   ]
  },
  {
   "cell_type": "code",
   "execution_count": 6,
   "metadata": {},
   "outputs": [
    {
     "name": "stderr",
     "output_type": "stream",
     "text": [
      "23/11/30 07:46:42 WARN InstanceBuilder: Failed to load implementation from:dev.ludovic.netlib.lapack.JNILAPACK\n",
      "                                                                                \r"
     ]
    },
    {
     "name": "stdout",
     "output_type": "stream",
     "text": [
      "Root Mean Square Error (RMSE): 0.8072171300756796\n",
      "Mean Absolute Error (MAE): 0.6111281587996001\n"
     ]
    },
    {
     "name": "stderr",
     "output_type": "stream",
     "text": [
      "[Stage 1553:====================================================>(99 + 1) / 100]\r"
     ]
    },
    {
     "name": "stdout",
     "output_type": "stream",
     "text": [
      "+------+--------------------------------------------------------------------------------------------------------+\n",
      "|userId|recommendations                                                                                         |\n",
      "+------+--------------------------------------------------------------------------------------------------------+\n",
      "|31    |[{174403, 6.057178}, {116935, 5.828315}, {126749, 5.7715116}, {136880, 5.447052}, {148859, 5.2071157}]  |\n",
      "|34    |[{170113, 11.136791}, {112577, 9.995285}, {49872, 9.944384}, {5154, 9.926613}, {133569, 9.79133}]       |\n",
      "|53    |[{84996, 11.503202}, {198657, 10.026142}, {174403, 9.710598}, {41704, 9.625774}, {167532, 9.444785}]    |\n",
      "|65    |[{147354, 15.017892}, {134117, 14.216842}, {149130, 13.8547}, {176999, 13.626796}, {26611, 13.5799885}] |\n",
      "|78    |[{26968, 10.760106}, {162006, 9.259368}, {112577, 9.147092}, {119754, 8.7132635}, {147236, 8.678355}]   |\n",
      "|85    |[{135585, 11.549908}, {125938, 11.525369}, {183875, 11.525028}, {133325, 10.798703}, {148426, 10.57732}]|\n",
      "|108   |[{112577, 10.764049}, {26968, 9.788294}, {156791, 9.487787}, {118532, 9.46389}, {159399, 8.393187}]     |\n",
      "|133   |[{126749, 9.665259}, {133135, 8.921157}, {70517, 8.491614}, {133199, 8.025178}, {158856, 7.870315}]     |\n",
      "|137   |[{126749, 11.639663}, {57970, 10.556397}, {174403, 10.300258}, {139636, 9.980799}, {116935, 9.863037}]  |\n",
      "|148   |[{173651, 8.7412}, {112577, 7.6715946}, {98693, 7.295403}, {86952, 7.2017636}, {135557, 7.1899734}]     |\n",
      "|155   |[{162436, 8.318218}, {112577, 7.7434354}, {126397, 6.767167}, {86952, 6.632891}, {170113, 6.4881744}]   |\n",
      "|193   |[{84996, 12.105833}, {187995, 11.6888485}, {116847, 11.547656}, {126397, 11.32131}, {139636, 10.890801}]|\n",
      "|211   |[{112577, 8.690697}, {173651, 8.14813}, {84996, 7.6577883}, {86952, 7.648013}, {154860, 7.5388002}]     |\n",
      "|243   |[{198657, 7.7414026}, {141098, 7.436248}, {125938, 6.337513}, {125465, 6.2079263}, {195553, 6.205267}]  |\n",
      "|251   |[{116847, 15.72213}, {83556, 11.551935}, {198657, 11.11926}, {185367, 11.074553}, {38473, 10.929037}]   |\n",
      "|255   |[{94280, 7.5700545}, {143898, 7.331097}, {187503, 7.2950735}, {83529, 7.288286}, {178027, 7.2742043}]   |\n",
      "|296   |[{112577, 5.8733087}, {81688, 5.8132343}, {134615, 5.696086}, {195553, 5.5043483}, {198657, 5.495758}]  |\n",
      "|321   |[{195553, 7.790507}, {159055, 7.5125}, {141898, 7.1259804}, {187503, 7.1029296}, {178027, 7.101164}]    |\n",
      "|322   |[{148426, 10.851052}, {148480, 8.86382}, {86952, 8.017803}, {148848, 7.919283}, {173857, 7.893669}]     |\n",
      "|362   |[{148426, 13.374769}, {181333, 10.664255}, {86952, 9.764662}, {133203, 9.525661}, {193253, 9.464922}]   |\n",
      "+------+--------------------------------------------------------------------------------------------------------+\n",
      "only showing top 20 rows\n",
      "\n"
     ]
    },
    {
     "name": "stderr",
     "output_type": "stream",
     "text": [
      "                                                                                \r"
     ]
    }
   ],
   "source": [
    "def als_recommend_best(spark, ratings_df):\n",
    "    \"\"\"\n",
    "    Performs movie recommendations using the ALS (Alternating Least Squares) model with optimal parameters.\n",
    "\n",
    "    Args:\n",
    "    spark (SparkSession): SparkSession object for DataFrame operations.\n",
    "    ratings_df (DataFrame): The DataFrame containing movie ratings.\n",
    "    \"\"\"\n",
    "\n",
    "    # Split the dataset into training and test sets\n",
    "    (training, test) = ratings_df.randomSplit([0.7, 0.3])\n",
    "\n",
    "    # Define multiple evaluators\n",
    "    rmse_evaluator = RegressionEvaluator(metricName=\"rmse\", labelCol=\"rating\", predictionCol=\"prediction\")\n",
    "    mae_evaluator = RegressionEvaluator(metricName=\"mae\", labelCol=\"rating\", predictionCol=\"prediction\")\n",
    "\n",
    "    # Create an ALS model\n",
    "    als = ALS(rank=10, maxIter=10, regParam=0.01, userCol=\"userId\", itemCol=\"movieId\", ratingCol=\"rating\", coldStartStrategy=\"drop\")\n",
    "   \n",
    "    # Fit ALS model on training data\n",
    "    model = als.fit(training)\n",
    "\n",
    "    # Evaluate the model on test data\n",
    "    predictions = model.transform(test)\n",
    "    rmse = rmse_evaluator.evaluate(predictions)\n",
    "    mae = mae_evaluator.evaluate(predictions)\n",
    "    print(f\"Root Mean Square Error (RMSE): {rmse}\")\n",
    "    print(f\"Mean Absolute Error (MAE): {mae}\")\n",
    "\n",
    "    # Generate top 5 movie recommendations for each user using the best model\n",
    "    recommendations = model.recommendForAllUsers(5)\n",
    "    recommendations.show(truncate=False)\n",
    "    \n",
    "    return recommendations\n",
    "\n",
    "\n",
    "recommendations = als_recommend_best(spark, ratings_df)"
   ]
  },
  {
   "cell_type": "code",
   "execution_count": 7,
   "metadata": {},
   "outputs": [
    {
     "name": "stderr",
     "output_type": "stream",
     "text": [
      "                                                                                \r"
     ]
    },
    {
     "name": "stdout",
     "output_type": "stream",
     "text": [
      "+------+-------+----------+\n",
      "|userId|movieId|    rating|\n",
      "+------+-------+----------+\n",
      "|    31| 174403|  6.057178|\n",
      "|    31| 116935|  5.828315|\n",
      "|    31| 126749| 5.7715116|\n",
      "|    31| 136880|  5.447052|\n",
      "|    31| 148859| 5.2071157|\n",
      "|    34| 170113| 11.136791|\n",
      "|    34| 112577|  9.995285|\n",
      "|    34|  49872|  9.944384|\n",
      "|    34|   5154|  9.926613|\n",
      "|    34| 133569|   9.79133|\n",
      "|    53|  84996| 11.503202|\n",
      "|    53| 198657| 10.026142|\n",
      "|    53| 174403|  9.710598|\n",
      "|    53|  41704|  9.625774|\n",
      "|    53| 167532|  9.444785|\n",
      "|    65| 147354| 15.017892|\n",
      "|    65| 134117| 14.216842|\n",
      "|    65| 149130|   13.8547|\n",
      "|    65| 176999| 13.626796|\n",
      "|    65|  26611|13.5799885|\n",
      "+------+-------+----------+\n",
      "only showing top 20 rows\n",
      "\n"
     ]
    },
    {
     "name": "stderr",
     "output_type": "stream",
     "text": [
      "                                                                                \r"
     ]
    }
   ],
   "source": [
    "def als_recommend_visualization(recommendations):\n",
    "    recs_exploded = recommendations.withColumn(\"rec_exp\", explode(\"recommendations\")).select(\"userId\", col(\"rec_exp.movieId\"), col(\"rec_exp.rating\"))\n",
    "    recs_exploded.show()\n",
    "    \n",
    "    movies_df = spark.read.csv(\"dataset/movies.csv\", header=True, inferSchema=True)\n",
    "    recs_joined = recs_exploded.join(movies_df, \"movieId\").select(\"userId\", \"title\", \"rating\")\n",
    "    recs_pd = recs_joined.toPandas()\n",
    "\n",
    "    # # Count the number of recommendations for each movie and get the top 5\n",
    "    # top_movies = recs_pd['title'].value_counts().head(5)\n",
    "\n",
    "    # # Plotting the number of times each movie is recommended using the movie titles\n",
    "    # plt.figure(figsize=(12, 8))\n",
    "    # top_movies.plot(kind='bar')\n",
    "    # plt.xlabel('Movie Title')  # Changed from 'Movie ID' to 'Movie Title'\n",
    "    # plt.ylabel('Number of Recommendations')\n",
    "    # plt.title('Top 5 Recommended Movies by ALS Model')\n",
    "    # plt.xticks(rotation=45, ha='right')  # Rotate the x-axis labels for better readability\n",
    "    # plt.tight_layout()  # Adjust the layout to fit the labels\n",
    "    # plt.show()\n",
    "    # plt.close()\n",
    "     \n",
    "\n",
    "als_recommend_visualization(recommendations)"
   ]
  },
  {
   "cell_type": "markdown",
   "metadata": {
    "collapsed": false
   },
   "source": [
    "# Part 4: RF Recommend with Visualization"
   ]
  },
  {
   "cell_type": "code",
   "execution_count": 3,
   "metadata": {},
   "outputs": [
    {
     "name": "stdout",
     "output_type": "stream",
     "text": [
      "Initial Movies DataFrame: [Row(movieId=1, title='Toy Story (1995)', genres='Adventure|Animation|Children|Comedy|Fantasy'), Row(movieId=2, title='Jumanji (1995)', genres='Adventure|Children|Fantasy'), Row(movieId=3, title='Grumpier Old Men (1995)', genres='Comedy|Romance'), Row(movieId=4, title='Waiting to Exhale (1995)', genres='Comedy|Drama|Romance'), Row(movieId=5, title='Father of the Bride Part II (1995)', genres='Comedy')]\n",
      "Initial Tags DataFrame: [Row(userId=3, movieId=260, tag='classic', timestamp='1439472355'), Row(userId=3, movieId=260, tag='sci-fi', timestamp='1439472256'), Row(userId=4, movieId=1732, tag='dark comedy', timestamp='1573943598'), Row(userId=4, movieId=1732, tag='great dialogue', timestamp='1573943604'), Row(userId=4, movieId=7569, tag=\"so bad it's good\", timestamp='1573943455')]\n"
     ]
    },
    {
     "name": "stderr",
     "output_type": "stream",
     "text": [
      "                                                                                \r"
     ]
    },
    {
     "name": "stdout",
     "output_type": "stream",
     "text": [
      "Movies DataFrame after splitting genres: [Row(movieId=1, title='Toy Story (1995)', genres='Adventure|Animation|Children|Comedy|Fantasy', split_genres=['Adventure', 'Animation', 'Children', 'Comedy', 'Fantasy']), Row(movieId=2, title='Jumanji (1995)', genres='Adventure|Children|Fantasy', split_genres=['Adventure', 'Children', 'Fantasy']), Row(movieId=3, title='Grumpier Old Men (1995)', genres='Comedy|Romance', split_genres=['Comedy', 'Romance']), Row(movieId=4, title='Waiting to Exhale (1995)', genres='Comedy|Drama|Romance', split_genres=['Comedy', 'Drama', 'Romance']), Row(movieId=5, title='Father of the Bride Part II (1995)', genres='Comedy', split_genres=['Comedy'])]\n",
      "Movies DataFrame after splitting and exploding genres: [Row(movieId=1, title='Toy Story (1995)', genres='Adventure|Animation|Children|Comedy|Fantasy', split_genres=['Adventure', 'Animation', 'Children', 'Comedy', 'Fantasy'], genre='Adventure'), Row(movieId=1, title='Toy Story (1995)', genres='Adventure|Animation|Children|Comedy|Fantasy', split_genres=['Adventure', 'Animation', 'Children', 'Comedy', 'Fantasy'], genre='Animation'), Row(movieId=1, title='Toy Story (1995)', genres='Adventure|Animation|Children|Comedy|Fantasy', split_genres=['Adventure', 'Animation', 'Children', 'Comedy', 'Fantasy'], genre='Children'), Row(movieId=1, title='Toy Story (1995)', genres='Adventure|Animation|Children|Comedy|Fantasy', split_genres=['Adventure', 'Animation', 'Children', 'Comedy', 'Fantasy'], genre='Comedy'), Row(movieId=1, title='Toy Story (1995)', genres='Adventure|Animation|Children|Comedy|Fantasy', split_genres=['Adventure', 'Animation', 'Children', 'Comedy', 'Fantasy'], genre='Fantasy')]\n",
      "Indexed Genre DataFrame: [Row(movieId=1, title='Toy Story (1995)', genres='Adventure|Animation|Children|Comedy|Fantasy', split_genres=['Adventure', 'Animation', 'Children', 'Comedy', 'Fantasy'], genre='Adventure', genreIndex=9.0), Row(movieId=1, title='Toy Story (1995)', genres='Adventure|Animation|Children|Comedy|Fantasy', split_genres=['Adventure', 'Animation', 'Children', 'Comedy', 'Fantasy'], genre='Animation', genreIndex=12.0), Row(movieId=1, title='Toy Story (1995)', genres='Adventure|Animation|Children|Comedy|Fantasy', split_genres=['Adventure', 'Animation', 'Children', 'Comedy', 'Fantasy'], genre='Children', genreIndex=11.0), Row(movieId=1, title='Toy Story (1995)', genres='Adventure|Animation|Children|Comedy|Fantasy', split_genres=['Adventure', 'Animation', 'Children', 'Comedy', 'Fantasy'], genre='Comedy', genreIndex=1.0), Row(movieId=1, title='Toy Story (1995)', genres='Adventure|Animation|Children|Comedy|Fantasy', split_genres=['Adventure', 'Animation', 'Children', 'Comedy', 'Fantasy'], genre='Fantasy', genreIndex=14.0)]\n",
      "Encoded Genre DataFrame: [Row(movieId=1, title='Toy Story (1995)', genres='Adventure|Animation|Children|Comedy|Fantasy', split_genres=['Adventure', 'Animation', 'Children', 'Comedy', 'Fantasy'], genre='Adventure', genreIndex=9.0, genreVec=SparseVector(19, {9: 1.0})), Row(movieId=1, title='Toy Story (1995)', genres='Adventure|Animation|Children|Comedy|Fantasy', split_genres=['Adventure', 'Animation', 'Children', 'Comedy', 'Fantasy'], genre='Animation', genreIndex=12.0, genreVec=SparseVector(19, {12: 1.0})), Row(movieId=1, title='Toy Story (1995)', genres='Adventure|Animation|Children|Comedy|Fantasy', split_genres=['Adventure', 'Animation', 'Children', 'Comedy', 'Fantasy'], genre='Children', genreIndex=11.0, genreVec=SparseVector(19, {11: 1.0})), Row(movieId=1, title='Toy Story (1995)', genres='Adventure|Animation|Children|Comedy|Fantasy', split_genres=['Adventure', 'Animation', 'Children', 'Comedy', 'Fantasy'], genre='Comedy', genreIndex=1.0, genreVec=SparseVector(19, {1: 1.0})), Row(movieId=1, title='Toy Story (1995)', genres='Adventure|Animation|Children|Comedy|Fantasy', split_genres=['Adventure', 'Animation', 'Children', 'Comedy', 'Fantasy'], genre='Fantasy', genreIndex=14.0, genreVec=SparseVector(19, {14: 1.0}))]\n"
     ]
    },
    {
     "name": "stderr",
     "output_type": "stream",
     "text": [
      "                                                                                \r"
     ]
    },
    {
     "name": "stdout",
     "output_type": "stream",
     "text": [
      "Aggregated Genre DataFrame: [Row(movieId=1, genreVecList=[SparseVector(19, {9: 1.0}), SparseVector(19, {12: 1.0}), SparseVector(19, {11: 1.0}), SparseVector(19, {1: 1.0}), SparseVector(19, {14: 1.0})], genresVec=DenseVector([0.0])), Row(movieId=2, genreVecList=[SparseVector(19, {9: 1.0}), SparseVector(19, {11: 1.0}), SparseVector(19, {14: 1.0})], genresVec=DenseVector([0.0])), Row(movieId=3, genreVecList=[SparseVector(19, {1: 1.0}), SparseVector(19, {3: 1.0})], genresVec=DenseVector([0.0])), Row(movieId=4, genreVecList=[SparseVector(19, {1: 1.0}), SparseVector(19, {0: 1.0}), SparseVector(19, {3: 1.0})], genresVec=DenseVector([1.0])), Row(movieId=5, genreVecList=[SparseVector(19, {1: 1.0})], genresVec=DenseVector([0.0]))]\n"
     ]
    },
    {
     "name": "stderr",
     "output_type": "stream",
     "text": [
      "23/11/30 08:06:35 WARN DAGScheduler: Broadcasting large task binary with size 2.6 MiB\n"
     ]
    },
    {
     "name": "stdout",
     "output_type": "stream",
     "text": [
      "Indexed Tags DataFrame: [Row(userId=3, movieId=260, tag='classic', timestamp='1439472355', tagIndex=19.0), Row(userId=3, movieId=260, tag='sci-fi', timestamp='1439472256', tagIndex=0.0), Row(userId=4, movieId=1732, tag='dark comedy', timestamp='1573943598', tagIndex=10.0), Row(userId=4, movieId=1732, tag='great dialogue', timestamp='1573943604', tagIndex=502.0), Row(userId=4, movieId=7569, tag=\"so bad it's good\", timestamp='1573943455', tagIndex=647.0)]\n"
     ]
    },
    {
     "name": "stderr",
     "output_type": "stream",
     "text": [
      "23/11/30 08:06:35 WARN DAGScheduler: Broadcasting large task binary with size 2.6 MiB\n"
     ]
    },
    {
     "name": "stdout",
     "output_type": "stream",
     "text": [
      "Encoded Tags DataFrame: [Row(userId=3, movieId=260, tag='classic', timestamp='1439472355', tagIndex=19.0, tagVec=SparseVector(73050, {19: 1.0})), Row(userId=3, movieId=260, tag='sci-fi', timestamp='1439472256', tagIndex=0.0, tagVec=SparseVector(73050, {0: 1.0})), Row(userId=4, movieId=1732, tag='dark comedy', timestamp='1573943598', tagIndex=10.0, tagVec=SparseVector(73050, {10: 1.0})), Row(userId=4, movieId=1732, tag='great dialogue', timestamp='1573943604', tagIndex=502.0, tagVec=SparseVector(73050, {502: 1.0})), Row(userId=4, movieId=7569, tag=\"so bad it's good\", timestamp='1573943455', tagIndex=647.0, tagVec=SparseVector(73050, {647: 1.0}))]\n"
     ]
    },
    {
     "name": "stderr",
     "output_type": "stream",
     "text": [
      "23/11/30 08:06:37 WARN DAGScheduler: Broadcasting large task binary with size 5.9 MiB\n",
      "23/11/30 08:06:39 WARN DAGScheduler: Broadcasting large task binary with size 5.9 MiB\n",
      "                                                                                \r"
     ]
    },
    {
     "name": "stdout",
     "output_type": "stream",
     "text": [
      "Movie Tags Features DataFrame: [Row(movieId=31, tagFeatures=DenseVector([0.0])), Row(movieId=34, tagFeatures=DenseVector([0.0])), Row(movieId=53, tagFeatures=DenseVector([0.0])), Row(movieId=65, tagFeatures=DenseVector([0.0])), Row(movieId=78, tagFeatures=DenseVector([0.0]))]\n"
     ]
    },
    {
     "name": "stderr",
     "output_type": "stream",
     "text": [
      "23/11/30 08:06:41 WARN DAGScheduler: Broadcasting large task binary with size 5.9 MiB\n",
      "23/11/30 08:06:43 WARN DAGScheduler: Broadcasting large task binary with size 5.9 MiB\n",
      "                                                                                \r"
     ]
    },
    {
     "name": "stdout",
     "output_type": "stream",
     "text": [
      "Complete Data DataFrame after combining features with ratings: [Row(movieId=1088, userId=1, rating=4.0, timestamp=1147868495, title='Dirty Dancing (1987)', genres='Drama|Musical|Romance', split_genres=['Drama', 'Musical', 'Romance'], movie_year=1987, genresVec=DenseVector([1.0]), tagFeatures=DenseVector([0.0])), Row(movieId=1580, userId=2, rating=4.5, timestamp=1141417059, title='Men in Black (a.k.a. MIB) (1997)', genres='Action|Comedy|Sci-Fi', split_genres=['Action', 'Comedy', 'Sci-Fi'], movie_year=1997, genresVec=DenseVector([0.0]), tagFeatures=DenseVector([40.0])), Row(movieId=3175, userId=2, rating=3.5, timestamp=1141417288, title='Galaxy Quest (1999)', genres='Adventure|Comedy|Sci-Fi', split_genres=['Adventure', 'Comedy', 'Sci-Fi'], movie_year=1999, genresVec=DenseVector([0.0]), tagFeatures=DenseVector([14.0])), Row(movieId=44022, userId=3, rating=4.0, timestamp=1439473713, title='Ice Age 2: The Meltdown (2006)', genres='Adventure|Animation|Children|Comedy', split_genres=['Adventure', 'Animation', 'Children', 'Comedy'], movie_year=2006, genresVec=DenseVector([0.0]), tagFeatures=DenseVector([0.0])), Row(movieId=175197, userId=3, rating=3.5, timestamp=1566089493, title='The Dark Tower (2017)', genres='Fantasy|Horror|Sci-Fi|Western', split_genres=['Fantasy', 'Horror', 'Sci-Fi', 'Western'], movie_year=2017, genresVec=DenseVector([0.0]), tagFeatures=DenseVector([0.0]))]\n"
     ]
    },
    {
     "name": "stderr",
     "output_type": "stream",
     "text": [
      "23/11/30 08:07:09 WARN DAGScheduler: Broadcasting large task binary with size 5.9 MiB\n",
      "23/11/30 08:07:10 WARN DAGScheduler: Broadcasting large task binary with size 5.9 MiB\n",
      "                                                                                \r"
     ]
    },
    {
     "name": "stdout",
     "output_type": "stream",
     "text": [
      "DataFrame[movieId: int, userId: int, rating: double, timestamp: int, title: string, genres: string, split_genres: array<string>, movie_year: int, genresVec: vector, tagFeatures: vector, features: vector]\n"
     ]
    }
   ],
   "source": [
    "def feature_engineering(spark, ratings_df):\n",
    "    \"\"\"\n",
    "    Perform feature engineering for movie recommendations. This includes processing movie genres and tags,\n",
    "    and applying one-hot encoding.\n",
    "\n",
    "    Args:\n",
    "    spark (SparkSession): SparkSession object for DataFrame operations.\n",
    "    ratings_df (DataFrame): DataFrame containing movie ratings.\n",
    "\n",
    "    Returns:\n",
    "    DataFrame: A DataFrame with combined movie features ready for model training.\n",
    "    \"\"\"\n",
    "\n",
    "    # Converts a list of vectors into a single vector by summing up each dimension.\n",
    "    def sum_vectors(vectors):\n",
    "        return Vectors.dense(sum(v[0] for v in vectors))\n",
    "\n",
    "    sum_vectors_udf = udf(sum_vectors, VectorUDT())\n",
    "\n",
    "    # Load and preprocess datasets\n",
    "    movies_df = spark.read.csv(\"dataset/movies.csv\", header=True, inferSchema=True)    # movieId, title, genres\n",
    "    tags_df = spark.read.csv(\"dataset/tags.csv\", header=True, inferSchema=True)    # userId, movieId, tag, timestamp\n",
    "    print(\"Initial Movies DataFrame:\", movies_df.take(5))\n",
    "    print(\"Initial Tags DataFrame:\", tags_df.take(5))\n",
    "\n",
    "    # Process genres: split, explode, and one-hot encode\n",
    "    movies_df = movies_df.withColumn(\"split_genres\", split(col(\"genres\"), \"\\|\"))    # Split genres into individual genres\n",
    "    movies_exploded = movies_df.withColumn(\"genre\", explode(col(\"split_genres\")))   # Explode genres into new rows\n",
    "    genre_indexer = StringIndexer(inputCol=\"genre\", outputCol=\"genreIndex\")\n",
    "    indexed_genre = genre_indexer.fit(movies_exploded).transform(movies_exploded)\n",
    "    genre_encoder = OneHotEncoder(inputCol=\"genreIndex\", outputCol=\"genreVec\")\n",
    "    encoded_genre = genre_encoder.fit(indexed_genre).transform(indexed_genre)\n",
    "    print(\"Movies DataFrame after splitting genres:\", movies_df.take(5))\n",
    "    print(\"Movies DataFrame after splitting and exploding genres:\", movies_exploded.take(5))\n",
    "    print(\"Indexed Genre DataFrame:\", indexed_genre.take(5))\n",
    "    print(\"Encoded Genre DataFrame:\", encoded_genre.take(5))\n",
    "\n",
    "    # Aggregate the encoded genres back to movie level\n",
    "    genre_aggregated = encoded_genre.groupBy(\"movieId\").agg(collect_list(\"genreVec\").alias(\"genreVecList\"))\n",
    "    genre_aggregated = genre_aggregated.withColumn(\"genresVec\", sum_vectors_udf(\"genreVecList\"))\n",
    "    print(\"Aggregated Genre DataFrame:\", genre_aggregated.take(5))\n",
    "\n",
    "    # Process tags using StringIndexer + OneHotEncoder\n",
    "    tag_indexer = StringIndexer(inputCol=\"tag\", outputCol=\"tagIndex\")\n",
    "    tag_model = tag_indexer.fit(tags_df)\n",
    "    indexed_tags = tag_model.transform(tags_df)\n",
    "    tag_encoder = OneHotEncoder(inputCols=[\"tagIndex\"], outputCols=[\"tagVec\"])\n",
    "    tags_encoded = tag_encoder.fit(indexed_tags).transform(indexed_tags)\n",
    "    print(\"Indexed Tags DataFrame:\", indexed_tags.take(5))\n",
    "    print(\"Encoded Tags DataFrame:\", tags_encoded.take(5))\n",
    "\n",
    "    def parse_year(title):\n",
    "        pattern = r\"\\((\\d{4})\\)\"  # Regular expression pattern to extract the year\n",
    "        match = re.search(pattern, title)\n",
    "        if match:\n",
    "            year_str = match.group(1)\n",
    "            return int(year_str)\n",
    "        else:\n",
    "            return 1900\n",
    "    \n",
    "    # Extract movie year\n",
    "    parse_year_udf = udf(parse_year, IntegerType())\n",
    "    joined_df = ratings_df.join(movies_df, \"movieId\")\n",
    "\n",
    "    # Add the 'movie_year' column\n",
    "    joined_df = joined_df.withColumn(\"movie_year\", parse_year_udf(joined_df['title']))\n",
    "\n",
    "    # Explode tag vectors into a list of features for each movie\n",
    "    movie_tags_features = tags_encoded.groupBy('movieId').agg(F.collect_list('tagVec').alias('tagVectors'))\n",
    "    movie_tags_features = movie_tags_features.withColumn('tagFeatures', sum_vectors_udf('tagVectors')).drop('tagVectors')\n",
    "    print(\"Movie Tags Features DataFrame:\", movie_tags_features.take(5))\n",
    "\n",
    "    # Combine movie features with ratings\n",
    "    complete_data_df = joined_df.join(genre_aggregated.select(\"movieId\", \"genresVec\"), \"movieId\").join(movie_tags_features, \"movieId\")\n",
    "    print(\"Complete Data DataFrame after combining features with ratings:\", complete_data_df.take(5))\n",
    "\n",
    "    # Create feature vectors\n",
    "    assembler = VectorAssembler(\n",
    "    inputCols=[\"userId\", \"movieId\", \"timestamp\", \"movie_year\"] + [\"genresVec\", \"tagFeatures\"],\n",
    "    outputCol=\"features\"\n",
    "    )    \n",
    "    data_ready = assembler.transform(complete_data_df)\n",
    "\n",
    "    return data_ready\n",
    "\n",
    "# Assuming spark and ratings_df are defined earlier in your code\n",
    "data_ready = feature_engineering(spark, ratings_df)\n",
    "print(data_ready)\n"
   ]
  },
  {
   "cell_type": "code",
   "execution_count": 4,
   "metadata": {},
   "outputs": [
    {
     "name": "stderr",
     "output_type": "stream",
     "text": [
      "23/11/30 08:07:19 WARN DAGScheduler: Broadcasting large task binary with size 5.9 MiB\n",
      "23/11/30 08:07:21 WARN DAGScheduler: Broadcasting large task binary with size 5.9 MiB\n",
      "23/11/30 08:07:28 WARN DAGScheduler: Broadcasting large task binary with size 6.0 MiB\n",
      "23/11/30 08:07:35 WARN DAGScheduler: Broadcasting large task binary with size 6.0 MiB\n",
      "23/11/30 08:08:02 WARN DAGScheduler: Broadcasting large task binary with size 6.0 MiB\n",
      "23/11/30 08:08:25 WARN DAGScheduler: Broadcasting large task binary with size 6.0 MiB\n",
      "23/11/30 08:08:53 WARN MemoryStore: Not enough space to cache rdd_219_14 in memory! (computed 105.0 MiB so far)\n",
      "23/11/30 08:08:53 WARN BlockManager: Persisting block rdd_219_14 to disk instead.\n",
      "23/11/30 08:08:53 WARN MemoryStore: Not enough space to cache rdd_219_9 in memory! (computed 105.0 MiB so far)\n",
      "23/11/30 08:08:53 WARN BlockManager: Persisting block rdd_219_9 to disk instead.\n",
      "23/11/30 08:08:53 WARN MemoryStore: Not enough space to cache rdd_219_0 in memory! (computed 105.0 MiB so far)\n",
      "23/11/30 08:08:53 WARN BlockManager: Persisting block rdd_219_0 to disk instead.\n",
      "23/11/30 08:08:54 WARN MemoryStore: Not enough space to cache rdd_219_3 in memory! (computed 105.0 MiB so far)\n",
      "23/11/30 08:08:54 WARN BlockManager: Persisting block rdd_219_3 to disk instead.\n",
      "23/11/30 08:08:54 WARN MemoryStore: Not enough space to cache rdd_219_7 in memory! (computed 157.5 MiB so far)\n",
      "23/11/30 08:08:54 WARN BlockManager: Persisting block rdd_219_7 to disk instead.\n",
      "23/11/30 08:08:54 WARN MemoryStore: Not enough space to cache rdd_219_11 in memory! (computed 157.5 MiB so far)\n",
      "23/11/30 08:08:54 WARN BlockManager: Persisting block rdd_219_11 to disk instead.\n",
      "23/11/30 08:08:54 WARN MemoryStore: Not enough space to cache rdd_219_1 in memory! (computed 105.0 MiB so far)\n",
      "23/11/30 08:08:54 WARN BlockManager: Persisting block rdd_219_1 to disk instead.\n",
      "23/11/30 08:08:54 WARN MemoryStore: Not enough space to cache rdd_219_4 in memory! (computed 157.5 MiB so far)\n",
      "23/11/30 08:08:54 WARN BlockManager: Persisting block rdd_219_4 to disk instead.\n",
      "23/11/30 08:08:54 WARN MemoryStore: Not enough space to cache rdd_219_12 in memory! (computed 157.5 MiB so far)\n",
      "23/11/30 08:08:54 WARN BlockManager: Persisting block rdd_219_12 to disk instead.\n",
      "23/11/30 08:08:59 WARN MemoryStore: Not enough space to cache rdd_219_8 in memory! (computed 157.5 MiB so far)\n",
      "23/11/30 08:08:59 WARN BlockManager: Persisting block rdd_219_8 to disk instead.\n",
      "23/11/30 08:08:59 WARN MemoryStore: Not enough space to cache rdd_219_2 in memory! (computed 157.5 MiB so far)\n",
      "23/11/30 08:08:59 WARN BlockManager: Persisting block rdd_219_2 to disk instead.\n",
      "23/11/30 08:08:59 WARN MemoryStore: Not enough space to cache rdd_219_6 in memory! (computed 105.0 MiB so far)\n",
      "23/11/30 08:08:59 WARN BlockManager: Persisting block rdd_219_6 to disk instead.\n",
      "23/11/30 08:08:59 WARN MemoryStore: Not enough space to cache rdd_219_5 in memory! (computed 157.5 MiB so far)\n",
      "23/11/30 08:08:59 WARN BlockManager: Persisting block rdd_219_5 to disk instead.\n",
      "23/11/30 08:09:13 WARN DAGScheduler: Broadcasting large task binary with size 6.0 MiB\n",
      "23/11/30 08:09:16 WARN DAGScheduler: Broadcasting large task binary with size 6.0 MiB\n",
      "23/11/30 08:09:19 WARN DAGScheduler: Broadcasting large task binary with size 6.0 MiB\n",
      "23/11/30 08:09:23 WARN DAGScheduler: Broadcasting large task binary with size 6.0 MiB\n",
      "23/11/30 08:09:26 WARN DAGScheduler: Broadcasting large task binary with size 6.1 MiB\n",
      "23/11/30 08:09:29 WARN DAGScheduler: Broadcasting large task binary with size 6.1 MiB\n",
      "23/11/30 08:09:34 WARN DAGScheduler: Broadcasting large task binary with size 5.9 MiB\n",
      "23/11/30 08:09:36 WARN DAGScheduler: Broadcasting large task binary with size 5.9 MiB\n",
      "23/11/30 08:10:00 WARN DAGScheduler: Broadcasting large task binary with size 5.9 MiB\n",
      "23/11/30 08:10:13 WARN DAGScheduler: Broadcasting large task binary with size 5.9 MiB\n",
      "23/11/30 08:10:14 WARN DAGScheduler: Broadcasting large task binary with size 5.9 MiB\n",
      "23/11/30 08:10:15 WARN DAGScheduler: Broadcasting large task binary with size 5.9 MiB\n",
      "23/11/30 08:10:40 WARN DAGScheduler: Broadcasting large task binary with size 5.9 MiB\n",
      "23/11/30 08:10:52 WARN DAGScheduler: Broadcasting large task binary with size 5.9 MiB\n",
      "                                                                                \r"
     ]
    },
    {
     "name": "stdout",
     "output_type": "stream",
     "text": [
      "Root Mean Square Error (RMSE): 1.0311452075866905\n",
      "Mean Absolute Error (MAE): 0.8155895854872229\n",
      "DataFrame[title: string, avg(prediction): double]\n"
     ]
    },
    {
     "name": "stderr",
     "output_type": "stream",
     "text": [
      "23/11/30 08:10:53 WARN DAGScheduler: Broadcasting large task binary with size 5.9 MiB\n",
      "23/11/30 08:10:55 WARN DAGScheduler: Broadcasting large task binary with size 5.9 MiB\n",
      "23/11/30 08:11:01 WARN DAGScheduler: Broadcasting large task binary with size 6.0 MiB\n",
      "23/11/30 08:11:07 WARN RowBasedKeyValueBatch: Calling spill() on RowBasedKeyValueBatch. Will not spill but return 0.\n",
      "23/11/30 08:11:07 WARN RowBasedKeyValueBatch: Calling spill() on RowBasedKeyValueBatch. Will not spill but return 0.\n",
      "23/11/30 08:11:07 WARN RowBasedKeyValueBatch: Calling spill() on RowBasedKeyValueBatch. Will not spill but return 0.\n",
      "23/11/30 08:11:07 WARN RowBasedKeyValueBatch: Calling spill() on RowBasedKeyValueBatch. Will not spill but return 0.\n",
      "23/11/30 08:11:07 WARN RowBasedKeyValueBatch: Calling spill() on RowBasedKeyValueBatch. Will not spill but return 0.\n",
      "23/11/30 08:11:07 WARN RowBasedKeyValueBatch: Calling spill() on RowBasedKeyValueBatch. Will not spill but return 0.\n",
      "23/11/30 08:11:07 WARN RowBasedKeyValueBatch: Calling spill() on RowBasedKeyValueBatch. Will not spill but return 0.\n",
      "23/11/30 08:11:08 WARN RowBasedKeyValueBatch: Calling spill() on RowBasedKeyValueBatch. Will not spill but return 0.\n",
      "23/11/30 08:11:08 WARN RowBasedKeyValueBatch: Calling spill() on RowBasedKeyValueBatch. Will not spill but return 0.\n",
      "23/11/30 08:11:08 WARN RowBasedKeyValueBatch: Calling spill() on RowBasedKeyValueBatch. Will not spill but return 0.\n",
      "23/11/30 08:11:08 WARN RowBasedKeyValueBatch: Calling spill() on RowBasedKeyValueBatch. Will not spill but return 0.\n",
      "23/11/30 08:11:08 WARN RowBasedKeyValueBatch: Calling spill() on RowBasedKeyValueBatch. Will not spill but return 0.\n",
      "23/11/30 08:11:08 WARN RowBasedKeyValueBatch: Calling spill() on RowBasedKeyValueBatch. Will not spill but return 0.\n",
      "23/11/30 08:11:09 WARN RowBasedKeyValueBatch: Calling spill() on RowBasedKeyValueBatch. Will not spill but return 0.\n",
      "23/11/30 08:11:09 WARN RowBasedKeyValueBatch: Calling spill() on RowBasedKeyValueBatch. Will not spill but return 0.\n",
      "23/11/30 08:11:09 WARN RowBasedKeyValueBatch: Calling spill() on RowBasedKeyValueBatch. Will not spill but return 0.\n",
      "23/11/30 08:11:09 WARN RowBasedKeyValueBatch: Calling spill() on RowBasedKeyValueBatch. Will not spill but return 0.\n",
      "23/11/30 08:11:09 WARN RowBasedKeyValueBatch: Calling spill() on RowBasedKeyValueBatch. Will not spill but return 0.\n",
      "23/11/30 08:11:09 WARN RowBasedKeyValueBatch: Calling spill() on RowBasedKeyValueBatch. Will not spill but return 0.\n",
      "23/11/30 08:11:09 WARN RowBasedKeyValueBatch: Calling spill() on RowBasedKeyValueBatch. Will not spill but return 0.\n",
      "23/11/30 08:11:09 WARN RowBasedKeyValueBatch: Calling spill() on RowBasedKeyValueBatch. Will not spill but return 0.\n",
      "23/11/30 08:11:09 WARN RowBasedKeyValueBatch: Calling spill() on RowBasedKeyValueBatch. Will not spill but return 0.\n",
      "23/11/30 08:11:09 WARN RowBasedKeyValueBatch: Calling spill() on RowBasedKeyValueBatch. Will not spill but return 0.\n",
      "23/11/30 08:11:10 WARN RowBasedKeyValueBatch: Calling spill() on RowBasedKeyValueBatch. Will not spill but return 0.\n",
      "23/11/30 08:11:10 WARN RowBasedKeyValueBatch: Calling spill() on RowBasedKeyValueBatch. Will not spill but return 0.\n",
      "23/11/30 08:11:10 WARN RowBasedKeyValueBatch: Calling spill() on RowBasedKeyValueBatch. Will not spill but return 0.\n",
      "23/11/30 08:11:10 WARN RowBasedKeyValueBatch: Calling spill() on RowBasedKeyValueBatch. Will not spill but return 0.\n",
      "23/11/30 08:11:10 WARN RowBasedKeyValueBatch: Calling spill() on RowBasedKeyValueBatch. Will not spill but return 0.\n",
      "23/11/30 08:11:10 WARN RowBasedKeyValueBatch: Calling spill() on RowBasedKeyValueBatch. Will not spill but return 0.\n",
      "23/11/30 08:11:10 WARN RowBasedKeyValueBatch: Calling spill() on RowBasedKeyValueBatch. Will not spill but return 0.\n",
      "23/11/30 08:11:10 WARN RowBasedKeyValueBatch: Calling spill() on RowBasedKeyValueBatch. Will not spill but return 0.\n",
      "23/11/30 08:11:10 WARN RowBasedKeyValueBatch: Calling spill() on RowBasedKeyValueBatch. Will not spill but return 0.\n",
      "23/11/30 08:11:10 WARN RowBasedKeyValueBatch: Calling spill() on RowBasedKeyValueBatch. Will not spill but return 0.\n",
      "23/11/30 08:11:10 WARN RowBasedKeyValueBatch: Calling spill() on RowBasedKeyValueBatch. Will not spill but return 0.\n",
      "23/11/30 08:11:10 WARN RowBasedKeyValueBatch: Calling spill() on RowBasedKeyValueBatch. Will not spill but return 0.\n",
      "23/11/30 08:11:10 WARN RowBasedKeyValueBatch: Calling spill() on RowBasedKeyValueBatch. Will not spill but return 0.\n",
      "23/11/30 08:11:11 WARN RowBasedKeyValueBatch: Calling spill() on RowBasedKeyValueBatch. Will not spill but return 0.\n",
      "23/11/30 08:11:11 WARN RowBasedKeyValueBatch: Calling spill() on RowBasedKeyValueBatch. Will not spill but return 0.\n",
      "23/11/30 08:11:11 WARN RowBasedKeyValueBatch: Calling spill() on RowBasedKeyValueBatch. Will not spill but return 0.\n",
      "23/11/30 08:11:11 WARN RowBasedKeyValueBatch: Calling spill() on RowBasedKeyValueBatch. Will not spill but return 0.\n",
      "23/11/30 08:11:11 WARN RowBasedKeyValueBatch: Calling spill() on RowBasedKeyValueBatch. Will not spill but return 0.\n",
      "23/11/30 08:11:11 WARN RowBasedKeyValueBatch: Calling spill() on RowBasedKeyValueBatch. Will not spill but return 0.\n",
      "23/11/30 08:11:11 WARN RowBasedKeyValueBatch: Calling spill() on RowBasedKeyValueBatch. Will not spill but return 0.\n",
      "23/11/30 08:11:11 WARN RowBasedKeyValueBatch: Calling spill() on RowBasedKeyValueBatch. Will not spill but return 0.\n",
      "23/11/30 08:11:11 WARN RowBasedKeyValueBatch: Calling spill() on RowBasedKeyValueBatch. Will not spill but return 0.\n",
      "23/11/30 08:11:11 WARN RowBasedKeyValueBatch: Calling spill() on RowBasedKeyValueBatch. Will not spill but return 0.\n",
      "23/11/30 08:11:11 WARN RowBasedKeyValueBatch: Calling spill() on RowBasedKeyValueBatch. Will not spill but return 0.\n",
      "23/11/30 08:11:11 WARN RowBasedKeyValueBatch: Calling spill() on RowBasedKeyValueBatch. Will not spill but return 0.\n",
      "23/11/30 08:11:11 WARN RowBasedKeyValueBatch: Calling spill() on RowBasedKeyValueBatch. Will not spill but return 0.\n",
      "23/11/30 08:11:11 WARN RowBasedKeyValueBatch: Calling spill() on RowBasedKeyValueBatch. Will not spill but return 0.\n",
      "23/11/30 08:11:12 WARN RowBasedKeyValueBatch: Calling spill() on RowBasedKeyValueBatch. Will not spill but return 0.\n",
      "23/11/30 08:11:12 WARN RowBasedKeyValueBatch: Calling spill() on RowBasedKeyValueBatch. Will not spill but return 0.\n",
      "23/11/30 08:11:12 WARN RowBasedKeyValueBatch: Calling spill() on RowBasedKeyValueBatch. Will not spill but return 0.\n",
      "23/11/30 08:11:12 WARN RowBasedKeyValueBatch: Calling spill() on RowBasedKeyValueBatch. Will not spill but return 0.\n",
      "23/11/30 08:11:14 WARN RowBasedKeyValueBatch: Calling spill() on RowBasedKeyValueBatch. Will not spill but return 0.\n",
      "23/11/30 08:11:15 WARN RowBasedKeyValueBatch: Calling spill() on RowBasedKeyValueBatch. Will not spill but return 0.\n",
      "23/11/30 08:11:15 WARN RowBasedKeyValueBatch: Calling spill() on RowBasedKeyValueBatch. Will not spill but return 0.\n",
      "23/11/30 08:11:15 WARN RowBasedKeyValueBatch: Calling spill() on RowBasedKeyValueBatch. Will not spill but return 0.\n",
      "23/11/30 08:11:15 WARN RowBasedKeyValueBatch: Calling spill() on RowBasedKeyValueBatch. Will not spill but return 0.\n",
      "23/11/30 08:11:15 WARN RowBasedKeyValueBatch: Calling spill() on RowBasedKeyValueBatch. Will not spill but return 0.\n",
      "23/11/30 08:11:15 WARN RowBasedKeyValueBatch: Calling spill() on RowBasedKeyValueBatch. Will not spill but return 0.\n",
      "23/11/30 08:11:16 WARN RowBasedKeyValueBatch: Calling spill() on RowBasedKeyValueBatch. Will not spill but return 0.\n",
      "23/11/30 08:11:16 WARN RowBasedKeyValueBatch: Calling spill() on RowBasedKeyValueBatch. Will not spill but return 0.\n",
      "23/11/30 08:11:16 WARN RowBasedKeyValueBatch: Calling spill() on RowBasedKeyValueBatch. Will not spill but return 0.\n",
      "23/11/30 08:11:16 WARN RowBasedKeyValueBatch: Calling spill() on RowBasedKeyValueBatch. Will not spill but return 0.\n",
      "23/11/30 08:11:16 WARN RowBasedKeyValueBatch: Calling spill() on RowBasedKeyValueBatch. Will not spill but return 0.\n",
      "23/11/30 08:11:16 WARN RowBasedKeyValueBatch: Calling spill() on RowBasedKeyValueBatch. Will not spill but return 0.\n",
      "23/11/30 08:11:16 WARN RowBasedKeyValueBatch: Calling spill() on RowBasedKeyValueBatch. Will not spill but return 0.\n",
      "23/11/30 08:11:16 WARN RowBasedKeyValueBatch: Calling spill() on RowBasedKeyValueBatch. Will not spill but return 0.\n",
      "23/11/30 08:11:16 WARN RowBasedKeyValueBatch: Calling spill() on RowBasedKeyValueBatch. Will not spill but return 0.\n",
      "23/11/30 08:11:16 WARN RowBasedKeyValueBatch: Calling spill() on RowBasedKeyValueBatch. Will not spill but return 0.\n",
      "23/11/30 08:11:16 WARN RowBasedKeyValueBatch: Calling spill() on RowBasedKeyValueBatch. Will not spill but return 0.\n",
      "23/11/30 08:11:16 WARN RowBasedKeyValueBatch: Calling spill() on RowBasedKeyValueBatch. Will not spill but return 0.\n",
      "23/11/30 08:11:16 WARN RowBasedKeyValueBatch: Calling spill() on RowBasedKeyValueBatch. Will not spill but return 0.\n",
      "23/11/30 08:11:16 WARN RowBasedKeyValueBatch: Calling spill() on RowBasedKeyValueBatch. Will not spill but return 0.\n",
      "23/11/30 08:11:16 WARN RowBasedKeyValueBatch: Calling spill() on RowBasedKeyValueBatch. Will not spill but return 0.\n",
      "23/11/30 08:11:16 WARN RowBasedKeyValueBatch: Calling spill() on RowBasedKeyValueBatch. Will not spill but return 0.\n",
      "23/11/30 08:11:16 WARN RowBasedKeyValueBatch: Calling spill() on RowBasedKeyValueBatch. Will not spill but return 0.\n",
      "23/11/30 08:11:16 WARN RowBasedKeyValueBatch: Calling spill() on RowBasedKeyValueBatch. Will not spill but return 0.\n",
      "23/11/30 08:11:17 WARN RowBasedKeyValueBatch: Calling spill() on RowBasedKeyValueBatch. Will not spill but return 0.\n",
      "23/11/30 08:11:17 WARN RowBasedKeyValueBatch: Calling spill() on RowBasedKeyValueBatch. Will not spill but return 0.\n",
      "23/11/30 08:11:17 WARN RowBasedKeyValueBatch: Calling spill() on RowBasedKeyValueBatch. Will not spill but return 0.\n",
      "23/11/30 08:11:17 WARN RowBasedKeyValueBatch: Calling spill() on RowBasedKeyValueBatch. Will not spill but return 0.\n",
      "23/11/30 08:11:17 WARN RowBasedKeyValueBatch: Calling spill() on RowBasedKeyValueBatch. Will not spill but return 0.\n",
      "23/11/30 08:11:17 WARN RowBasedKeyValueBatch: Calling spill() on RowBasedKeyValueBatch. Will not spill but return 0.\n",
      "23/11/30 08:11:17 WARN RowBasedKeyValueBatch: Calling spill() on RowBasedKeyValueBatch. Will not spill but return 0.\n",
      "23/11/30 08:11:17 WARN RowBasedKeyValueBatch: Calling spill() on RowBasedKeyValueBatch. Will not spill but return 0.\n",
      "23/11/30 08:11:17 WARN RowBasedKeyValueBatch: Calling spill() on RowBasedKeyValueBatch. Will not spill but return 0.\n",
      "23/11/30 08:11:18 WARN RowBasedKeyValueBatch: Calling spill() on RowBasedKeyValueBatch. Will not spill but return 0.\n",
      "23/11/30 08:11:18 WARN RowBasedKeyValueBatch: Calling spill() on RowBasedKeyValueBatch. Will not spill but return 0.\n",
      "23/11/30 08:11:18 WARN RowBasedKeyValueBatch: Calling spill() on RowBasedKeyValueBatch. Will not spill but return 0.\n",
      "23/11/30 08:11:18 WARN RowBasedKeyValueBatch: Calling spill() on RowBasedKeyValueBatch. Will not spill but return 0.\n",
      "23/11/30 08:11:18 WARN RowBasedKeyValueBatch: Calling spill() on RowBasedKeyValueBatch. Will not spill but return 0.\n",
      "23/11/30 08:11:18 WARN RowBasedKeyValueBatch: Calling spill() on RowBasedKeyValueBatch. Will not spill but return 0.\n",
      "23/11/30 08:11:18 WARN RowBasedKeyValueBatch: Calling spill() on RowBasedKeyValueBatch. Will not spill but return 0.\n",
      "23/11/30 08:11:19 WARN RowBasedKeyValueBatch: Calling spill() on RowBasedKeyValueBatch. Will not spill but return 0.\n",
      "23/11/30 08:11:19 WARN RowBasedKeyValueBatch: Calling spill() on RowBasedKeyValueBatch. Will not spill but return 0.\n",
      "23/11/30 08:11:19 WARN RowBasedKeyValueBatch: Calling spill() on RowBasedKeyValueBatch. Will not spill but return 0.\n",
      "23/11/30 08:11:20 WARN RowBasedKeyValueBatch: Calling spill() on RowBasedKeyValueBatch. Will not spill but return 0.\n",
      "23/11/30 08:11:20 WARN RowBasedKeyValueBatch: Calling spill() on RowBasedKeyValueBatch. Will not spill but return 0.\n",
      "23/11/30 08:11:20 WARN RowBasedKeyValueBatch: Calling spill() on RowBasedKeyValueBatch. Will not spill but return 0.\n",
      "23/11/30 08:11:20 WARN RowBasedKeyValueBatch: Calling spill() on RowBasedKeyValueBatch. Will not spill but return 0.\n",
      "23/11/30 08:11:20 WARN RowBasedKeyValueBatch: Calling spill() on RowBasedKeyValueBatch. Will not spill but return 0.\n",
      "23/11/30 08:11:20 WARN RowBasedKeyValueBatch: Calling spill() on RowBasedKeyValueBatch. Will not spill but return 0.\n",
      "23/11/30 08:11:20 WARN RowBasedKeyValueBatch: Calling spill() on RowBasedKeyValueBatch. Will not spill but return 0.\n",
      "23/11/30 08:11:21 WARN RowBasedKeyValueBatch: Calling spill() on RowBasedKeyValueBatch. Will not spill but return 0.\n",
      "23/11/30 08:11:21 WARN RowBasedKeyValueBatch: Calling spill() on RowBasedKeyValueBatch. Will not spill but return 0.\n",
      "23/11/30 08:11:21 WARN RowBasedKeyValueBatch: Calling spill() on RowBasedKeyValueBatch. Will not spill but return 0.\n",
      "23/11/30 08:11:21 WARN RowBasedKeyValueBatch: Calling spill() on RowBasedKeyValueBatch. Will not spill but return 0.\n",
      "23/11/30 08:11:21 WARN RowBasedKeyValueBatch: Calling spill() on RowBasedKeyValueBatch. Will not spill but return 0.\n",
      "23/11/30 08:11:21 WARN RowBasedKeyValueBatch: Calling spill() on RowBasedKeyValueBatch. Will not spill but return 0.\n",
      "23/11/30 08:11:22 WARN RowBasedKeyValueBatch: Calling spill() on RowBasedKeyValueBatch. Will not spill but return 0.\n",
      "23/11/30 08:11:22 WARN RowBasedKeyValueBatch: Calling spill() on RowBasedKeyValueBatch. Will not spill but return 0.\n",
      "23/11/30 08:11:22 WARN RowBasedKeyValueBatch: Calling spill() on RowBasedKeyValueBatch. Will not spill but return 0.\n",
      "23/11/30 08:11:22 WARN RowBasedKeyValueBatch: Calling spill() on RowBasedKeyValueBatch. Will not spill but return 0.\n",
      "23/11/30 08:11:22 WARN RowBasedKeyValueBatch: Calling spill() on RowBasedKeyValueBatch. Will not spill but return 0.\n",
      "23/11/30 08:11:22 WARN RowBasedKeyValueBatch: Calling spill() on RowBasedKeyValueBatch. Will not spill but return 0.\n",
      "23/11/30 08:11:22 WARN RowBasedKeyValueBatch: Calling spill() on RowBasedKeyValueBatch. Will not spill but return 0.\n",
      "23/11/30 08:11:22 WARN RowBasedKeyValueBatch: Calling spill() on RowBasedKeyValueBatch. Will not spill but return 0.\n",
      "23/11/30 08:11:22 WARN RowBasedKeyValueBatch: Calling spill() on RowBasedKeyValueBatch. Will not spill but return 0.\n",
      "23/11/30 08:11:22 WARN RowBasedKeyValueBatch: Calling spill() on RowBasedKeyValueBatch. Will not spill but return 0.\n",
      "23/11/30 08:11:22 WARN RowBasedKeyValueBatch: Calling spill() on RowBasedKeyValueBatch. Will not spill but return 0.\n",
      "23/11/30 08:11:22 WARN RowBasedKeyValueBatch: Calling spill() on RowBasedKeyValueBatch. Will not spill but return 0.\n",
      "23/11/30 08:11:22 WARN RowBasedKeyValueBatch: Calling spill() on RowBasedKeyValueBatch. Will not spill but return 0.\n",
      "23/11/30 08:11:22 WARN RowBasedKeyValueBatch: Calling spill() on RowBasedKeyValueBatch. Will not spill but return 0.\n",
      "23/11/30 08:11:22 WARN RowBasedKeyValueBatch: Calling spill() on RowBasedKeyValueBatch. Will not spill but return 0.\n",
      "23/11/30 08:11:22 WARN RowBasedKeyValueBatch: Calling spill() on RowBasedKeyValueBatch. Will not spill but return 0.\n",
      "23/11/30 08:11:22 WARN RowBasedKeyValueBatch: Calling spill() on RowBasedKeyValueBatch. Will not spill but return 0.\n",
      "23/11/30 08:11:23 WARN RowBasedKeyValueBatch: Calling spill() on RowBasedKeyValueBatch. Will not spill but return 0.\n",
      "23/11/30 08:11:23 WARN RowBasedKeyValueBatch: Calling spill() on RowBasedKeyValueBatch. Will not spill but return 0.\n",
      "23/11/30 08:11:23 WARN RowBasedKeyValueBatch: Calling spill() on RowBasedKeyValueBatch. Will not spill but return 0.\n",
      "23/11/30 08:11:23 WARN RowBasedKeyValueBatch: Calling spill() on RowBasedKeyValueBatch. Will not spill but return 0.\n",
      "23/11/30 08:11:23 WARN RowBasedKeyValueBatch: Calling spill() on RowBasedKeyValueBatch. Will not spill but return 0.\n",
      "23/11/30 08:11:28 WARN DAGScheduler: Broadcasting large task binary with size 5.9 MiB\n",
      "23/11/30 08:11:29 WARN DAGScheduler: Broadcasting large task binary with size 5.9 MiB\n",
      "                                                                                \r"
     ]
    },
    {
     "data": {
      "image/png": "[encoded data removed]",
      "text/plain": [
       "<Figure size 1200x800 with 1 Axes>"
      ]
     },
     "metadata": {},
     "output_type": "display_data"
    },
    {
     "name": "stderr",
     "output_type": "stream",
     "text": [
      "----------------------------------------\n",
      "Exception happened during processing of request from ('127.0.0.1', 35970)\n",
      "Traceback (most recent call last):\n",
      "  File \"/root/anaconda3/envs/pyspark/lib/python3.8/socketserver.py\", line 316, in _handle_request_noblock\n",
      "    self.process_request(request, client_address)\n",
      "  File \"/root/anaconda3/envs/pyspark/lib/python3.8/socketserver.py\", line 347, in process_request\n",
      "    self.finish_request(request, client_address)\n",
      "  File \"/root/anaconda3/envs/pyspark/lib/python3.8/socketserver.py\", line 360, in finish_request\n",
      "    self.RequestHandlerClass(request, client_address, self)\n",
      "  File \"/root/anaconda3/envs/pyspark/lib/python3.8/socketserver.py\", line 747, in __init__\n",
      "    self.handle()\n",
      "  File \"/root/anaconda3/envs/pyspark/lib/python3.8/site-packages/pyspark/accumulators.py\", line 281, in handle\n",
      "    poll(accum_updates)\n",
      "  File \"/root/anaconda3/envs/pyspark/lib/python3.8/site-packages/pyspark/accumulators.py\", line 253, in poll\n",
      "    if func():\n",
      "  File \"/root/anaconda3/envs/pyspark/lib/python3.8/site-packages/pyspark/accumulators.py\", line 257, in accum_updates\n",
      "    num_updates = read_int(self.rfile)\n",
      "  File \"/root/anaconda3/envs/pyspark/lib/python3.8/site-packages/pyspark/serializers.py\", line 596, in read_int\n",
      "    raise EOFError\n",
      "EOFError\n",
      "----------------------------------------\n"
     ]
    }
   ],
   "source": [
    "def train_evaluate_visualize(data_ready):\n",
    "    \"\"\"\n",
    "    Train, evaluate, and visualize movie recommendations using a Random Forest model.\n",
    "\n",
    "    Args:\n",
    "    data_ready (DataFrame): DataFrame containing prepared features for training.\n",
    "    \"\"\"\n",
    "\n",
    "    # Splitting the dataset\n",
    "    training_features, test_features = data_ready.randomSplit([0.7, 0.3])\n",
    "\n",
    "    # Training the Random Forest model\n",
    "    rf = RandomForestRegressor(\n",
    "    featuresCol=\"features\",\n",
    "    labelCol=\"rating\",\n",
    "    numTrees=10,\n",
    "    maxDepth=7,\n",
    "    maxBins=32,\n",
    "    minInstancesPerNode=1\n",
    "    )   \n",
    "    model = rf.fit(training_features)\n",
    "\n",
    "    # Evaluate model on test dataset\n",
    "    predictions_df = model.transform(test_features)\n",
    "    rmse_evaluator = RegressionEvaluator(metricName=\"rmse\", labelCol=\"rating\", predictionCol=\"prediction\")\n",
    "    mae_evaluator = RegressionEvaluator(metricName=\"mae\", labelCol=\"rating\", predictionCol=\"prediction\")\n",
    "\n",
    "    # Calculate and output evaluation metrics\n",
    "    rmse = rmse_evaluator.evaluate(predictions_df)\n",
    "    mae = mae_evaluator.evaluate(predictions_df)\n",
    "    print(f\"Root Mean Square Error (RMSE): {rmse}\")\n",
    "    print(f\"Mean Absolute Error (MAE): {mae}\")\n",
    "\n",
    "    #Calculate average predition rating of every movie\n",
    "    avg_predictions_df = predictions_df.groupBy(\"movieId\").avg(\"prediction\")\n",
    "\n",
    "    # Get top5 movie recommendations\n",
    "    top_predictions = avg_predictions_df.orderBy('avg(prediction)', ascending=False).limit(5)\n",
    "\n",
    "    # Join with the movies dataframe to get movie titles\n",
    "    movies_df = spark.read.csv(\"dataset/movies.csv\", header=True, inferSchema=True)  # Load movies data\n",
    "    top_movies_with_titles = top_predictions.join(movies_df, 'movieId').select('title', 'avg(prediction)')\n",
    "    print(top_movies_with_titles)\n",
    "\n",
    "    # Convert to pandas dataframe for visualization\n",
    "    top_movies_pd = top_movies_with_titles.toPandas()\n",
    "    top_movies_pd.set_index('title', inplace=True)\n",
    "\n",
    "    # Plot\n",
    "    plt.figure(figsize=(12, 8))\n",
    "    top_movies_pd['avg(prediction)'].plot(kind='bar')\n",
    "    plt.xlabel('Predicted Rating')\n",
    "    plt.ylabel('Movie Title')\n",
    "    plt.title('Top 5 Movie Recommendations')\n",
    "    plt.tight_layout()\n",
    "    plt.show()\n",
    "    plt.close()\n",
    "\n",
    "\n",
    "train_evaluate_visualize(data_ready)"
   ]
  },
  {
   "cell_type": "markdown",
   "metadata": {
    "collapsed": false
   },
   "source": [
    "# Part 5: Model Comparison"
   ]
  },
  {
   "cell_type": "markdown",
   "metadata": {
    "collapsed": false
   },
   "source": [
    "**ALS model**:\n",
    "+ Advantages: It is suitable for large-scale data sets, can effectively handle sparsity problems, and is often used in recommendation systems.\n",
    "+ Disadvantages: Need to adjust multiple parameters, sensitive to cold start issues.\n",
    "\n",
    "**Random forest model**:\n",
    "+ Advantages: It handles nonlinear relationships well and is less prone to overfitting.\n",
    "+ Disadvantages: A large amount of feature engineering is required and the computational cost is high."
   ]
  }
 ],
 "metadata": {
  "kernelspec": {
   "display_name": "Python 3",
   "language": "python",
   "name": "python3"
  },
  "language_info": {
   "codemirror_mode": {
    "name": "ipython",
    "version": 3
   },
   "file_extension": ".py",
   "mimetype": "text/x-python",
   "name": "python",
   "nbconvert_exporter": "python",
   "pygments_lexer": "ipython3",
   "version": "3.8.18"
  }
 },
 "nbformat": 4,
 "nbformat_minor": 0
}
