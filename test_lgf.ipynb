{
 "cells": [
  {
   "cell_type": "markdown",
   "metadata": {
    "collapsed": false
   },
   "source": [
    "# Part2: Rating Prediction"
   ]
  },
  {
   "cell_type": "code",
   "execution_count": 5,
   "metadata": {},
   "outputs": [
    {
     "name": "stderr",
     "output_type": "stream",
     "text": [
      "23/11/26 08:30:04 WARN SparkSession: Using an existing Spark session; only runtime SQL configurations will take effect.\n",
      "                                                                                \r"
     ]
    }
   ],
   "source": [
    "from pyspark.sql import SparkSession\n",
    "from pyspark.ml.evaluation import RegressionEvaluator\n",
    "from pyspark.ml.recommendation import ALS\n",
    "\n",
    "# 创建SparkSession\n",
    "spark = SparkSession.builder.appName('movie_lens').\\\n",
    "  config('spark.driver.memory', '8g') \\\n",
    "  .config('spark.executor.memory', '8g') \\\n",
    "  .getOrCreate()\n",
    "\n",
    "# 加载数据\n",
    "ratings_df = spark.read.csv(\"dataset/ratings.csv\", inferSchema=True, header=True)\n",
    "#划分数据集\n",
    "(training, test) = ratings_df.randomSplit([0.7, 0.3])\n",
    "# # 创建ALS模型\n",
    "# als = ALS(maxIter=5, regParam=0.01, userCol=\"userId\", itemCol=\"movieId\", ratingCol=\"rating\",\n",
    "#           coldStartStrategy=\"drop\")\n",
    "# # 训练模型\n",
    "# model_als = als.fit(training)\n",
    "\n",
    "# # 对测试集进行预测\n",
    "# predictions = model_als.transform(test)\n",
    "\n",
    "# # 评估模型\n",
    "# evaluator = RegressionEvaluator(metricName=\"rmse\", labelCol=\"rating\",\n",
    "#                                 predictionCol=\"prediction\")\n",
    "# rmse = evaluator.evaluate(predictions)\n",
    "# print(\"Root-mean-square error = \" + str(rmse))"
   ]
  },
  {
   "cell_type": "code",
   "execution_count": null,
   "metadata": {},
   "outputs": [],
   "source": [
    "# Generate top 3 recommendations for all users with the ALSModel\n",
    "recommendations = model_als.recommendForAllUsers(3)\n",
    "recommendations.show(truncate=False)"
   ]
  },
  {
   "cell_type": "code",
   "execution_count": 6,
   "metadata": {},
   "outputs": [
    {
     "name": "stderr",
     "output_type": "stream",
     "text": [
      "                                                                                \r"
     ]
    }
   ],
   "source": [
    "\n",
    "# Read additional data\n",
    "tags_df = spark.read.csv(\"dataset/tags.csv\", header=True, inferSchema=True)\n",
    "movies_df = spark.read.csv(\"dataset/movies.csv\", header=True, inferSchema=True)\n",
    "genome_scores_df = spark.read.csv(\"dataset/genome-scores.csv\", header=True, inferSchema=True)\n",
    "genome_tags_df = spark.read.csv(\"dataset/genome-tags.csv\", header=True, inferSchema=True)\n",
    "\n"
   ]
  },
  {
   "cell_type": "code",
   "execution_count": 7,
   "metadata": {},
   "outputs": [
    {
     "name": "stdout",
     "output_type": "stream",
     "text": [
      "root\n",
      " |-- userId: integer (nullable = true)\n",
      " |-- movieId: integer (nullable = true)\n",
      " |-- rating: double (nullable = true)\n",
      " |-- timestamp: integer (nullable = true)\n",
      "\n",
      "+------+-------+------+----------+\n",
      "|userId|movieId|rating| timestamp|\n",
      "+------+-------+------+----------+\n",
      "|     1|    296|   5.0|1147880044|\n",
      "|     1|    306|   3.5|1147868817|\n",
      "|     1|    307|   5.0|1147868828|\n",
      "|     1|    665|   5.0|1147878820|\n",
      "|     1|    899|   3.5|1147868510|\n",
      "+------+-------+------+----------+\n",
      "only showing top 5 rows\n",
      "\n"
     ]
    },
    {
     "name": "stderr",
     "output_type": "stream",
     "text": [
      "                                                                                \r"
     ]
    },
    {
     "data": {
      "text/plain": [
       "25000095"
      ]
     },
     "execution_count": 7,
     "metadata": {},
     "output_type": "execute_result"
    }
   ],
   "source": [
    "ratings_df.printSchema()\n",
    "ratings_df.show(5)\n",
    "ratings_df.count()"
   ]
  },
  {
   "cell_type": "code",
   "execution_count": 8,
   "metadata": {},
   "outputs": [
    {
     "name": "stdout",
     "output_type": "stream",
     "text": [
      "root\n",
      " |-- userId: integer (nullable = true)\n",
      " |-- movieId: integer (nullable = true)\n",
      " |-- tag: string (nullable = true)\n",
      " |-- timestamp: string (nullable = true)\n",
      "\n",
      "+------+-------+----------------+----------+\n",
      "|userId|movieId|             tag| timestamp|\n",
      "+------+-------+----------------+----------+\n",
      "|     3|    260|         classic|1439472355|\n",
      "|     3|    260|          sci-fi|1439472256|\n",
      "|     4|   1732|     dark comedy|1573943598|\n",
      "|     4|   1732|  great dialogue|1573943604|\n",
      "|     4|   7569|so bad it's good|1573943455|\n",
      "+------+-------+----------------+----------+\n",
      "only showing top 5 rows\n",
      "\n"
     ]
    },
    {
     "data": {
      "text/plain": [
       "1093360"
      ]
     },
     "execution_count": 8,
     "metadata": {},
     "output_type": "execute_result"
    }
   ],
   "source": [
    "tags_df.printSchema()\n",
    "tags_df.show(5)\n",
    "tags_df.count()"
   ]
  },
  {
   "cell_type": "code",
   "execution_count": 9,
   "metadata": {},
   "outputs": [
    {
     "name": "stdout",
     "output_type": "stream",
     "text": [
      "root\n",
      " |-- movieId: integer (nullable = true)\n",
      " |-- title: string (nullable = true)\n",
      " |-- genres: string (nullable = true)\n",
      "\n",
      "+-------+--------------------+--------------------+\n",
      "|movieId|               title|              genres|\n",
      "+-------+--------------------+--------------------+\n",
      "|      1|    Toy Story (1995)|Adventure|Animati...|\n",
      "|      2|      Jumanji (1995)|Adventure|Childre...|\n",
      "|      3|Grumpier Old Men ...|      Comedy|Romance|\n",
      "|      4|Waiting to Exhale...|Comedy|Drama|Romance|\n",
      "|      5|Father of the Bri...|              Comedy|\n",
      "+-------+--------------------+--------------------+\n",
      "only showing top 5 rows\n",
      "\n"
     ]
    }
   ],
   "source": [
    "movies_df.printSchema()\n",
    "movies_df.show(5)"
   ]
  },
  {
   "cell_type": "code",
   "execution_count": 10,
   "metadata": {},
   "outputs": [
    {
     "name": "stdout",
     "output_type": "stream",
     "text": [
      "root\n",
      " |-- movieId: integer (nullable = true)\n",
      " |-- tagId: integer (nullable = true)\n",
      " |-- relevance: double (nullable = true)\n",
      "\n",
      "+-------+-----+--------------------+\n",
      "|movieId|tagId|           relevance|\n",
      "+-------+-----+--------------------+\n",
      "|      1|    1|0.028749999999999998|\n",
      "|      1|    2|0.023749999999999993|\n",
      "|      1|    3|              0.0625|\n",
      "|      1|    4| 0.07574999999999998|\n",
      "|      1|    5|             0.14075|\n",
      "+-------+-----+--------------------+\n",
      "only showing top 5 rows\n",
      "\n"
     ]
    },
    {
     "name": "stderr",
     "output_type": "stream",
     "text": [
      "                                                                                \r"
     ]
    },
    {
     "data": {
      "text/plain": [
       "15584448"
      ]
     },
     "execution_count": 10,
     "metadata": {},
     "output_type": "execute_result"
    }
   ],
   "source": [
    "genome_scores_df.printSchema()\n",
    "genome_scores_df.show(5)\n",
    "genome_scores_df.count()"
   ]
  },
  {
   "cell_type": "code",
   "execution_count": 11,
   "metadata": {},
   "outputs": [
    {
     "name": "stdout",
     "output_type": "stream",
     "text": [
      "root\n",
      " |-- tagId: integer (nullable = true)\n",
      " |-- tag: string (nullable = true)\n",
      "\n",
      "+-----+------------+\n",
      "|tagId|         tag|\n",
      "+-----+------------+\n",
      "|    1|         007|\n",
      "|    2|007 (series)|\n",
      "|    3|18th century|\n",
      "|    4|       1920s|\n",
      "|    5|       1930s|\n",
      "+-----+------------+\n",
      "only showing top 5 rows\n",
      "\n"
     ]
    }
   ],
   "source": [
    "genome_tags_df.printSchema()\n",
    "genome_tags_df.show(5)"
   ]
  },
  {
   "cell_type": "code",
   "execution_count": null,
   "metadata": {},
   "outputs": [],
   "source": [
    "# Join DataFrames\n",
    "# complete_data = movies_df.join(tags_df, \"movieId\") \\\n",
    "#                         .join(genome_scores_df, \"movieId\") \\\n",
    "#                         .join(genome_tags_df, \"tagId\") \\\n",
    "#                         .join(ratings_df, [\"userId\", \"movieId\"])\n",
    "\n",
    "# genome_data=genome_scores_df.join(genome_tags_df,\"tagId\")\n",
    "\n",
    "# complete_data=ratings_df.join(movies_df,\"movieId\")\\\n",
    "# .join(tags_df,\"movieId\")\\\n",
    "# .join(genome_data,[\"movieId\",\"tag\"])\n",
    "\n",
    "# complete_data.printSchema()\n",
    "# # complete_data.show(5)\n",
    "# complete_data.count()"
   ]
  },
  {
   "cell_type": "code",
   "execution_count": 4,
   "metadata": {},
   "outputs": [
    {
     "name": "stderr",
     "output_type": "stream",
     "text": [
      "                                                                                \r"
     ]
    },
    {
     "name": "stdout",
     "output_type": "stream",
     "text": [
      "Data read completed\n",
      "root\n",
      " |-- movieId: integer (nullable = true)\n",
      " |-- userId: integer (nullable = true)\n",
      " |-- rating: double (nullable = true)\n",
      " |-- timestamp: integer (nullable = true)\n",
      " |-- genres_Mystery: integer (nullable = true)\n",
      " |-- genres_Horror: integer (nullable = true)\n",
      " |-- genres_Western: integer (nullable = true)\n",
      " |-- genres_Documentary: integer (nullable = true)\n",
      " |-- genres_Animation: integer (nullable = true)\n",
      " |-- genres_Drama: integer (nullable = true)\n",
      " |-- genres_Sci-Fi: integer (nullable = true)\n",
      " |-- genres_IMAX: integer (nullable = true)\n",
      " |-- genres_Action: integer (nullable = true)\n",
      " |-- genres_Romance: integer (nullable = true)\n",
      " |-- genres_(no genres listed): integer (nullable = true)\n",
      " |-- genres_Comedy: integer (nullable = true)\n",
      " |-- genres_War: integer (nullable = true)\n",
      " |-- genres_Film-Noir: integer (nullable = true)\n",
      " |-- genres_Children: integer (nullable = true)\n",
      " |-- genres_Thriller: integer (nullable = true)\n",
      " |-- genres_Adventure: integer (nullable = true)\n",
      " |-- genres_Fantasy: integer (nullable = true)\n",
      " |-- genres_Crime: integer (nullable = true)\n",
      " |-- genres_Musical: integer (nullable = true)\n",
      "\n",
      "+-------+------+------+---------+--------------+-------------+--------------+------------------+----------------+------------+-------------+-----------+-------------+--------------+-------------------------+-------------+----------+----------------+---------------+---------------+----------------+--------------+------------+--------------+\n",
      "|movieId|userId|rating|timestamp|genres_Mystery|genres_Horror|genres_Western|genres_Documentary|genres_Animation|genres_Drama|genres_Sci-Fi|genres_IMAX|genres_Action|genres_Romance|genres_(no genres listed)|genres_Comedy|genres_War|genres_Film-Noir|genres_Children|genres_Thriller|genres_Adventure|genres_Fantasy|genres_Crime|genres_Musical|\n",
      "+-------+------+------+---------+--------------+-------------+--------------+------------------+----------------+------------+-------------+-----------+-------------+--------------+-------------------------+-------------+----------+----------------+---------------+---------------+----------------+--------------+------------+--------------+\n",
      "|    296|     1|   5.0|       36|             0|            0|             0|                 0|               0|           1|            0|          0|            0|             0|                        0|            1|         0|               0|              0|              1|               0|             0|           1|             0|\n",
      "|    306|     1|   3.5|       36|             0|            0|             0|                 0|               0|           1|            0|          0|            0|             0|                        0|            0|         0|               0|              0|              0|               0|             0|           0|             0|\n",
      "|    307|     1|   5.0|       36|             0|            0|             0|                 0|               0|           1|            0|          0|            0|             0|                        0|            0|         0|               0|              0|              0|               0|             0|           0|             0|\n",
      "|    665|     1|   5.0|       36|             0|            0|             0|                 0|               0|           1|            0|          0|            0|             0|                        0|            1|         1|               0|              0|              0|               0|             0|           0|             0|\n",
      "|    899|     1|   3.5|       36|             0|            0|             0|                 0|               0|           0|            0|          0|            0|             1|                        0|            1|         0|               0|              0|              0|               0|             0|           0|             1|\n",
      "|   1088|     1|   4.0|       36|             0|            0|             0|                 0|               0|           1|            0|          0|            0|             1|                        0|            0|         0|               0|              0|              0|               0|             0|           0|             1|\n",
      "|   1175|     1|   3.5|       36|             0|            0|             0|                 0|               0|           1|            0|          0|            0|             1|                        0|            1|         0|               0|              0|              0|               0|             0|           0|             0|\n",
      "|   1217|     1|   3.5|       36|             0|            0|             0|                 0|               0|           1|            0|          0|            0|             0|                        0|            0|         1|               0|              0|              0|               0|             0|           0|             0|\n",
      "|   1237|     1|   5.0|       36|             0|            0|             0|                 0|               0|           1|            0|          0|            0|             0|                        0|            0|         0|               0|              0|              0|               0|             0|           0|             0|\n",
      "|   1250|     1|   4.0|       36|             0|            0|             0|                 0|               0|           1|            0|          0|            0|             0|                        0|            0|         1|               0|              0|              0|               1|             0|           0|             0|\n",
      "|   1260|     1|   3.5|       36|             0|            0|             0|                 0|               0|           0|            0|          0|            0|             0|                        0|            0|         0|               1|              0|              1|               0|             0|           1|             0|\n",
      "|   1653|     1|   4.0|       36|             0|            0|             0|                 0|               0|           1|            1|          0|            0|             0|                        0|            0|         0|               0|              0|              1|               0|             0|           0|             0|\n",
      "|   2011|     1|   2.5|       36|             0|            0|             0|                 0|               0|           0|            1|          0|            0|             0|                        0|            1|         0|               0|              0|              0|               1|             0|           0|             0|\n",
      "|   2012|     1|   2.5|       36|             0|            0|             1|                 0|               0|           0|            1|          0|            0|             0|                        0|            1|         0|               0|              0|              0|               1|             0|           0|             0|\n",
      "|   2068|     1|   2.5|       36|             1|            0|             0|                 0|               0|           1|            0|          0|            0|             0|                        0|            0|         0|               0|              0|              0|               0|             1|           0|             0|\n",
      "|   2161|     1|   3.5|       36|             0|            0|             0|                 0|               0|           0|            0|          0|            0|             0|                        0|            0|         0|               0|              1|              0|               1|             1|           0|             0|\n",
      "|   2351|     1|   4.5|       36|             0|            0|             0|                 0|               0|           1|            0|          0|            0|             0|                        0|            0|         0|               0|              0|              0|               0|             0|           0|             0|\n",
      "|   2573|     1|   4.0|       36|             0|            0|             0|                 0|               0|           1|            0|          0|            0|             0|                        0|            0|         0|               0|              0|              0|               0|             0|           0|             1|\n",
      "|   2632|     1|   5.0|       36|             1|            0|             0|                 0|               0|           1|            0|          0|            0|             0|                        0|            0|         0|               0|              0|              0|               1|             0|           0|             0|\n",
      "|   2692|     1|   5.0|       36|             0|            0|             0|                 0|               0|           0|            0|          0|            1|             0|                        0|            0|         0|               0|              0|              0|               0|             0|           1|             0|\n",
      "|   2843|     1|   4.5|       36|             0|            0|             0|                 0|               0|           0|            0|          0|            0|             1|                        0|            1|         0|               0|              0|              0|               0|             0|           0|             0|\n",
      "|   3448|     1|   4.0|       36|             0|            0|             0|                 0|               0|           1|            0|          0|            0|             0|                        0|            1|         1|               0|              0|              0|               0|             0|           0|             0|\n",
      "|   3569|     1|   5.0|       36|             0|            0|             0|                 0|               0|           1|            0|          0|            0|             0|                        0|            1|         0|               0|              0|              0|               0|             0|           0|             0|\n",
      "|   3949|     1|   5.0|       36|             0|            0|             0|                 0|               0|           1|            0|          0|            0|             0|                        0|            0|         0|               0|              0|              0|               0|             0|           0|             0|\n",
      "|   4144|     1|   5.0|       36|             0|            0|             0|                 0|               0|           1|            0|          0|            0|             1|                        0|            0|         0|               0|              0|              0|               0|             0|           0|             0|\n",
      "|   4308|     1|   3.0|       36|             0|            0|             0|                 0|               0|           1|            0|          0|            0|             1|                        0|            0|         0|               0|              0|              0|               0|             0|           0|             1|\n",
      "|   4325|     1|   5.0|       36|             0|            0|             0|                 0|               0|           1|            0|          0|            0|             0|                        0|            0|         0|               0|              0|              0|               0|             0|           0|             0|\n",
      "|   4422|     1|   3.0|       36|             0|            0|             0|                 0|               0|           1|            0|          0|            0|             0|                        0|            0|         0|               0|              0|              0|               0|             0|           0|             0|\n",
      "|   4703|     1|   4.0|       36|             0|            0|             0|                 0|               0|           1|            0|          0|            0|             0|                        0|            0|         0|               0|              0|              0|               0|             0|           0|             0|\n",
      "|   4973|     1|   4.5|       36|             0|            0|             0|                 0|               0|           0|            0|          0|            0|             1|                        0|            1|         0|               0|              0|              0|               0|             0|           0|             0|\n",
      "|   5147|     1|   4.0|       36|             0|            0|             0|                 0|               0|           1|            0|          0|            0|             0|                        0|            0|         0|               0|              0|              0|               0|             0|           0|             0|\n",
      "|   5269|     1|   0.5|       36|             0|            0|             0|                 0|               0|           1|            0|          0|            0|             0|                        0|            0|         0|               0|              0|              0|               0|             0|           0|             0|\n",
      "|   5684|     1|   2.0|       36|             0|            0|             0|                 1|               0|           0|            0|          0|            0|             0|                        0|            0|         0|               0|              0|              0|               0|             0|           0|             0|\n",
      "|   5767|     1|   5.0|       36|             0|            0|             0|                 0|               0|           0|            0|          0|            0|             0|                        0|            1|         0|               0|              0|              0|               0|             0|           1|             0|\n",
      "|   5878|     1|   4.0|       36|             0|            0|             0|                 0|               0|           1|            0|          0|            0|             1|                        0|            0|         0|               0|              0|              0|               0|             0|           0|             0|\n",
      "|   5912|     1|   3.0|       36|             0|            0|             0|                 0|               0|           0|            0|          0|            0|             0|                        0|            1|         0|               0|              0|              0|               0|             0|           1|             0|\n",
      "|   5952|     1|   4.0|       36|             0|            0|             0|                 0|               0|           0|            0|          0|            0|             0|                        0|            0|         0|               0|              0|              0|               1|             1|           0|             0|\n",
      "|   6016|     1|   5.0|       36|             0|            0|             0|                 0|               0|           1|            0|          0|            1|             0|                        0|            0|         0|               0|              0|              1|               1|             0|           1|             0|\n",
      "|   6370|     1|   4.5|       36|             0|            0|             0|                 0|               0|           1|            0|          0|            0|             1|                        0|            1|         0|               0|              0|              0|               0|             0|           0|             0|\n",
      "|   6377|     1|   4.0|       36|             0|            0|             0|                 0|               1|           0|            0|          0|            0|             0|                        0|            1|         0|               0|              1|              0|               1|             0|           0|             0|\n",
      "|   6539|     1|   3.5|       36|             0|            0|             0|                 0|               0|           0|            0|          0|            1|             0|                        0|            1|         0|               0|              0|              0|               1|             1|           0|             0|\n",
      "|   6711|     1|   5.0|       36|             0|            0|             0|                 0|               0|           1|            0|          0|            0|             1|                        0|            1|         0|               0|              0|              0|               0|             0|           0|             0|\n",
      "|   6954|     1|   3.5|       36|             1|            0|             0|                 0|               0|           1|            0|          0|            0|             1|                        0|            1|         0|               0|              0|              0|               0|             0|           1|             0|\n",
      "|   7209|     1|   4.0|       36|             0|            0|             0|                 0|               0|           0|            0|          0|            0|             0|                        0|            1|         0|               0|              0|              0|               0|             0|           0|             0|\n",
      "|   7234|     1|   4.5|       36|             0|            0|             0|                 0|               0|           1|            0|          0|            0|             0|                        0|            0|         0|               0|              0|              0|               0|             0|           0|             0|\n",
      "|   7318|     1|   2.0|       36|             0|            0|             0|                 0|               0|           1|            0|          0|            0|             0|                        0|            0|         0|               0|              0|              0|               0|             0|           0|             0|\n",
      "|   7323|     1|   3.5|       36|             0|            0|             0|                 0|               0|           1|            0|          0|            0|             0|                        0|            1|         0|               0|              0|              0|               0|             0|           0|             0|\n",
      "|   7327|     1|   3.5|       36|             0|            0|             0|                 0|               0|           1|            0|          0|            0|             0|                        0|            0|         0|               0|              0|              0|               0|             0|           0|             0|\n",
      "|   7361|     1|   5.0|       36|             0|            0|             0|                 0|               0|           1|            1|          0|            0|             1|                        0|            0|         0|               0|              0|              0|               0|             0|           0|             0|\n",
      "|   7365|     1|   4.0|       36|             0|            0|             0|                 0|               0|           1|            0|          0|            0|             0|                        0|            0|         0|               0|              0|              0|               0|             0|           0|             0|\n",
      "|   7820|     1|   2.5|       36|             0|            0|             0|                 0|               0|           1|            0|          0|            0|             0|                        0|            0|         0|               0|              0|              0|               0|             0|           1|             0|\n",
      "|   7937|     1|   3.0|       36|             0|            0|             0|                 0|               0|           1|            0|          0|            0|             0|                        0|            0|         0|               0|              0|              0|               0|             0|           0|             0|\n",
      "|   7938|     1|   2.5|       36|             0|            0|             0|                 0|               0|           1|            0|          0|            0|             0|                        0|            0|         0|               0|              0|              0|               0|             0|           0|             0|\n",
      "|   7939|     1|   2.5|       36|             0|            0|             0|                 0|               0|           1|            0|          0|            0|             0|                        0|            0|         0|               0|              0|              0|               0|             0|           0|             0|\n",
      "|   7940|     1|   4.5|       36|             0|            0|             0|                 0|               0|           1|            0|          0|            0|             0|                        0|            0|         0|               0|              0|              0|               0|             0|           0|             0|\n",
      "|   8014|     1|   3.5|       36|             0|            0|             0|                 0|               0|           1|            0|          0|            0|             0|                        0|            0|         0|               0|              0|              0|               0|             0|           0|             0|\n",
      "|   8154|     1|   5.0|       36|             0|            0|             0|                 0|               0|           1|            0|          0|            0|             0|                        0|            0|         0|               0|              0|              0|               0|             0|           0|             0|\n",
      "|   8327|     1|   5.0|       36|             0|            0|             0|                 0|               0|           1|            0|          0|            0|             1|                        0|            0|         0|               0|              0|              0|               0|             0|           0|             0|\n",
      "|   8360|     1|   4.0|       36|             0|            0|             0|                 0|               1|           0|            0|          0|            0|             1|                        0|            1|         0|               0|              1|              0|               1|             0|           0|             1|\n",
      "|   8405|     1|   3.5|       36|             0|            1|             0|                 0|               0|           1|            0|          0|            0|             0|                        0|            0|         0|               0|              0|              0|               0|             0|           0|             0|\n",
      "|   8685|     1|   1.0|       36|             0|            0|             0|                 0|               0|           1|            0|          0|            0|             0|                        0|            1|         0|               0|              0|              0|               0|             0|           0|             0|\n",
      "|   8729|     1|   3.5|       36|             0|            0|             0|                 0|               0|           1|            0|          0|            0|             0|                        0|            0|         0|               0|              0|              0|               0|             0|           0|             0|\n",
      "|   8786|     1|   4.0|       36|             0|            0|             0|                 0|               0|           1|            0|          0|            0|             0|                        0|            0|         0|               0|              0|              0|               0|             0|           0|             0|\n",
      "|   8873|     1|   3.0|       36|             0|            0|             0|                 0|               0|           1|            0|          0|            0|             0|                        0|            0|         0|               0|              0|              0|               1|             0|           0|             0|\n",
      "|   8973|     1|   4.0|       36|             0|            0|             0|                 0|               0|           1|            0|          0|            0|             0|                        0|            0|         0|               0|              0|              1|               0|             0|           0|             0|\n",
      "|  27193|     1|   3.0|       36|             0|            0|             0|                 0|               0|           0|            0|          0|            1|             0|                        0|            1|         0|               0|              0|              0|               0|             0|           0|             0|\n",
      "|  27266|     1|   4.5|       36|             0|            0|             0|                 0|               0|           1|            1|          0|            0|             1|                        0|            0|         0|               0|              0|              0|               0|             1|           0|             0|\n",
      "|  27721|     1|   3.0|       36|             1|            0|             0|                 0|               0|           1|            0|          0|            0|             1|                        0|            0|         1|               0|              0|              0|               0|             0|           0|             0|\n",
      "|  31956|     1|   3.5|       36|             0|            0|             0|                 0|               0|           1|            0|          0|            0|             1|                        0|            0|         0|               0|              0|              0|               0|             0|           0|             0|\n",
      "|  32591|     1|   5.0|       36|             0|            0|             0|                 0|               0|           1|            0|          0|            0|             1|                        0|            1|         0|               0|              0|              0|               0|             0|           0|             0|\n",
      "|      1|     2|   3.5|       36|             0|            0|             0|                 0|               1|           0|            0|          0|            0|             0|                        0|            1|         0|               0|              1|              0|               1|             1|           0|             0|\n",
      "|     62|     2|   0.5|       36|             0|            0|             0|                 0|               0|           1|            0|          0|            0|             0|                        0|            0|         0|               0|              0|              0|               0|             0|           0|             0|\n",
      "|    110|     2|   5.0|       36|             0|            0|             0|                 0|               0|           1|            0|          0|            1|             0|                        0|            0|         1|               0|              0|              0|               0|             0|           0|             0|\n",
      "|    150|     2|   4.0|       36|             0|            0|             0|                 0|               0|           1|            0|          1|            0|             0|                        0|            0|         0|               0|              0|              0|               1|             0|           0|             0|\n",
      "|    151|     2|   4.5|       36|             0|            0|             0|                 0|               0|           1|            0|          0|            1|             1|                        0|            0|         1|               0|              0|              0|               0|             0|           0|             0|\n",
      "|    236|     2|   4.0|       36|             0|            0|             0|                 0|               0|           0|            0|          0|            1|             1|                        0|            1|         0|               0|              0|              0|               0|             0|           0|             0|\n",
      "|    260|     2|   5.0|       36|             0|            0|             0|                 0|               0|           0|            1|          0|            1|             0|                        0|            0|         0|               0|              0|              0|               1|             0|           0|             0|\n",
      "|    261|     2|   0.5|       36|             0|            0|             0|                 0|               0|           1|            0|          0|            0|             0|                        0|            0|         0|               0|              0|              0|               0|             0|           0|             0|\n",
      "|    266|     2|   1.0|       36|             0|            0|             1|                 0|               0|           1|            0|          0|            0|             1|                        0|            0|         1|               0|              0|              0|               0|             0|           0|             0|\n",
      "|    318|     2|   5.0|       36|             0|            0|             0|                 0|               0|           1|            0|          0|            0|             0|                        0|            0|         0|               0|              0|              0|               0|             0|           1|             0|\n",
      "|    333|     2|   5.0|       36|             0|            0|             0|                 0|               0|           0|            0|          0|            0|             0|                        0|            1|         0|               0|              0|              0|               0|             0|           0|             0|\n",
      "|    349|     2|   4.5|       36|             0|            0|             0|                 0|               0|           1|            0|          0|            1|             0|                        0|            0|         0|               0|              0|              1|               0|             0|           1|             0|\n",
      "|    356|     2|   4.5|       36|             0|            0|             0|                 0|               0|           1|            0|          0|            0|             1|                        0|            1|         1|               0|              0|              0|               0|             0|           0|             0|\n",
      "|    364|     2|   4.5|       36|             0|            0|             0|                 0|               1|           1|            0|          1|            0|             0|                        0|            0|         0|               0|              1|              0|               1|             0|           0|             1|\n",
      "|    380|     2|   1.0|       36|             0|            0|             0|                 0|               0|           0|            0|          0|            1|             1|                        0|            1|         0|               0|              0|              1|               1|             0|           0|             0|\n",
      "|    457|     2|   5.0|       36|             0|            0|             0|                 0|               0|           0|            0|          0|            0|             0|                        0|            0|         0|               0|              0|              1|               0|             0|           0|             0|\n",
      "|    480|     2|   2.0|       36|             0|            0|             0|                 0|               0|           0|            1|          0|            1|             0|                        0|            0|         0|               0|              0|              1|               1|             0|           0|             0|\n",
      "|    497|     2|   4.0|       36|             0|            0|             0|                 0|               0|           0|            0|          0|            0|             1|                        0|            1|         0|               0|              0|              0|               0|             0|           0|             0|\n",
      "|    524|     2|   3.5|       36|             0|            0|             0|                 0|               0|           1|            0|          0|            0|             0|                        0|            0|         0|               0|              0|              0|               0|             0|           0|             0|\n",
      "|    527|     2|   5.0|       36|             0|            0|             0|                 0|               0|           1|            0|          0|            0|             0|                        0|            0|         1|               0|              0|              0|               0|             0|           0|             0|\n",
      "|    534|     2|   4.5|       36|             0|            0|             0|                 0|               0|           1|            0|          0|            0|             1|                        0|            0|         0|               0|              0|              0|               0|             0|           0|             0|\n",
      "|    553|     2|   2.0|       36|             0|            0|             1|                 0|               0|           1|            0|          0|            1|             0|                        0|            0|         0|               0|              0|              0|               0|             0|           0|             0|\n",
      "|    588|     2|   2.0|       36|             0|            0|             0|                 0|               1|           0|            0|          0|            0|             0|                        0|            1|         0|               0|              1|              0|               1|             0|           0|             1|\n",
      "|    589|     2|   4.0|       36|             0|            0|             0|                 0|               0|           0|            1|          0|            1|             0|                        0|            0|         0|               0|              0|              0|               0|             0|           0|             0|\n",
      "|    653|     2|   3.0|       36|             0|            0|             0|                 0|               0|           0|            0|          0|            1|             0|                        0|            0|         0|               0|              0|              0|               1|             1|           0|             0|\n",
      "|    733|     2|   4.5|       36|             0|            0|             0|                 0|               0|           0|            0|          0|            1|             0|                        0|            0|         0|               0|              0|              1|               1|             0|           0|             0|\n",
      "|    858|     2|   3.5|       36|             0|            0|             0|                 0|               0|           1|            0|          0|            0|             0|                        0|            0|         0|               0|              0|              0|               0|             0|           1|             0|\n",
      "|    914|     2|   4.0|       36|             0|            0|             0|                 0|               0|           1|            0|          0|            0|             1|                        0|            1|         0|               0|              0|              0|               0|             0|           0|             1|\n",
      "|    953|     2|   4.5|       36|             0|            0|             0|                 0|               0|           1|            0|          0|            0|             1|                        0|            0|         0|               0|              1|              0|               0|             1|           0|             0|\n",
      "|   1035|     2|   1.0|       36|             0|            0|             0|                 0|               0|           0|            0|          0|            0|             1|                        0|            0|         0|               0|              0|              0|               0|             0|           0|             1|\n",
      "|   1080|     2|   1.0|       36|             0|            0|             0|                 0|               0|           0|            0|          0|            0|             0|                        0|            1|         0|               0|              0|              0|               0|             0|           0|             0|\n",
      "|   1136|     2|   5.0|       36|             0|            0|             0|                 0|               0|           0|            0|          0|            0|             0|                        0|            1|         0|               0|              0|              0|               1|             1|           0|             0|\n",
      "|   1196|     2|   5.0|       36|             0|            0|             0|                 0|               0|           0|            1|          0|            1|             0|                        0|            0|         0|               0|              0|              0|               1|             0|           0|             0|\n",
      "|   1197|     2|   5.0|       36|             0|            0|             0|                 0|               0|           0|            0|          0|            1|             1|                        0|            1|         0|               0|              0|              0|               1|             1|           0|             0|\n",
      "|   1198|     2|   4.0|       36|             0|            0|             0|                 0|               0|           0|            0|          0|            1|             0|                        0|            0|         0|               0|              0|              0|               1|             0|           0|             0|\n",
      "|   1201|     2|   2.5|       36|             0|            0|             1|                 0|               0|           0|            0|          0|            1|             0|                        0|            0|         0|               0|              0|              0|               1|             0|           0|             0|\n",
      "|   1210|     2|   5.0|       36|             0|            0|             0|                 0|               0|           0|            1|          0|            1|             0|                        0|            0|         0|               0|              0|              0|               1|             0|           0|             0|\n",
      "|   1246|     2|   4.0|       36|             0|            0|             0|                 0|               0|           1|            0|          0|            0|             0|                        0|            0|         0|               0|              0|              0|               0|             0|           0|             0|\n",
      "|   1257|     2|   5.0|       36|             0|            0|             0|                 0|               0|           0|            0|          0|            0|             1|                        0|            1|         0|               0|              0|              0|               0|             0|           0|             0|\n",
      "|   1270|     2|   4.0|       36|             0|            0|             0|                 0|               0|           0|            1|          0|            0|             0|                        0|            1|         0|               0|              0|              0|               1|             0|           0|             0|\n",
      "|   1271|     2|   1.5|       36|             0|            0|             0|                 0|               0|           1|            0|          0|            0|             0|                        0|            1|         0|               0|              0|              0|               0|             0|           1|             0|\n",
      "|   1275|     2|   4.5|       36|             0|            0|             0|                 0|               0|           0|            0|          0|            1|             0|                        0|            0|         0|               0|              0|              0|               1|             1|           0|             0|\n",
      "|   1283|     2|   4.0|       36|             0|            0|             1|                 0|               0|           1|            0|          0|            0|             0|                        0|            0|         0|               0|              0|              0|               0|             0|           0|             0|\n",
      "|   1287|     2|   5.0|       36|             0|            0|             0|                 0|               0|           1|            0|          0|            1|             0|                        0|            0|         0|               0|              0|              0|               1|             0|           0|             0|\n",
      "|   1291|     2|   5.0|       36|             0|            0|             0|                 0|               0|           0|            0|          0|            1|             0|                        0|            0|         0|               0|              0|              0|               1|             0|           0|             0|\n",
      "|   1293|     2|   5.0|       36|             0|            0|             0|                 0|               0|           1|            0|          0|            0|             0|                        0|            0|         0|               0|              0|              0|               0|             0|           0|             0|\n",
      "|   1299|     2|   1.0|       36|             0|            0|             0|                 0|               0|           1|            0|          0|            0|             0|                        0|            0|         1|               0|              0|              0|               0|             0|           0|             0|\n",
      "|   1302|     2|   3.0|       36|             0|            0|             0|                 0|               0|           1|            0|          0|            0|             0|                        0|            0|         0|               0|              1|              0|               0|             1|           0|             0|\n",
      "|   1356|     2|   5.0|       36|             0|            0|             0|                 0|               0|           0|            1|          0|            1|             0|                        0|            0|         0|               0|              0|              1|               1|             0|           0|             0|\n",
      "|   1374|     2|   4.5|       36|             0|            0|             0|                 0|               0|           0|            1|          0|            1|             0|                        0|            0|         0|               0|              0|              1|               1|             0|           0|             0|\n",
      "|   1376|     2|   5.0|       36|             0|            0|             0|                 0|               0|           0|            1|          0|            0|             0|                        0|            1|         0|               0|              0|              0|               1|             0|           0|             0|\n",
      "|   1393|     2|   4.0|       36|             0|            0|             0|                 0|               0|           1|            0|          0|            0|             1|                        0|            0|         0|               0|              0|              0|               0|             0|           0|             0|\n",
      "|   1431|     2|   3.0|       36|             0|            0|             0|                 0|               0|           0|            0|          0|            1|             0|                        0|            1|         0|               0|              0|              0|               0|             0|           0|             0|\n",
      "|   1465|     2|   3.0|       36|             0|            0|             0|                 0|               0|           1|            0|          0|            1|             0|                        0|            0|         0|               0|              0|              0|               0|             0|           0|             0|\n",
      "|   1485|     2|   3.0|       36|             0|            0|             0|                 0|               0|           0|            0|          0|            0|             0|                        0|            1|         0|               0|              0|              0|               0|             0|           0|             0|\n",
      "|   1488|     2|   5.0|       36|             0|            0|             0|                 0|               0|           1|            0|          0|            1|             0|                        0|            0|         0|               0|              0|              1|               0|             0|           0|             0|\n",
      "|   1527|     2|   3.0|       36|             0|            0|             0|                 0|               0|           0|            1|          0|            1|             0|                        0|            1|         0|               0|              0|              0|               1|             0|           0|             0|\n",
      "|   1580|     2|   4.5|       36|             0|            0|             0|                 0|               0|           0|            1|          0|            1|             0|                        0|            1|         0|               0|              0|              0|               0|             0|           0|             0|\n",
      "|   1584|     2|   5.0|       36|             0|            0|             0|                 0|               0|           1|            1|          0|            0|             0|                        0|            0|         0|               0|              0|              0|               0|             0|           0|             0|\n",
      "|   1587|     2|   1.0|       36|             0|            0|             0|                 0|               0|           0|            0|          0|            1|             0|                        0|            0|         0|               0|              0|              0|               1|             1|           0|             0|\n",
      "|   1610|     2|   5.0|       36|             0|            0|             0|                 0|               0|           0|            0|          0|            1|             0|                        0|            0|         0|               0|              0|              1|               1|             0|           0|             0|\n",
      "|   1653|     2|   4.5|       36|             0|            0|             0|                 0|               0|           1|            1|          0|            0|             0|                        0|            0|         0|               0|              0|              1|               0|             0|           0|             0|\n",
      "|   1672|     2|   4.5|       36|             0|            0|             0|                 0|               0|           1|            0|          0|            0|             0|                        0|            0|         0|               0|              0|              0|               0|             0|           0|             0|\n",
      "|   1674|     2|   4.0|       36|             0|            0|             0|                 0|               0|           1|            0|          0|            0|             1|                        0|            0|         0|               0|              0|              1|               0|             0|           0|             0|\n",
      "|   1682|     2|   4.5|       36|             0|            0|             0|                 0|               0|           1|            1|          0|            0|             0|                        0|            1|         0|               0|              0|              0|               0|             0|           0|             0|\n",
      "|   1693|     2|   4.0|       36|             1|            0|             0|                 0|               0|           1|            0|          0|            0|             0|                        0|            0|         0|               0|              0|              0|               0|             0|           0|             0|\n",
      "|   1722|     2|   0.5|       36|             0|            0|             0|                 0|               0|           0|            0|          0|            1|             0|                        0|            0|         0|               0|              0|              1|               1|             0|           0|             0|\n",
      "|   1873|     2|   4.0|       36|             0|            0|             0|                 0|               0|           1|            0|          0|            0|             1|                        0|            0|         1|               0|              0|              0|               0|             0|           1|             0|\n",
      "|   1907|     2|   4.0|       36|             0|            0|             0|                 0|               1|           1|            0|          0|            0|             1|                        0|            1|         0|               0|              1|              0|               1|             0|           0|             1|\n",
      "|   1923|     2|   0.5|       36|             0|            0|             0|                 0|               0|           0|            0|          0|            0|             1|                        0|            1|         0|               0|              0|              0|               0|             0|           0|             0|\n",
      "|   1957|     2|   3.5|       36|             0|            0|             0|                 0|               0|           1|            0|          0|            0|             0|                        0|            0|         0|               0|              0|              0|               0|             0|           0|             0|\n",
      "|   1968|     2|   1.0|       36|             0|            0|             0|                 0|               0|           1|            0|          0|            0|             0|                        0|            1|         0|               0|              0|              0|               0|             0|           0|             0|\n",
      "|   2028|     2|   4.0|       36|             0|            0|             0|                 0|               0|           1|            0|          0|            1|             0|                        0|            0|         1|               0|              0|              0|               0|             0|           0|             0|\n",
      "|   2081|     2|   1.5|       36|             0|            0|             0|                 0|               1|           0|            0|          0|            0|             1|                        0|            1|         0|               0|              1|              0|               0|             0|           0|             1|\n",
      "|   2083|     2|   4.5|       36|             0|            0|             0|                 0|               0|           0|            0|          0|            0|             0|                        0|            1|         0|               0|              1|              0|               0|             0|           0|             1|\n",
      "|   2115|     2|   3.5|       36|             0|            0|             0|                 0|               0|           0|            0|          0|            1|             0|                        0|            0|         0|               0|              0|              0|               1|             1|           0|             0|\n",
      "|   2138|     2|   4.5|       36|             0|            0|             0|                 0|               1|           1|            0|          0|            0|             0|                        0|            0|         0|               0|              1|              0|               1|             1|           0|             0|\n",
      "|   2139|     2|   4.0|       36|             0|            0|             0|                 0|               1|           1|            0|          0|            0|             0|                        0|            0|         0|               0|              1|              0|               1|             0|           0|             0|\n",
      "|   2150|     2|   5.0|       36|             0|            0|             0|                 0|               0|           0|            0|          0|            0|             0|                        0|            1|         0|               0|              0|              0|               1|             0|           0|             0|\n",
      "|   2194|     2|   5.0|       36|             0|            0|             0|                 0|               0|           1|            0|          0|            1|             0|                        0|            0|         0|               0|              0|              0|               0|             0|           1|             0|\n",
      "|   2268|     2|   4.5|       36|             0|            0|             0|                 0|               0|           1|            0|          0|            0|             0|                        0|            0|         0|               0|              0|              1|               0|             0|           1|             0|\n",
      "|   2273|     2|   2.0|       36|             0|            0|             0|                 0|               0|           0|            0|          0|            1|             0|                        0|            1|         0|               0|              0|              1|               0|             0|           1|             0|\n",
      "|   2294|     2|   4.5|       36|             0|            0|             0|                 0|               1|           0|            0|          0|            0|             0|                        0|            1|         0|               0|              1|              0|               1|             1|           0|             0|\n",
      "|   2324|     2|   1.5|       36|             0|            0|             0|                 0|               0|           1|            0|          0|            0|             1|                        0|            1|         1|               0|              0|              0|               0|             0|           0|             0|\n",
      "|   2355|     2|   4.5|       36|             0|            0|             0|                 0|               1|           0|            0|          0|            0|             0|                        0|            1|         0|               0|              1|              0|               1|             0|           0|             0|\n",
      "|   2359|     2|   5.0|       36|             0|            0|             0|                 0|               0|           0|            0|          0|            0|             0|                        0|            1|         0|               0|              0|              0|               0|             0|           0|             0|\n",
      "|   2406|     2|   2.5|       36|             0|            0|             0|                 0|               0|           0|            0|          0|            1|             1|                        0|            1|         0|               0|              0|              0|               1|             0|           0|             0|\n",
      "|   2470|     2|   5.0|       36|             0|            0|             0|                 0|               0|           0|            0|          0|            0|             0|                        0|            1|         0|               0|              0|              0|               1|             0|           0|             0|\n",
      "|   2496|     2|   4.0|       36|             0|            0|             0|                 0|               0|           0|            0|          0|            0|             1|                        0|            1|         0|               0|              0|              0|               0|             0|           0|             0|\n",
      "|   2501|     2|   4.5|       36|             0|            0|             0|                 0|               0|           1|            0|          0|            0|             0|                        0|            0|         0|               0|              0|              0|               0|             0|           0|             0|\n",
      "|   2571|     2|   5.0|       36|             0|            0|             0|                 0|               0|           0|            1|          0|            1|             0|                        0|            0|         0|               0|              0|              1|               0|             0|           0|             0|\n",
      "|   2617|     2|   4.0|       36|             0|            1|             0|                 0|               0|           0|            0|          0|            1|             0|                        0|            1|         0|               0|              0|              1|               1|             1|           0|             0|\n",
      "|   2640|     2|   5.0|       36|             0|            0|             0|                 0|               0|           0|            1|          0|            1|             0|                        0|            0|         0|               0|              0|              0|               1|             0|           0|             0|\n",
      "|   2643|     2|   0.5|       36|             0|            0|             0|                 0|               0|           0|            1|          0|            1|             0|                        0|            0|         0|               0|              0|              0|               1|             0|           0|             0|\n",
      "|   2694|     2|   4.0|       36|             0|            0|             0|                 0|               0|           0|            0|          0|            0|             0|                        0|            1|         0|               0|              0|              0|               0|             0|           0|             0|\n",
      "|   2720|     2|   0.5|       36|             0|            0|             0|                 0|               0|           0|            0|          0|            1|             0|                        0|            1|         0|               0|              1|              0|               1|             0|           0|             0|\n",
      "|   2745|     2|   5.0|       36|             0|            0|             0|                 0|               0|           1|            0|          0|            0|             0|                        0|            0|         0|               0|              0|              0|               0|             0|           0|             0|\n",
      "|   2761|     2|   0.5|       36|             0|            0|             0|                 0|               1|           1|            1|          0|            0|             0|                        0|            0|         0|               0|              1|              0|               1|             0|           0|             0|\n",
      "|   2762|     2|   4.0|       36|             1|            1|             0|                 0|               0|           1|            0|          0|            0|             0|                        0|            0|         0|               0|              0|              0|               0|             0|           0|             0|\n",
      "|   2797|     2|   1.0|       36|             0|            0|             0|                 0|               0|           1|            0|          0|            0|             1|                        0|            1|         0|               0|              0|              0|               0|             1|           0|             0|\n",
      "|   2918|     2|   4.5|       36|             0|            0|             0|                 0|               0|           0|            0|          0|            0|             0|                        0|            1|         0|               0|              0|              0|               0|             0|           0|             0|\n",
      "|   2987|     2|   0.5|       36|             1|            0|             0|                 0|               1|           0|            0|          0|            0|             0|                        0|            1|         0|               0|              1|              0|               1|             1|           1|             0|\n",
      "|   3098|     2|   3.0|       36|             0|            0|             0|                 0|               0|           1|            0|          0|            0|             0|                        0|            0|         0|               0|              0|              0|               0|             0|           0|             0|\n",
      "|   3105|     2|   4.0|       36|             1|            0|             0|                 0|               0|           1|            0|          0|            0|             0|                        0|            0|         0|               0|              0|              0|               0|             0|           0|             0|\n",
      "|   3107|     2|   3.0|       36|             0|            0|             0|                 0|               0|           1|            0|          0|            1|             0|                        0|            0|         0|               0|              0|              0|               0|             0|           0|             0|\n",
      "|   3114|     2|   4.5|       36|             0|            0|             0|                 0|               1|           0|            0|          0|            0|             0|                        0|            1|         0|               0|              1|              0|               1|             1|           0|             0|\n",
      "|   3148|     2|   2.0|       36|             0|            0|             0|                 0|               0|           1|            0|          0|            0|             0|                        0|            0|         0|               0|              0|              0|               0|             0|           0|             0|\n",
      "|   3175|     2|   3.5|       36|             0|            0|             0|                 0|               0|           0|            1|          0|            0|             0|                        0|            1|         0|               0|              0|              0|               1|             0|           0|             0|\n",
      "|   3360|     2|   5.0|       36|             0|            0|             0|                 0|               0|           1|            0|          0|            0|             1|                        0|            0|         0|               0|              0|              0|               0|             0|           0|             0|\n",
      "|   3396|     2|   4.5|       36|             0|            0|             0|                 0|               0|           0|            0|          0|            0|             0|                        0|            1|         0|               0|              1|              0|               1|             0|           0|             1|\n",
      "|   3479|     2|   2.0|       36|             0|            0|             0|                 0|               0|           0|            0|          0|            0|             1|                        0|            0|         0|               0|              0|              0|               1|             1|           0|             0|\n",
      "|   3510|     2|   4.0|       36|             0|            0|             0|                 0|               0|           1|            0|          0|            0|             0|                        0|            0|         0|               0|              0|              1|               0|             0|           0|             0|\n",
      "|   3578|     2|   5.0|       36|             0|            0|             0|                 0|               0|           1|            0|          0|            1|             0|                        0|            0|         0|               0|              0|              0|               1|             0|           0|             0|\n",
      "|   3793|     2|   5.0|       36|             0|            0|             0|                 0|               0|           0|            1|          0|            1|             0|                        0|            0|         0|               0|              0|              0|               1|             0|           0|             0|\n",
      "|   3889|     2|   2.5|       36|             0|            0|             0|                 0|               0|           0|            0|          0|            1|             0|                        0|            0|         0|               0|              0|              0|               1|             1|           0|             0|\n",
      "|   3916|     2|   3.0|       36|             0|            0|             0|                 0|               0|           1|            0|          0|            0|             0|                        0|            0|         0|               0|              0|              0|               0|             0|           0|             0|\n",
      "|   3948|     2|   3.0|       36|             0|            0|             0|                 0|               0|           0|            0|          0|            0|             0|                        0|            1|         0|               0|              0|              0|               0|             0|           0|             0|\n",
      "|   3994|     2|   3.0|       36|             0|            0|             0|                 0|               0|           1|            1|          0|            0|             0|                        0|            0|         0|               0|              0|              0|               0|             0|           0|             0|\n",
      "|   4016|     2|   5.0|       36|             0|            0|             0|                 0|               1|           0|            0|          0|            0|             0|                        0|            1|         0|               0|              1|              0|               1|             1|           0|             0|\n",
      "|   4019|     2|   3.5|       36|             0|            0|             0|                 0|               0|           1|            0|          0|            0|             0|                        0|            0|         0|               0|              0|              0|               0|             0|           0|             0|\n",
      "|   4022|     2|   5.0|       36|             0|            0|             0|                 0|               0|           1|            0|          0|            0|             0|                        0|            0|         0|               0|              0|              0|               0|             0|           0|             0|\n",
      "|   4023|     2|   3.0|       36|             0|            0|             0|                 0|               0|           1|            0|          0|            0|             1|                        0|            1|         0|               0|              0|              0|               0|             0|           0|             0|\n",
      "|   4103|     2|   4.5|       36|             0|            0|             0|                 0|               0|           1|            0|          0|            1|             0|                        0|            0|         1|               0|              0|              0|               1|             0|           0|             0|\n",
      "|   4299|     2|   4.5|       36|             0|            0|             0|                 0|               0|           0|            0|          0|            1|             1|                        0|            1|         0|               0|              0|              0|               0|             0|           0|             0|\n",
      "|   4306|     2|   4.5|       36|             0|            0|             0|                 0|               1|           0|            0|          0|            0|             1|                        0|            1|         0|               0|              1|              0|               1|             1|           0|             0|\n",
      "|   4535|     2|   3.0|       36|             0|            0|             1|                 0|               0|           1|            0|          0|            0|             1|                        0|            0|         0|               0|              0|              0|               0|             0|           0|             0|\n",
      "|   4571|     2|   1.5|       36|             0|            0|             0|                 0|               0|           0|            1|          0|            0|             0|                        0|            1|         0|               0|              0|              0|               1|             0|           0|             0|\n",
      "|   4720|     2|   4.0|       36|             1|            1|             0|                 0|               0|           1|            0|          0|            0|             0|                        0|            0|         0|               0|              0|              1|               0|             0|           0|             0|\n",
      "|   4857|     2|   1.0|       36|             0|            0|             0|                 0|               0|           1|            0|          0|            0|             0|                        0|            0|         0|               0|              0|              0|               0|             0|           0|             1|\n",
      "|   4874|     2|   4.5|       36|             1|            0|             0|                 0|               0|           1|            1|          0|            0|             0|                        0|            0|         0|               0|              0|              0|               0|             1|           0|             0|\n",
      "+-------+------+------+---------+--------------+-------------+--------------+------------------+----------------+------------+-------------+-----------+-------------+--------------+-------------------------+-------------+----------+----------------+---------------+---------------+----------------+--------------+------------+--------------+\n",
      "only showing top 200 rows\n",
      "\n"
     ]
    }
   ],
   "source": [
    "from pyspark.sql import SparkSession\n",
    "from pyspark.ml.feature import OneHotEncoder, VectorAssembler\n",
    "from pyspark.ml.regression import RandomForestRegressor\n",
    "from pyspark.ml.evaluation import RegressionEvaluator\n",
    "import os\n",
    "import pickle\n",
    "from pyspark.sql.functions import udf\n",
    "from pyspark.sql.types import StringType\n",
    "from pyspark.sql.types import IntegerType\n",
    "from pyspark.ml import Pipeline\n",
    "\n",
    "# spark = SparkSession.builder.appName(\"PrepareData\").getOrCreate()\n",
    "# 创建SparkSession\n",
    "spark = SparkSession.builder.appName('movie_lens').\\\n",
    "  config('spark.driver.memory', '8g') \\\n",
    "  .config('spark.executor.memory', '8g') \\\n",
    "  .getOrCreate()\n",
    "\n",
    "\n",
    "# Read movie data\n",
    "data_path = \"dataset/\"\n",
    "df_movie = spark.read.csv(\n",
    "    \"dataset/movies.csv\", header=True,inferSchema=True)\n",
    "\n",
    "# # Extract movie year\n",
    "# def parse_year(x):\n",
    "#     year = x.strip()[-5:-1]\n",
    "#     if year.startswith(\"19\"):\n",
    "#         return year\n",
    "#     return \"unknown\"\n",
    "\n",
    "# parse_year_udf = udf(parse_year, IntegerType())\n",
    "# df_movie = df_movie.withColumn(\"movie_year\", parse_year_udf(df_movie['title'])).drop('title')\n",
    "\n",
    "df_movie=df_movie.drop('title')\n",
    "\n",
    "# One-hot encoding genres\n",
    "genres = df_movie.select(\"genres\").distinct().rdd.flatMap(lambda x: x).collect()\n",
    "genres_unique = list(set([i for sublist in genres for i in sublist.split(\"|\")]))\n",
    "\n",
    "for genres_name in genres_unique:\n",
    "    col = \"genres_\" + genres_name\n",
    "    df_movie = df_movie.withColumn(col, (df_movie.genres.contains(genres_name)).cast(IntegerType()))\n",
    "\n",
    "df_movie = df_movie.drop('genres')\n",
    "genres_col_names = [\"genres_\" + x for x in genres_unique]\n",
    "\n",
    "# Read rating data\n",
    "\n",
    "df_rating = spark.read.csv(\n",
    "    \"dataset/ratings.csv\",\n",
    "    header=True,\n",
    "    inferSchema=True\n",
    ")\n",
    "df_rating = df_rating.withColumn('timestamp', (df_rating['timestamp'] / (365 * 24 * 3600)).cast(IntegerType()))\n",
    "\n",
    "# Data merge\n",
    "df = df_rating.join(df_movie, 'movieId')\n",
    "\n",
    "\n",
    "\n",
    "df_X = df.select([\"userId\", \"movieId\"] + genres_col_names + [\"timestamp\"])\n",
    "df_y = df.select([\"rating\"])\n",
    "\n",
    "print(\"Data read completed\")\n",
    "\n",
    "df.printSchema()\n",
    "df.show(200)\n"
   ]
  },
  {
   "cell_type": "code",
   "execution_count": 5,
   "metadata": {},
   "outputs": [
    {
     "name": "stderr",
     "output_type": "stream",
     "text": [
      "23/11/26 09:19:37 WARN MemoryStore: Not enough space to cache rdd_130_11 in memory! (computed 230.4 MiB so far)\n",
      "23/11/26 09:19:37 WARN BlockManager: Persisting block rdd_130_11 to disk instead.\n",
      "23/11/26 09:19:37 WARN MemoryStore: Not enough space to cache rdd_130_14 in memory! (computed 230.4 MiB so far)\n",
      "23/11/26 09:19:37 WARN BlockManager: Persisting block rdd_130_14 to disk instead.\n",
      "23/11/26 09:19:39 WARN MemoryStore: Not enough space to cache rdd_130_13 in memory! (computed 230.4 MiB so far)\n",
      "23/11/26 09:19:39 WARN BlockManager: Persisting block rdd_130_13 to disk instead.\n",
      "23/11/26 09:19:40 WARN MemoryStore: Not enough space to cache rdd_130_6 in memory! (computed 230.4 MiB so far)\n",
      "23/11/26 09:19:40 WARN BlockManager: Persisting block rdd_130_6 to disk instead.\n",
      "23/11/26 09:19:40 WARN MemoryStore: Not enough space to cache rdd_130_8 in memory! (computed 153.6 MiB so far)\n",
      "23/11/26 09:19:40 WARN BlockManager: Persisting block rdd_130_8 to disk instead.\n",
      "23/11/26 09:19:40 WARN MemoryStore: Not enough space to cache rdd_130_3 in memory! (computed 153.6 MiB so far)\n",
      "23/11/26 09:19:40 WARN BlockManager: Persisting block rdd_130_3 to disk instead.\n",
      "23/11/26 09:19:40 WARN MemoryStore: Not enough space to cache rdd_130_15 in memory! (computed 230.4 MiB so far)\n",
      "23/11/26 09:19:40 WARN BlockManager: Persisting block rdd_130_15 to disk instead.\n",
      "23/11/26 09:19:40 WARN MemoryStore: Not enough space to cache rdd_130_1 in memory! (computed 230.4 MiB so far)\n",
      "23/11/26 09:19:40 WARN BlockManager: Persisting block rdd_130_1 to disk instead.\n",
      "23/11/26 09:19:40 WARN MemoryStore: Not enough space to cache rdd_130_7 in memory! (computed 230.4 MiB so far)\n",
      "23/11/26 09:19:40 WARN BlockManager: Persisting block rdd_130_7 to disk instead.\n",
      "23/11/26 09:19:40 WARN MemoryStore: Not enough space to cache rdd_130_9 in memory! (computed 230.4 MiB so far)\n",
      "23/11/26 09:19:40 WARN BlockManager: Persisting block rdd_130_9 to disk instead.\n",
      "23/11/26 09:19:40 WARN MemoryStore: Not enough space to cache rdd_130_2 in memory! (computed 230.4 MiB so far)\n",
      "23/11/26 09:19:40 WARN BlockManager: Persisting block rdd_130_2 to disk instead.\n",
      "23/11/26 09:19:40 WARN MemoryStore: Not enough space to cache rdd_130_0 in memory! (computed 153.6 MiB so far)\n",
      "23/11/26 09:19:40 WARN BlockManager: Persisting block rdd_130_0 to disk instead.\n",
      "23/11/26 09:19:40 WARN MemoryStore: Not enough space to cache rdd_130_12 in memory! (computed 230.4 MiB so far)\n",
      "23/11/26 09:19:40 WARN BlockManager: Persisting block rdd_130_12 to disk instead.\n",
      "23/11/26 09:19:41 WARN MemoryStore: Not enough space to cache rdd_130_5 in memory! (computed 230.4 MiB so far)\n",
      "23/11/26 09:19:41 WARN BlockManager: Persisting block rdd_130_5 to disk instead.\n",
      "23/11/26 09:19:41 WARN MemoryStore: Not enough space to cache rdd_130_10 in memory! (computed 230.4 MiB so far)\n",
      "23/11/26 09:19:41 WARN BlockManager: Persisting block rdd_130_10 to disk instead.\n",
      "23/11/26 09:19:41 WARN MemoryStore: Not enough space to cache rdd_130_4 in memory! (computed 230.4 MiB so far)\n",
      "23/11/26 09:19:41 WARN BlockManager: Persisting block rdd_130_4 to disk instead.\n",
      "23/11/26 09:19:49 WARN MemoryStore: Not enough space to cache rdd_130_5 in memory! (computed 230.4 MiB so far)\n",
      "23/11/26 09:19:49 WARN MemoryStore: Not enough space to cache rdd_130_4 in memory! (computed 230.4 MiB so far)\n",
      "23/11/26 09:19:49 WARN MemoryStore: Not enough space to cache rdd_130_3 in memory! (computed 153.6 MiB so far)\n",
      "23/11/26 09:19:52 WARN MemoryStore: Not enough space to cache rdd_130_0 in memory! (computed 153.6 MiB so far)\n",
      "23/11/26 09:19:52 WARN MemoryStore: Not enough space to cache rdd_130_8 in memory! (computed 230.4 MiB so far)\n",
      "23/11/26 09:20:02 WARN MemoryStore: Not enough space to cache rdd_130_4 in memory! (computed 153.6 MiB so far)\n",
      "23/11/26 09:20:02 WARN MemoryStore: Not enough space to cache rdd_130_0 in memory! (computed 153.6 MiB so far)\n",
      "23/11/26 09:20:05 WARN MemoryStore: Not enough space to cache rdd_130_5 in memory! (computed 230.4 MiB so far)\n",
      "23/11/26 09:20:05 WARN MemoryStore: Not enough space to cache rdd_130_8 in memory! (computed 230.4 MiB so far)\n",
      "23/11/26 09:20:05 WARN MemoryStore: Not enough space to cache rdd_130_3 in memory! (computed 230.4 MiB so far)\n",
      "23/11/26 09:20:12 WARN MemoryStore: Not enough space to cache rdd_130_3 in memory! (computed 153.6 MiB so far)\n",
      "23/11/26 09:20:12 WARN MemoryStore: Not enough space to cache rdd_130_8 in memory! (computed 153.6 MiB so far)\n",
      "23/11/26 09:20:12 WARN MemoryStore: Not enough space to cache rdd_130_4 in memory! (computed 230.4 MiB so far)\n",
      "23/11/26 09:20:12 WARN MemoryStore: Not enough space to cache rdd_130_0 in memory! (computed 230.4 MiB so far)\n",
      "23/11/26 09:20:12 WARN MemoryStore: Not enough space to cache rdd_130_5 in memory! (computed 230.4 MiB so far)\n",
      "23/11/26 09:20:23 WARN MemoryStore: Not enough space to cache rdd_130_3 in memory! (computed 153.6 MiB so far)\n",
      "23/11/26 09:20:23 WARN MemoryStore: Not enough space to cache rdd_130_4 in memory! (computed 153.6 MiB so far)\n",
      "23/11/26 09:20:23 WARN MemoryStore: Not enough space to cache rdd_130_5 in memory! (computed 230.4 MiB so far)\n",
      "23/11/26 09:20:23 WARN MemoryStore: Not enough space to cache rdd_130_8 in memory! (computed 230.4 MiB so far)\n",
      "23/11/26 09:20:23 WARN MemoryStore: Not enough space to cache rdd_130_0 in memory! (computed 230.4 MiB so far)\n",
      "23/11/26 09:20:30 WARN MemoryStore: Not enough space to cache rdd_130_3 in memory! (computed 153.6 MiB so far)\n",
      "23/11/26 09:20:30 WARN MemoryStore: Not enough space to cache rdd_130_8 in memory! (computed 153.6 MiB so far)\n",
      "23/11/26 09:20:33 WARN MemoryStore: Not enough space to cache rdd_130_0 in memory! (computed 230.4 MiB so far)\n",
      "23/11/26 09:20:33 WARN MemoryStore: Not enough space to cache rdd_130_4 in memory! (computed 230.4 MiB so far)\n",
      "23/11/26 09:20:33 WARN MemoryStore: Not enough space to cache rdd_130_5 in memory! (computed 230.4 MiB so far)\n",
      "[Stage 49:====================================================>   (15 + 1) / 16]\r"
     ]
    },
    {
     "name": "stdout",
     "output_type": "stream",
     "text": [
      "Root Mean Squared Error (RMSE) on test data = 1.03488\n"
     ]
    },
    {
     "name": "stderr",
     "output_type": "stream",
     "text": [
      "                                                                                \r"
     ]
    }
   ],
   "source": [
    "assembler = VectorAssembler(\n",
    "    inputCols=df_X.columns,\n",
    "    outputCol=\"features\"\n",
    ")\n",
    "\n",
    "df = assembler.transform(df)\n",
    "\n",
    "# 选择特征和目标列\n",
    "df = df.select(\"features\", \"rating\")\n",
    "\n",
    "# 划分数据集为训练集和测试集\n",
    "(training_data, test_data) = df.randomSplit([0.7, 0.3])\n",
    "\n",
    "rf = RandomForestRegressor(featuresCol=\"features\", labelCol=\"rating\")\n",
    "\n",
    "# 训练模型\n",
    "model_rf = rf.fit(training_data)\n",
    "\n",
    "# Predicting on test data\n",
    "predictions_rf = model_rf.transform(test_data)\n",
    "\n",
    "\n",
    "# Evaluate the model\n",
    "evaluator = RegressionEvaluator(labelCol=\"rating\", predictionCol=\"prediction\", metricName=\"rmse\")\n",
    "rmse = evaluator.evaluate(predictions_rf)\n",
    "print(\"Root Mean Squared Error (RMSE) on test data = %g\" % rmse)"
   ]
  },
  {
   "cell_type": "code",
   "execution_count": 10,
   "metadata": {},
   "outputs": [
    {
     "name": "stderr",
     "output_type": "stream",
     "text": [
      "[Stage 69:=============================================>          (13 + 3) / 16]\r"
     ]
    },
    {
     "name": "stdout",
     "output_type": "stream",
     "text": [
      "Root Mean Squared Error (RMSE) on test data = 1.03488\n"
     ]
    },
    {
     "name": "stderr",
     "output_type": "stream",
     "text": [
      "                                                                                \r"
     ]
    }
   ],
   "source": [
    "# model_rf.save(\"model_rf_1\")\n",
    "\n",
    "from pyspark.ml.regression import RandomForestRegressionModel\n",
    "loaded_model = RandomForestRegressionModel.load(\"model_rf_1\")\n",
    "\n",
    "predictions_1 = loaded_model.transform(test_data)\n",
    "rmse = evaluator.evaluate(predictions_1)\n",
    "print(\"Root Mean Squared Error (RMSE) on test data = %g\" % rmse)"
   ]
  }
 ],
 "metadata": {
  "kernelspec": {
   "display_name": "Python 3",
   "language": "python",
   "name": "python3"
  },
  "language_info": {
   "codemirror_mode": {
    "name": "ipython",
    "version": 3
   },
   "file_extension": ".py",
   "mimetype": "text/x-python",
   "name": "python",
   "nbconvert_exporter": "python",
   "pygments_lexer": "ipython3",
   "version": "3.8.18"
  }
 },
 "nbformat": 4,
 "nbformat_minor": 0
}
